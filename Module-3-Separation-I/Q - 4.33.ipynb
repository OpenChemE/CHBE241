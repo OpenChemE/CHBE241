{
 "cells": [
  {
   "cell_type": "markdown",
   "metadata": {},
   "source": [
    "# Q &ndash; 4.33\n",
    "\n",
    "A waste stream containing 5.15 wt% chromium enters a waste water treatment process. The treatment unit has a maximum intake capacity of 4500 kg wastewater/h. The treatment unit extracts 95% of the chromium in the feed. The residual liquid leaving the treatment unit is sent to a waste lagoon. If there is an excess of waste water (greater than the 4500 kg/h capacity), the excess waste water bypasses the treatment unit and combines with the residual liquid stream that goes to the waste lagoon. Supose 6000 kg wastewater/h enters the process.\n",
    "\n",
    "a) Draw and label a flowchart of the entire process.\n",
    "\n",
    "b) Perform a degree of analysis on each unit operation and determin which unit should be solved first.\n",
    "\n",
    "c) Solve the entire process."
   ]
  }
 ],
 "metadata": {
  "kernelspec": {
   "display_name": "Python 3",
   "language": "python",
   "name": "python3"
  },
  "language_info": {
   "codemirror_mode": {
    "name": "ipython",
    "version": 3
   },
   "file_extension": ".py",
   "mimetype": "text/x-python",
   "name": "python",
   "nbconvert_exporter": "python",
   "pygments_lexer": "ipython3",
   "version": "3.6.1"
  }
 },
 "nbformat": 4,
 "nbformat_minor": 2
}
