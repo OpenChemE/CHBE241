{
 "cells": [
  {
   "cell_type": "markdown",
   "metadata": {},
   "source": [
    "# 3.8 &ndash;Separator\n",
    "\n",
    "\n",
    "### Learning Objectives\n",
    "\n",
    "By the end of this notebook, you shdould be able to:\n",
    "\n",
    "- Identify a separator process and set up the appropriate assumptions to solve\n",
    "- Properly draw and label a separator diagram\n",
    "- Correctly use vapor and liquid fractions in mass balances on the separator\n",
    "\n",
    "\n",
    "---\n",
    "\n",
    "### Introduction\n",
    "Separation is essential in chemical processes, maybe it's purifying the end products or fractioning a mixture into it's constituents for recycling or different reactions.\n",
    "\n",
    "By the end of the notebook, mass balances to deduce the compositions of the product streams and their masses. **We will not be covering the energy balances associated with a separator in this notebook.**\n",
    "\n",
    "Note: We will not be covering Vapour-Liquid based separation, it will be covered in the next notebook. Sorry fam.\n",
    "\n",
    "---"
   ]
  },
  {
   "cell_type": "markdown",
   "metadata": {},
   "source": [
    "### Separator BFD\n",
    "\n",
    "![Figure 1.](../figures/Module-3/SplitterExample.png)\n",
    "<div style=\"text-align:center\">Figure 1.</div>\n",
    "\n",
    "---"
   ]
  },
  {
   "cell_type": "markdown",
   "metadata": {},
   "source": [
    "Figure 1. is the block flow diagram for a separator ($T$ = Toluene and $B$ = Benzene). Think of a separator as a more complicated splitter. A separator is characterized with a single input, followed by 2 or more product streams **with different molar/mass compositions, sometimes even states of matter, than the feed stream.** \n",
    "\n",
    "For instance the overhead stream could be composed of gaseous feed versus the bottom product where the feed is still liquid. VLE calculations need to be taken into account in terms of the energy and masses conserved. \n",
    "\n",
    "#### Noteworthy in Figure 1:\n",
    "\n",
    "- A volumetric flow rate is given for the feed stream, but mass flow rates and fractions will be needed for balances. The mass flow rate of the stream should therefore be considered an unknown process variable and labeled as such on the chart. Its value will be determined from the known volumetric flow rate and density of the feed stream.\n",
    "$$$$\n",
    "- Since mass balances will be used, the given component mole fractions in the overhead product stream will have to be converted to mass fractions. The mass fractions are accordingly labeled as unknowns.\n",
    "\n",
    "---\n"
   ]
  },
  {
   "cell_type": "markdown",
   "metadata": {},
   "source": [
    "### Steps to solve\n",
    "\n",
    "1. List all assumptions and relationshps. If the input stream does not have a flow rate listed in the question or the diagram, assume a mass or volumteric flow rate of a random number, preferrably a mass flow rate with a nice round number like 100 $kg/h$. \n",
    "$$$$\n",
    "2. Draw and label the flow chart based on the question. We will not be considering chemical reactions between constituents of the fresh feed and reactor feed in the feed streams, only when they're in the separator.\n",
    "$$$$\n",
    "3. Write expressions for the quantities requested in the problem statement. (e.g. $m_3$ = $m_{B3}$ + $m_{T3}$, $x_B$ = $ \\frac{m_{B3}}{m_3}$). The expressions should be written to help in solving for the missing parameters of the process.\n",
    "$$$$\n",
    "4. Perform a degree-of-freedom analysis on the process to determine if it is solvable. \n",
    "$$$$\n",
    "5. Convert all mixed units to one uniform units. In most cases, it would be converting all the units to masses, but in the case of reactive systems, you'd want to convert them to moles per unit time.\n",
    "$$$$\n",
    "6. **Do the algebra.** \n",
    "\n",
    "---"
   ]
  },
  {
   "cell_type": "markdown",
   "metadata": {},
   "source": [
    "### Example question \n",
    "\n",
    "The separator above deals with separation of two liquids: water and ethanol. The separator is a distillation column, which will vaporize the ethanol from the water due to the lower boiling point of alcohol. \n",
    "\n",
    "\n",
    "**What are the mass fractions of the bottom and overhead feed?**\n",
    "\n",
    "---"
   ]
  },
  {
   "cell_type": "markdown",
   "metadata": {},
   "source": [
    "## Python utilization"
   ]
  },
  {
   "cell_type": "code",
   "execution_count": 3,
   "metadata": {
    "collapsed": true
   },
   "outputs": [],
   "source": [
    "##Python time"
   ]
  },
  {
   "cell_type": "markdown",
   "metadata": {},
   "source": [
    "## Works cited\n",
    "---"
   ]
  },
  {
   "cell_type": "code",
   "execution_count": null,
   "metadata": {
    "collapsed": true
   },
   "outputs": [],
   "source": []
  }
 ],
 "metadata": {
  "anaconda-cloud": {},
  "kernelspec": {
   "display_name": "Python 3",
   "language": "python",
   "name": "python3"
  },
  "language_info": {
   "codemirror_mode": {
    "name": "ipython",
    "version": 3
   },
   "file_extension": ".py",
   "mimetype": "text/x-python",
   "name": "python",
   "nbconvert_exporter": "python",
   "pygments_lexer": "ipython3",
   "version": "3.6.1"
  }
 },
 "nbformat": 4,
 "nbformat_minor": 1
}
