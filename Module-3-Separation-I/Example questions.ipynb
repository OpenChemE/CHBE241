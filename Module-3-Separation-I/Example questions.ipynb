{
 "cells": [
  {
   "cell_type": "markdown",
   "metadata": {},
   "source": [
    "## Equilibrium \n",
    "\n",
    "Example 1\n",
    "A salt mixture of 1000 ppm and above is deemed uninhabitable by the society of divers in Australia. In order to test a new type of chemical that allows salt to percipitate out of seawater, scientists need to calculate what is the resulting solubility of the salt in order for it to "
   ]
  }
 ],
 "metadata": {
  "kernelspec": {
   "display_name": "Python [default]",
   "language": "python",
   "name": "python3"
  },
  "language_info": {
   "codemirror_mode": {
    "name": "ipython",
    "version": 3
   },
   "file_extension": ".py",
   "mimetype": "text/x-python",
   "name": "python",
   "nbconvert_exporter": "python",
   "pygments_lexer": "ipython3",
   "version": "3.5.2"
  }
 },
 "nbformat": 4,
 "nbformat_minor": 1
}
