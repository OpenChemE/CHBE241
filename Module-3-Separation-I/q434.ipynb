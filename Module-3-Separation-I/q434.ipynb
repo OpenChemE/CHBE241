{
 "cells": [
  {
   "cell_type": "markdown",
   "metadata": {},
   "source": [
    "# Question similar to 4.34\n",
    "\n",
    "\n",
    "> An evaporation process is often employed to obtain dry salts in  a mixture. The equipment to dry the salt is the evaporator and a crystallizer. The crystallizer filters out the solid and leaves behind liquid which is often recycled to maximize yield. A diagram of this process is modeled exactly in eample 4.5-2.  For us, we are looking to separate NaCo3 from water. the Feed is a 19.6 wt% of NaCO3, The crystallizer filters out solid NaCO3 and a bit of the NaCO3 solution at 40 wt% NaCO3. The solid to solution ratio is 10kg:1kg. The filtrate is also a 40 wt% solution and is recycled back to the evaporator. 45% of the water is evaporated by the evaporator. The evaporator has a maximum capacity of 175 kg/s.\n",
    "\n",
    "\n",
    "Assume the process is operating at maximum capacity. Draw and label a flowchart and do the\n",
    "degree-of-freedom analysis for the overall system, the recycle–fresh feed mixing point, the evaporator,\n",
    "and the crystallizer. Then write in an efficient order (minimizing simultaneous equations)\n",
    "the equations you would solve to determine all unknown stream variables. In each equation, circle\n",
    "the variable for which you would solve, but don’t do the calculations.\n",
    "\n",
    "\n",
    "Calculate the maximum production rate of solid K SO , the rate at which fresh feed must be\n",
    "supplied to achieve this production rate, and the ratio kg recycle/kg fresh feed.\n",
    "\n",
    "\n",
    "Calculate the composition and feed rate of the stream entering the crystallizer if the process is\n",
    "scaled to 75% of its maximum capacity.\n",
    "\n",
    "\n",
    "The wet filter cake is subjected to another operation after leaving the filter. Suggest what it might\n",
    "be. Also, list what you think the principal operating costs for this process might be.\n",
    "\n",
    "\n",
    "Use an equation-solving computer program to solve the equations derived in part (a). Verify\n",
    "that you get the same solutions determined in part (b)."
   ]
  },
  {
   "cell_type": "code",
   "execution_count": null,
   "metadata": {
    "collapsed": true
   },
   "outputs": [],
   "source": []
  }
 ],
 "metadata": {
  "kernelspec": {
   "display_name": "Python 3",
   "language": "python",
   "name": "python3"
  },
  "language_info": {
   "codemirror_mode": {
    "name": "ipython",
    "version": 3
   },
   "file_extension": ".py",
   "mimetype": "text/x-python",
   "name": "python",
   "nbconvert_exporter": "python",
   "pygments_lexer": "ipython3",
   "version": "3.6.1"
  }
 },
 "nbformat": 4,
 "nbformat_minor": 2
}
