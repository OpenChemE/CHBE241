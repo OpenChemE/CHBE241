{
 "cells": [
  {
   "cell_type": "markdown",
   "metadata": {},
   "source": [
    "## Equilibrium \n",
    "\n",
    "Example 1 - Solid-Liquid equilibrium\n",
    "\n",
    "One hundred kilograms of a saturated aqueous solution of $AgNO_3$ at 100 &deg;C is cooled to 20 &deg;C, thereby forming $AgNO_3$ crystals, which are filtered from the remaining solution. The wet filter cake, which contains 80% solid crystals and 20% saturated solution by mass, passes to a dryer in which the remaining water is vaporized. Calculate the fraction of the $AgNO_3$ in the feed stream eventually recovered as dry crystals and the amount of water that must be removed in the drying stage."
   ]
  },
  {
   "cell_type": "markdown",
   "metadata": {},
   "source": [
    "Example 2 - Solid- Vapor equilibrium <b>Question: Is this the right type of equilibrium we are supposed to talk about</b>\n",
    "\n",
    "Sublimation of CO2\n",
    "\n",
    "- Dry ice is used to cool portable ice cream coolers more efficiently than regular ice. In order to cool 25 pints of Haagen Dasz ice cream and keep them just at the freezing point, ____ pounds of dry ice needs to be used. Given that dry ice is ____% how much dry ice is given off?\n",
    "\n",
    "- 100 litres of carbon dioxide gas is cooled in a pressure chamber of 2 atm and -300 &deg;C. What is the volumteric composition of the solid-vapour mixture that forms in the end?\n"
   ]
  },
  {
   "cell_type": "markdown",
   "metadata": {},
   "source": [
    "Example 3 - Liquid - Liquid Equilibrium\n"
   ]
  },
  {
   "cell_type": "code",
   "execution_count": null,
   "metadata": {
    "collapsed": true
   },
   "outputs": [],
   "source": []
  }
 ],
 "metadata": {
  "anaconda-cloud": {},
  "kernelspec": {
   "display_name": "Python [default]",
   "language": "python",
   "name": "python3"
  },
  "language_info": {
   "codemirror_mode": {
    "name": "ipython",
    "version": 3
   },
   "file_extension": ".py",
   "mimetype": "text/x-python",
   "name": "python",
   "nbconvert_exporter": "python",
   "pygments_lexer": "ipython3",
   "version": "3.5.2"
  }
 },
 "nbformat": 4,
 "nbformat_minor": 1
}
