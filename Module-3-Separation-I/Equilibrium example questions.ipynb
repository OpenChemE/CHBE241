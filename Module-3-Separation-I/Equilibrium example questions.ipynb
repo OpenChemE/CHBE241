{
 "cells": [
  {
   "cell_type": "markdown",
   "metadata": {},
   "source": [
    "## Equilibrium \n",
    "\n",
    "Example 1 - Solid-Liquid equilibrium\n",
    "\n",
    "One hundred kilograms of a saturated aqueous solution of $AgNO_3$ at 100 &deg;C is cooled to 20 &deg;C, thereby forming $AgNO_3$ solution, which is filtered from the remaining solution. The wet filter cake, _which contains 80% solid crystals and 20% saturated solution by mass_, is produced. Calculate the mass of solid $AgNO_3$ and $H_2O$ in the fresh feed and in the wet filter cake.\n",
    "\n",
    "The solubility of $AgNO_3$ at 100 &deg;C is 952g/100g $H_2O$ and 222g/100g $H_2O$ at 20 &deg;C."
   ]
  },
  {
   "cell_type": "markdown",
   "metadata": {},
   "source": [
    "### Step 1\n",
    "\n",
    "Write out all assumptions:\n",
    "\n",
    "- Basis: 100 kg\n",
    "- Saturated solution of $AgNO_3$ from 100 &deg;C to 20 &deg;C &rarr Change in solubility\n",
    "\n",
    "\n",
    "### Step 2\n",
    "\n",
    "Draw a diagram\n",
    "\n",
    "![Figure 1.](../figures/Module-3/Equilibrium-example-question-1.svg)\n",
    "\n",
    "### Step 3\n",
    "\n",
    "Find the composition of the basis, filtrate and wet filter cake, and convert all units to a single, uniform unit.\n",
    "- Composition of 100 kg basis at 100 &deg;C:\n",
    "    - $AgNO_3$ fraction =  $\\frac{952 \\space g}{100 \\space g}$ = $\\frac{952 \\space g}{100 \\space g \\space 952 \\space g}$ = $0.905g \\space AgNO_3$\n",
    "    \n",
    "    - $H_2O$ fraction = $1 \\space - 0.905$ = $0.095g \\space AgNO_3$\n",
    "\n",
    "- Composition of filtrate and solution in wet filter cake at 20 &deg;C\n",
    "    - $AgNO_3$ fraction $x_1$ =  $\\frac{222 \\space g}{100 \\space g}$ = $\\frac{222 \\space g}{100 \\space g \\space 222 \\space g}$ = $0.689g \\space AgNO_3$\n",
    "    \n",
    "    - $H_2O$ fraction $x_2$ = $1 \\space - 0.689$ = $0.311g \\space AgNO_3$\n",
    "    \n",
    "- Composition of wet filter cake at 20 &deg;C\n",
    "    - $m_2$ = 0.8$(m_2 \\space + \\space m_3)$\n",
    "    \n",
    "### Step 4\n",
    "\n",
    "Complete mass balances on the process, whichever is solvable\n",
    "\n",
    "- $H_2O$ balance: $(100kg \\space \\cdot \\space 0.095)$ kg H2O = 0.311$m_1$ + 0.311$m_3$\n",
    "- $m_2$ = 0.8$(m_2 \\space + \\space m_3)$\n",
    "- $Total \\space balance$ = $100 \\space kg$ = $m_1 + m_2 + m_3$\n",
    "\n",
    "With these two equation, we can solve the masses.\n",
    "\n",
    "- $m_1$ = 12.904 $kg/hr$\n",
    "- $m_2$ = 69.677 $kg/hr$\n",
    "- $m_3$ = 17.419 $kg/hr$\n",
    "\n",
    "Using the total stream masses and the fractional compositions, we "
   ]
  },
  {
   "cell_type": "markdown",
   "metadata": {},
   "source": [
    "Example 2 - Solid- Vapor equilibrium <b>Question: Is this the right type of equilibrium we are supposed to talk about</b>\n",
    "\n",
    "Sublimation of CO2\n",
    "\n",
    "- Dry ice is used to cool portable ice cream coolers more efficiently than regular ice. In order to cool 25 pints of Haagen Dasz ice cream and keep them just at the freezing point, ____ pounds of dry ice needs to be used. Given that dry ice is ____% how much dry ice is given off?\n",
    "\n",
    "- 100 litres of carbon dioxide gas is cooled in a pressure chamber of 2 atm and -300 &deg;C. What is the volumteric composition of the solid-vapour mixture that forms in the end?\n"
   ]
  },
  {
   "cell_type": "markdown",
   "metadata": {},
   "source": [
    "Example 3 - Liquid - Liquid Equilibrium\n"
   ]
  },
  {
   "cell_type": "code",
   "execution_count": null,
   "metadata": {
    "collapsed": true
   },
   "outputs": [],
   "source": []
  }
 ],
 "metadata": {
  "anaconda-cloud": {},
  "kernelspec": {
   "display_name": "Python [default]",
   "language": "python",
   "name": "python3"
  },
  "language_info": {
   "codemirror_mode": {
    "name": "ipython",
    "version": 3
   },
   "file_extension": ".py",
   "mimetype": "text/x-python",
   "name": "python",
   "nbconvert_exporter": "python",
   "pygments_lexer": "ipython3",
   "version": "3.5.2"
  }
 },
 "nbformat": 4,
 "nbformat_minor": 1
}
