{
 "cells": [
  {
   "cell_type": "markdown",
   "metadata": {},
   "source": [
    "# 3.2 &ndash; Dimensional Homogeneity and Dimensionless Groups"
   ]
  },
  {
   "cell_type": "markdown",
   "metadata": {},
   "source": [
    "## 3.2.0 &ndash; Learning Objectives\n",
    "\n",
    "By the end of the notebook, you will be able to:\n",
    "\n",
    "1. Define dimensional homogeneity and recognize dimensionless groups.\n",
    "2. Differentiate dimensions and units dimensional homogeneity and unit consistency.\n",
    "3. Understand dimensional homogeneity and unit consistency conceptually.\n",
    "\n",
    "---\n",
    "\n",
    "## 3.2.1 &ndash; Introduction\n",
    "\n",
    "Quantities can only be added or subtracted between each other if their units are the same. Chemical engineers need to ensure that an equation has the same units on both sides. \n",
    "\n",
    "In this section, we will explore the concept of **homogeneity**.\n",
    "\n",
    "---"
   ]
  },
  {
   "cell_type": "markdown",
   "metadata": {},
   "source": [
    "## What is dimensional homogeneity?\n",
    "\n",
    "First, let's define what is a **dimension** and what is a **unit**.\n",
    "\n",
    "Dimensions are a measurable extent of some kind, such as length $(L)$, time $(T)$, mass $(M)$ etc. Units are labels for different dimensions and combination of dimensions, such as kilograms $(kg)$, Newtons $(N)$, etc. \n",
    "\n",
    "Dimensional homogeneity is the concept where the dimensions of variables on both sides of an equation are the same. If the units are the same, the dimensions of each term must be the same.\n",
    "\n",
    "Every valid equation must be dimensionally homogeneous: that is, all additive terms on both sides of the equation must have the same dimensions.\n",
    "\n",
    "$$ Length = \\frac{Length}{Time} \\times Time$$\n",
    "\n",
    "is an example of a dimensionally homogenous equation.\n",
    "\n",
    "**An equation could be dimensionally homogenous but invalid if the equation is also not fully-balanced** i.e.\n",
    "\n",
    "$$ 2M = M $$\n",
    "\n",
    "\n",
    "---"
   ]
  },
  {
   "cell_type": "markdown",
   "metadata": {},
   "source": [
    "### Can an equation be dimensionally homogenous but inconsistent in units?\n",
    "\n",
    "Yes. Take the following example:\n",
    "\n",
    "$$u(m/s) = u_0(m/s) + g(m/{s^2})\\cdot t(s)$$\n",
    "\n",
    "This equation is **dimensionally homogenous and consistent in units**.\n",
    "\n",
    "$$ MT^{-1} = MT^{-1} + MT^{-2} \\cdot T $$\n",
    "\n",
    "But, if we neglect to put the $t$ variable that converts the gravitational constant to velocty, the equation become **dimensionally inhomogenous and inconsistent in units**.\n",
    "\n",
    "$$u(m/s) = u_0(m/s) + g(m/{s^2})$$\n",
    "$$$$\n",
    "$$ MT^{-1} = MT^{-1} + MT^{-2}$$\n",
    "\n",
    "An exmaple of an equation being **dimensionally homogenous but inconsistent in units** is if the units on one side of the equation are different than the other.\n",
    "\n",
    "$$u(m/min) = u_0(m/min) + g(m/{min^2})\\cdot t(s)$$\n",
    "\n",
    "In these cases, usually the fix is to take the variable with the wrong units and use the appropriate conversion to assign the proper units to it (In this case, it's dividing $t$ by 60 to change it into minutes)."
   ]
  }
 ],
 "metadata": {
  "anaconda-cloud": {},
  "kernelspec": {
   "display_name": "Python 3",
   "language": "python",
   "name": "python3"
  },
  "language_info": {
   "codemirror_mode": {
    "name": "ipython",
    "version": 3
   },
   "file_extension": ".py",
   "mimetype": "text/x-python",
   "name": "python",
   "nbconvert_exporter": "python",
   "pygments_lexer": "ipython3",
   "version": "3.6.1"
  }
 },
 "nbformat": 4,
 "nbformat_minor": 1
}
