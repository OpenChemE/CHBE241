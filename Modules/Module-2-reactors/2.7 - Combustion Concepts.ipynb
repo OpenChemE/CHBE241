{
 "cells": [
  {
   "cell_type": "markdown",
   "metadata": {},
   "source": [
    "# 2.7 &ndash; Combustion Concepts\n",
    "\n",
    "---"
   ]
  },
  {
   "cell_type": "markdown",
   "metadata": {},
   "source": [
    "## 2.7.0 &ndash; Learning Objectives\n",
    "\n",
    "By the end of this section you should be able to:\n",
    "\n",
    "1. Apply combustion concepts such as incomplete combustion, theoretical air/$O_2$ and excess air/$O_2$ to analyze combustion reactions.\n",
    "\n",
    "---"
   ]
  },
  {
   "cell_type": "markdown",
   "metadata": {
    "collapsed": true
   },
   "source": [
    "## 2.7.1 &ndash; Introduction \n",
    "\n",
    "As you learned in Module &ndash; 1, degrees of freedom (DOF) can save you precious time and resources. It is very improtant to perform a DOF analysis before calculating the solution to any problem.\n",
    "\n",
    "---"
   ]
  },
  {
   "cell_type": "markdown",
   "metadata": {},
   "source": [
    "## 2.7.2 &ndash; Incomplete Combustion\n",
    "\n",
    "When any type of fuel is burned, the carbon in the fuel reacts wit oxygen to form either $C O_2$ or $C O$. To simplify question, we often assume that the combustion is **complete**, meaning the only by products are $C O_2$ and $H_2 O$, but that is often not the case. When $C O$ is a product of the combustion, we call the reaction a **partial combustion** or an **incomplete combustion**. An example of this is the combustion of propane:\n",
    "\n",
    "$$ C_3 H_8 + 5 O_2 \\longrightarrow 3 C O_2 + 4 H_2 O \\quad (1) $$\n",
    "\n",
    "$$ C_3 H_8 + \\frac{7}{2} O_2 \\longrightarrow 3 C O + 4 H_2 O \\quad (2) $$\n",
    "\n",
    "The first chemcial formula (1) is the complete combustion of propane while the second chemical formula (2) is the partial combustion of propane.\n",
    "\n",
    "---"
   ]
  },
  {
   "cell_type": "markdown",
   "metadata": {},
   "source": [
    "## 2.7.3 &ndash; Theoretical Air/$O_2$\n",
    "\n",
    "**Theoretical oxygen** is the theoretical amount of $O_2$ you would need for complete combustion of a certain reaction. For example, if you have 300 moles of propane, you would theoretically need 1,500 moles of $O_2$\n",
    "\n",
    "**Theoretical air** is the quantity of air that contains the theoretical oxygen. Since air is roughly 79 % $N_2$ and 21 % $O_2$, theoretical air will always be a larger number than theoretical oxygen.\n",
    "\n",
    "---"
   ]
  },
  {
   "cell_type": "markdown",
   "metadata": {},
   "source": [
    "## 2.7.4 &ndash; Excess Air/$O_2$ and Precent Excess\n",
    "\n",
    "**Excess air** is the amount of air that exceeds theoretical air. So if you were to input 400 moles of air, and the theoretical air is found to be 300 moles, your excess air would equate to 100 moles.\n",
    "\n",
    "**Percent Excess air** is a simple formula which is:\n",
    "\n",
    "$$ \\frac{n_{\\text{air, fed}} - n_{\\text{air, theoretical}}}{n_{\\text{air, theoretical}}} \\times 100 \\% $$\n",
    "\n",
    "or \n",
    "\n",
    "$$ \\frac{n_{\\text{air, excess}}}{n_{\\text{air, theoretical}}} \\times 100 \\% $$\n",
    "\n",
    "---"
   ]
  },
  {
   "cell_type": "code",
   "execution_count": null,
   "metadata": {
    "collapsed": true
   },
   "outputs": [],
   "source": []
  }
 ],
 "metadata": {
  "kernelspec": {
   "display_name": "Python 3",
   "language": "python",
   "name": "python3"
  },
  "language_info": {
   "codemirror_mode": {
    "name": "ipython",
    "version": 3
   },
   "file_extension": ".py",
   "mimetype": "text/x-python",
   "name": "python",
   "nbconvert_exporter": "python",
   "pygments_lexer": "ipython3",
   "version": "3.6.1"
  }
 },
 "nbformat": 4,
 "nbformat_minor": 2
}
