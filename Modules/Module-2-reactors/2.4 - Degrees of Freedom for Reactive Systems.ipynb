{
 "cells": [
  {
   "cell_type": "markdown",
   "metadata": {},
   "source": [
    "# 2.4 &ndash; Degrees of Freedom for Reactive Systems\n",
    "\n",
    "---"
   ]
  },
  {
   "cell_type": "markdown",
   "metadata": {},
   "source": [
    "## 2.4.0 &ndash; Learning Objectives\n",
    "\n",
    "By the end of this section you should be able to:\n",
    "\n",
    "1. Calculate degrees of freedom using extent of reaction or atomic species for reactive systems\n",
    "\n",
    "---"
   ]
  },
  {
   "cell_type": "markdown",
   "metadata": {},
   "source": [
    "## 2.4.1 &ndash; Introduction \n",
    "\n",
    "As you learned in Module - 1, degrees of freedom(DOF) can save you precious time and resources. It is very improtant to perform a DOF analysis before calculating the solution to any problem.\n",
    "\n",
    "---"
   ]
  },
  {
   "cell_type": "markdown",
   "metadata": {},
   "source": [
    "## 2.4.2 &ndash; Degrees of Freedom for Extent of Reaction\n",
    "\n",
    "The DOF of extent of reaction can be calculated by using the following equation:\n",
    "\n",
    "$$ DOF = \\text{# of unknown varibles} + \\text{# of independant reactions} - \\text{# of independant reactive species} - \\text{# of independant nonreactive species} - \\text{# of other equations relating unknown varibles} $$\n",
    "\n",
    "This will equation will inform you if the problem is solvable.\n",
    "\n",
    "---"
   ]
  },
  {
   "cell_type": "markdown",
   "metadata": {},
   "source": [
    "## 2.4.3 &ndash; Degrees of Freedom for Atomic Species Balances\n",
    "\n",
    "The DOF of atomic species balances can be calculated by using the following equation:\n",
    "\n",
    "$$ DOF = \\text{# of unknown varibles} - \\text{# of independant atomic species balances} - \\text{# of molecular balances on independent nonreactive species} - \\text{# of other equations relating unknown varibles} $$\n",
    "\n",
    "This will equation will inform you if the problem is solvable.\n",
    "\n",
    "---"
   ]
  },
  {
   "cell_type": "code",
   "execution_count": null,
   "metadata": {
    "collapsed": true
   },
   "outputs": [],
   "source": []
  }
 ],
 "metadata": {
  "kernelspec": {
   "display_name": "Python 3",
   "language": "python",
   "name": "python3"
  },
  "language_info": {
   "codemirror_mode": {
    "name": "ipython",
    "version": 3
   },
   "file_extension": ".py",
   "mimetype": "text/x-python",
   "name": "python",
   "nbconvert_exporter": "python",
   "pygments_lexer": "ipython3",
   "version": "3.6.1"
  }
 },
 "nbformat": 4,
 "nbformat_minor": 2
}
