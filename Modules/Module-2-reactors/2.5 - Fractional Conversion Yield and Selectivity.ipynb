{
 "cells": [
  {
   "cell_type": "markdown",
   "metadata": {},
   "source": [
    "# 2.5 &ndash; Fractional Conversion Yield Selectivity Excess\n",
    "\n",
    "---"
   ]
  },
  {
   "cell_type": "markdown",
   "metadata": {},
   "source": [
    "\n",
    "## 2.5.0 &ndash; Learning Objectives\n",
    "\n",
    "By the end of this section you should be able to:\n",
    "\n",
    "1. Understand the concepts of fractional conversion, yield, selectivity, and percent excess.\n",
    "\n",
    "---\n",
    "## 2.5.1 &ndash; Introduction\n",
    "\n",
    "Fractional conversion, yield, selectivity, and percent excess are all important methods of describing how a chemical reaction progresses. They are useful values to solve material balances.\n",
    "\n",
    "---"
   ]
  },
  {
   "cell_type": "markdown",
   "metadata": {},
   "source": [
    "## 2.5.2 &ndash; Fractional Conversion\n",
    "\n",
    "Fractional conversion is defined as the number of moles of a compound that reacted divided by the amount of the moles\n",
    "that were fed. \n",
    "\n",
    "$$Fractional \\space conversion = \\frac{\\dot{n}_{consumed}}{\\dot{n}_{input}} $$ \n",
    "\n",
    "Another useful form of writing fractional conversion is \n",
    "\n",
    "$$Fractional \\space conversion = \\frac{\\dot{n}_{input}-\\dot{n}_{output}}{\\dot{n}_{input}}$$\n",
    "\n",
    "---"
   ]
  },
  {
   "cell_type": "markdown",
   "metadata": {},
   "source": [
    "## 2.5.3 &ndash; Yield (Fractional Yield)\n",
    "\n",
    "Yield is defined as the moles of product formed divided by the ideal number of moles formed. \n",
    "\n",
    " $$ Yield = \\frac{\\dot{n}_{formed}}{\\dot{n}_{ideal}} $$\n",
    " \n",
    "The ideal number of moles formed is assuming that the limiting reactant reacts fully and that there are no side reactions.  \n",
    "\n",
    "---"
   ]
  },
  {
   "cell_type": "markdown",
   "metadata": {},
   "source": [
    "## 2.5.4 &ndash; Selectivity\n",
    "\n",
    "Selectivity is defined as the moles of desired __products__ formed divided by the moles of undesired __products__ formed.\n",
    "\n",
    " $$ Selectivity= \\frac{\\dot{n}_{product\\space desired}}{\\dot{n}_{product\\space undesired}} $$\n",
    "\n",
    "---"
   ]
  },
  {
   "cell_type": "markdown",
   "metadata": {},
   "source": [
    "## 2.5.5 &ndash; Percent Excess\n",
    "\n",
    "Percent excess is defined as the number of moles that are unreacted divided by the moles fed.\n",
    "$$Percent \\space excess = \\frac{\\dot{n}_{input}-\\dot{n}_{consumed\\space theoretically}}{\\dot{n}_{consumed\\space theoretically}}$$\n",
    "\n",
    "__Note:__ any of these terms above can be expressed as a percent (by multiplying 100 to the values)"
   ]
  },
  {
   "cell_type": "code",
   "execution_count": null,
   "metadata": {
    "collapsed": true
   },
   "outputs": [],
   "source": []
  }
 ],
 "metadata": {
  "kernelspec": {
   "display_name": "Python 3",
   "language": "python",
   "name": "python3"
  },
  "language_info": {
   "codemirror_mode": {
    "name": "ipython",
    "version": 3
   },
   "file_extension": ".py",
   "mimetype": "text/x-python",
   "name": "python",
   "nbconvert_exporter": "python",
   "pygments_lexer": "ipython3",
   "version": "3.6.1"
  }
 },
 "nbformat": 4,
 "nbformat_minor": 2
}
