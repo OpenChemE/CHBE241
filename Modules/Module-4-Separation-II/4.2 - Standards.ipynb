{
 "cells": [
  {
   "cell_type": "markdown",
   "metadata": {},
   "source": [
    "# 4.2 &ndash; Standards\n",
    "\n",
    "---"
   ]
  },
  {
   "cell_type": "markdown",
   "metadata": {},
   "source": [
    "## 4.2.0 &ndash; Learning Objectives\n",
    "\n",
    "By the end of this section you should be able to:\n",
    "\n",
    "1. Understand what standard temperature and pressure (STP) is.\n",
    "2. Understand what standard cubic meters and feet are.\n",
    "\n",
    "---\n",
    "## 4.2.1 &ndash; Introduction\n",
    "\n",
    "In engineering and science, it is useful to have **standards** to use as **reference points**. If most people in the field you work in use one type of standard, then confusion, mistakes, and conversions can be prevented.\n",
    "\n",
    "---"
   ]
  },
  {
   "cell_type": "markdown",
   "metadata": {},
   "source": [
    "## 4.2.2 &ndash; Standard Temperature and Pressure (STP)\n",
    "\n",
    "**Standard temperature and pressure (STP)**, $T_s$ and $\\hat{V}_s$, are used as a reference point for many laws, including the ideal gas law. When the ideal gas law\n",
    "\n",
    "$$ P V = n R T $$\n",
    "\n",
    "is divided by the reference point ideal gas law\n",
    "\n",
    "$$ P_s \\hat{V}_s = R T_s $$\n",
    "\n",
    "you get \n",
    "\n",
    "$$ \\frac{P V}{P_s \\hat{V}_s} = n \\frac{T}{T_s} $$\n",
    "\n",
    "Since we got rid of the R, the constant is not needed anymore. The SI units for **(STP)** are\n",
    "\n",
    "$$T_s = 273.15 \\space K$$\n",
    "\n",
    "$$P_s = 101,300 \\space Pa$$\n",
    "\n",
    "$$V_s = 0.022415 \\space m^3/mol$$\n",
    "\n",
    "---\n",
    "## 4.2.3 &ndash; Standard Cubic Meters and Standard Cubic Feet\n",
    "\n",
    "**Standard cubic meters (SCM)**, is used to denote $m^3$ at **STP**. **Standard cubic feet (SCF)**, is used to denote $ft^3$ at **STP**. A volumetric flow rate of 21.3 SCMH is $21.3 \\space m^3/h$ at $0 ^{\\circ} C$ and 1 atm.\n",
    "\n",
    "---"
   ]
  },
  {
   "cell_type": "markdown",
   "metadata": {
    "collapsed": true
   },
   "source": [
    "## 4.2.4 &ndash; Problem Statement\n",
    "\n",
    "### Question \n",
    "\n",
    "You are a chemical engineer at the Burnaby oil refinery. Your colleague has asked you to inform him on how much gasoline is flowing through a pipe in **SCFH**. You measure the flow rate and find that gasoline is flowing at $1.2 \\space m^3/s$ at $30 ^{\\circ} C$ The reference point for the density of gasoline is $\\rho = 730 \\space kg/m^3$ at $15 ^{\\circ} C$. The correction factor for the gasoline at $30 ^{\\circ} C$ is $\\alpha_{\\space 30 ^{\\circ} C} = 0.9811$. The correction factor for the gasoline at $0 ^{\\circ} C$ is $\\alpha_{\\space 0 ^{\\circ} C} = 1.0187$. What is the flow volumetric SCFH flow rate?\n",
    "\n",
    "### Answer\n",
    "\n",
    "First, we must find the mass flow rate at $30 ^{\\circ} C$. This is because mass must be conserved at any temperature.\n",
    "\n",
    "$$\\dot{m} = \\dot{V}_{\\space 30 ^{\\circ} C} \\cdot (\\rho_{\\space 15 ^{\\circ} C} \\cdot \\alpha_{\\space 30 ^{\\circ} C}) = 1.2 \\space \\frac{m^3}{s} \\cdot \\bigg(  730 \\space \\frac{kg}{m^3} \\cdot 0.9811 \\bigg) = 859 \\space \\frac{kg}{s}$$\n",
    "\n",
    "Now that we have the mass flow rate, we can calculate the volumetric flow rate at $0 ^{\\circ} C$.\n",
    "\n",
    "$$\\dot{V}_{\\space 0 ^{\\circ} C} = \\frac{\\dot{m}}{\\rho_{\\space 15 ^{\\circ} C} \\cdot \\alpha_{\\space 0 ^{\\circ} C}} = \\frac{859 \\space \\frac{kg}{s}}{730 \\space \\frac{kg}{m^3} \\cdot 1.0187} = 1.06 \\space \\frac{m^3}{s}$$\n",
    "\n",
    "Finally, we can convert the volumetric flow rate to the proper units of $ft^3/h$.\n",
    "\n",
    "$$ \\dot{V}_{\\space 0 ^{\\circ} C} = 1.06 \\space \\frac{m^3}{s} \\times \\frac{35.31 \\space ft^3}{1 \\space m^3} \\times \\frac{3600 \\space s}{1 \\space h} = 134,700 \\space \\text{SCFH}$$"
   ]
  },
  {
   "cell_type": "code",
   "execution_count": null,
   "metadata": {
    "collapsed": true
   },
   "outputs": [],
   "source": []
  }
 ],
 "metadata": {
  "kernelspec": {
   "display_name": "Python 3",
   "language": "python",
   "name": "python3"
  },
  "language_info": {
   "codemirror_mode": {
    "name": "ipython",
    "version": 3
   },
   "file_extension": ".py",
   "mimetype": "text/x-python",
   "name": "python",
   "nbconvert_exporter": "python",
   "pygments_lexer": "ipython3",
   "version": "3.6.1"
  }
 },
 "nbformat": 4,
 "nbformat_minor": 2
}
