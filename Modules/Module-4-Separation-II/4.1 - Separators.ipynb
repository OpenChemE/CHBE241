{
 "cells": [
  {
   "cell_type": "markdown",
   "metadata": {},
   "source": [
    "# 4.1 &ndash; Separators\n",
    "\n",
    "---"
   ]
  },
  {
   "cell_type": "markdown",
   "metadata": {},
   "source": [
    "## 4.1.0 &ndash; Learning Objectives\n",
    "\n",
    "By the end of this section you should be able to:\n",
    "\n",
    "1. Understand why separators are important.\n",
    "2. Understand how distillation columns works.\n",
    "3. Understand how liquid-liquid extraction works.\n",
    "\n",
    "---\n",
    "## 4.1.1 &ndash; Introduction\n",
    "\n",
    "**Separators** convert a mixture of chemical substances into two or more distinct product mixtures. In some cases, separators may fully divide mixtures into its pure constituents.\n",
    "\n",
    "---"
   ]
  },
  {
   "cell_type": "markdown",
   "metadata": {},
   "source": [
    "## 4.1.2 &ndash; Distillation Columns\n",
    "\n",
    "**Distillation** columns are essential in the distillation of fluids. The fluids separate in a distillation column due the different **volatilities** of the mixture of fluids. Distillation columns are heavily used in the oil and gas industry. \n",
    "\n",
    "<img src = \"../figures/Module-4/DC.gif\" width = \"350\" style=\"height:300px; float:left;\">\n",
    "\n",
    "<p style =\"width:50%; margin-left: 300px;margin-top:40px;\"> \n",
    "Here you can see how a distillation column separates crude oil into different products. Each level relates to the volatilities of the different mixtures in the crude oil.\n",
    "</p>\n",
    "<div style = \"clear:both\"></div>\n",
    "\n",
    "(source:http://worldenergyblog.com/ & http://pipingdesigners.com/contents/tips-tools-training/section-8-equipment-piping/133-section-8d-distillation-tower.html)\n",
    "\n",
    "---\n",
    "## 4.1.3 &ndash; Liquid-Liquid Extraction\n",
    "\n",
    "**Liquid-Liquid Extraction** is the separation of compounds based on their solubility’s. It is an extraction of a substance from one liquid to another. A feed solution that contains the desired **solute** or **solutes** is mixed with a **solvent**. This mixing allows the solute to readily dissolve in the solvent since the solute is more soluble in the solvent. The exiting stream with the solute and solvent is called the **extract**. The waste stream is called the **raffinate**.\n",
    "\n",
    "<img src = \"../figures/Module-4/LLE.png\" width = \"400\">\n",
    "\n",
    "Attribution: Said Zaid-Alkailani at UBC Chemical and Biological Engineering"
   ]
  },
  {
   "cell_type": "code",
   "execution_count": null,
   "metadata": {
    "collapsed": true
   },
   "outputs": [],
   "source": []
  }
 ],
 "metadata": {
  "anaconda-cloud": {},
  "kernelspec": {
   "display_name": "Python 3",
   "language": "python",
   "name": "python3"
  },
  "language_info": {
   "codemirror_mode": {
    "name": "ipython",
    "version": 3
   },
   "file_extension": ".py",
   "mimetype": "text/x-python",
   "name": "python",
   "nbconvert_exporter": "python",
   "pygments_lexer": "ipython3",
   "version": "3.6.1"
  }
 },
 "nbformat": 4,
 "nbformat_minor": 2
}
