{
 "cells": [
  {
   "cell_type": "markdown",
   "metadata": {},
   "source": [
    "## 4.2 - Standards\n",
    "\n",
    "![](../figures/Module-4/standard-example.svg)\n",
    "\n",
    "<div style = \"text-align:center\">(A = Evaporator, B = Compressor)</div>\n",
    "\n",
    "Acetone ($C_3H_6O_{(L)}$) is fed at a rate of 400 L/min into a heated chamber, where it evaporates into a nitrogen stream. The gas leaving the heater is diluted by another nitrogen stream flowing at a measured rate of 419 $m^3$ (STP)/min. The combined gases are then compressed to a total pressure $P$ = 6.3 atm gauge at a temperature of 325 &deg;C. The partial pressure of acetone in this stream is $P_a$ = 501 mm Hg. Atmospheric pressure is 763 mm Hg\n",
    "\n",
    "What is the volumetric flow rate of the nitrogen entering the evaporator if the temperature and pressure of this stream are 27 &deg;C and 475 mm Hg gauge?"
   ]
  },
  {
   "cell_type": "markdown",
   "metadata": {},
   "source": [
    "### Solution\n",
    "\n",
    "Since there are no assumptions to write, let us go ahead solve the question, first by changing all of the relevant units to a single uniform unit:\n",
    "\n",
    "$$ 400 \\space L \\space C_3H_6O/min \\times 791 \\space \\frac{g}{L} \\times \\frac{1 \\space mol}{58.08 \\space g} = 5450 \\space \\frac{mol \\space C_3H_6O}{min}$$\n",
    "\n",
    "Note: The density of acetone was found in Table B1. of Elementary Principles of Chemical Processes. \n",
    "\n",
    "We then should calculate the mole fractions of the exit streams, based on the partial pressures of the components. \n",
    "\n",
    "Remember that the actual pressure of a system is gauge pressure added onto atmospheric pressure:\n",
    "\n",
    "$$ P = P_{atm}+P_{gauge} $$\n",
    "\n",
    "$$ P = 763 \\space mmHg + 6.3 \\space atm \\space \\times 760 \\space \\frac{mmHg}{atm} = 5550 \\space mmHg $$\n",
    "\n",
    "$$ y_3 = \\frac{501}{5550} = 0.0903 \\space \\frac{mol \\space C_3H_6O}{mol} $$\n",
    "\n",
    "$$ 1- y_3 = 0.9097 \\space \\frac{mol \\space N_2}{mol} $$\n",
    "\n",
    "Let us turn our attention to $n_3$ now. Based on our knowledge of standards, we now know that we can deduce the moles of $N_2$ in the stream based on STP conditions, using the Ideal Gas Law:\n",
    "\n",
    "$$ PV = nRT $$\n",
    "\n",
    "$$ (1 \\space atm)(419 \\space m^3) = (\\dot{n}_3)(8.206 \\times 10^{-5} \\space \\frac{atm \\space m^3}{K \\space mol})(298 \\space K) $$\n",
    "\n",
    "$$ \\dot{n}_3 = 17,134.295 \\space \\frac{moles}{min} $$\n",
    "\n",
    "Now with all the necessary information, we can move onto the mass balances:\n",
    "\n",
    "$Acetone$\n",
    "$$ \\dot{n}_2 = \\dot{n}_4y_4 $$\n",
    "\n",
    "$$ 5450 \\space \\frac{mol}{min} = 0.0903\\dot{n}_4 $$\n",
    "\n",
    "$$ \\dot{n}_4=60,400 \\space \\frac{mol}{min} $$\n",
    "\n",
    "$Overall \\space  Mole \\space Balance$\n",
    "$$ \\dot{n}_1 + \\dot{n}_2 + \\dot{n}_3 = \\dot{n}_4  $$\n",
    "\n",
    "$$ \\dot{n}_1 + 5450 \\space \\frac{mol}{min} + 17,134.295 \\space \\frac{moles}{min} = 60,400 \\space \\frac{moles}{min} $$\n",
    "\n",
    "$$ \\dot{n}_1 = 37,817.705 \\space \\frac{mol}{min}$$\n",
    "\n",
    "**Finally**, we can solve for the volume of nitrogen that is entering the system, as we can go back to the Ideal Gas Equation:\n",
    "\n",
    "$$ PV = nRT $$\n",
    "\n",
    "$$ P_{inlet} = 475 \\space mmHg + 763 \\space mmHg = 1238 \\space mmHg = 1.6225 \\space atm $$\n",
    "\n",
    "$$ P_{inlet}V_1 = n_1RT_1 $$\n",
    "\n",
    "$$ 1.6225 \\space atm \\times V_1 = 37,817.705 \\space \\frac{mol}{min} \\times (8.206 \\times 10^{-5} \\space \\frac{atm \\space m^3}{K \\space mol}) \\times (27 + 273)K = 573.8036 \\space \\frac{m^3 \\space N_2}{min}$$"
   ]
  },
  {
   "cell_type": "code",
   "execution_count": null,
   "metadata": {
    "collapsed": true
   },
   "outputs": [],
   "source": []
  }
 ],
 "metadata": {
  "anaconda-cloud": {},
  "kernelspec": {
   "display_name": "Python [default]",
   "language": "python",
   "name": "python3"
  },
  "language_info": {
   "codemirror_mode": {
    "name": "ipython",
    "version": 3
   },
   "file_extension": ".py",
   "mimetype": "text/x-python",
   "name": "python",
   "nbconvert_exporter": "python",
   "pygments_lexer": "ipython3",
   "version": "3.5.2"
  }
 },
 "nbformat": 4,
 "nbformat_minor": 1
}
