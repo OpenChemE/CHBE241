{
 "cells": [
  {
   "cell_type": "markdown",
   "metadata": {},
   "source": [
    "## 1.1 - Unit conversion\n",
    "\n",
    "Despite the odds, the Kinger-Sporgan pipeline is being built to no environmental impact, which will soon supply BC and Washington state with 40,001 barrels of oil biweekly (including weekends). As an employee of Dusty Oil in Vancouver, you keep in contact with your colleagues in the United States and update them on the amount of oil being supplied. Since they use metric and you use the imperial system, what is the amount of oil transported, in metric?\n",
    "\n",
    "**Note**: Use 1 oil barrel = 35 imperial gallons. Not US gallons."
   ]
  },
  {
   "cell_type": "markdown",
   "metadata": {},
   "source": [
    "According to the back of our text, \n",
    "\n",
    "$$1000 \\space L = 220.83 \\space \\text{imperial gallons}$$\n",
    "\n",
    "Let's find out how many litres are in an imperial gallon first:\n",
    "\n",
    "$$ 1000 \\space L \\space \\div \\space 220.83 \\space \\text{imperial gallons} = 4.5283 \\space \\frac{L}{\\text{imperial gallons}} $$\n",
    "\n",
    "Now we know that biweekly, the total amount of oil transported is:\n",
    "\n",
    "$$ 40,001 \\space barrels \\space \\times \\space 35 \\space 35 \\space \\frac{\\text{imperial gallons}}{barrels} \\times \\space 4.5283 \\space \\frac{L}{\\text{imperial gallons}} = 6339778 \\space litres $$\n",
    "\n",
    "Let's find how how many litres are transported in seconds. Since I don't know how many seconds are in a fortnight off the top of my head:\n",
    "\n",
    "$$ 14 \\space days \\space \\times \\space 24 \\space \\frac{hours}{day} \\space \\times \\space 3600 \\space \\frac{seconds}{hour} = 1209600 \\space seconds $$\n",
    "\n",
    "Finally, you can report that the total amount of oil transported, in metric units, is:\n",
    "\n",
    "$$ 6339778 \\space litres \\div 1209600 \\space seconds = 5.241 \\space \\frac{L}{s} $$"
   ]
  },
  {
   "cell_type": "markdown",
   "metadata": {},
   "source": [
    "## 1.3 - Flow rate\n",
    "\n",
    "![](../figures/Module-1/manometer_problem_2.svg)\n",
    "\n",
    "A U-tube manometer is connected to a closed tank. The air pressure inside the tank is 0.50 psi and the liquid is oil ($\\gamma$ = 54.0 $lb/ft^3$, S.G. = $3.05$). **Note** that the 2' above the 2. does not mean 2 prime, it denotes 2 feet. The pressure at point A is 2.00 psi. Find a) the depth of oil and b) the reading $h$ on the manometer.\n"
   ]
  },
  {
   "cell_type": "markdown",
   "metadata": {},
   "source": [
    "#### Solution\n",
    "\n",
    "$$ P_1 = P_{air} = 0.5 \\space psi $$\n",
    "\n",
    "$$ P_1 - P_2 =  (\\rho_f - \\rho) g h \\quad \\text{(Differential Manometer Equation)} $$\n",
    "\n",
    "$$ P_1 - P_2 = -\\gamma(h_2 - h_1) $$\n",
    "\n",
    "**a)**\n",
    "Note: We are using (1.) as the reference point.\n",
    "\n",
    "$$ P_{1.} - P_A = -\\gamma_{oil}(-Z - 0) $$\n",
    "\n",
    "$$ 0.5 \\space psi - 2.0 psi = -54.0 lb/ft^3 \\cdot (-Z) $$\n",
    "\n",
    "Notice that we need to convert all units to a single uniform unit:\n",
    "\n",
    "$$ -1.5 psi \\times 144 \\frac{in^2}{ft^2} = -54.0 lb/ft^3 \\cdot (-Z) $$\n",
    "\n",
    "$$ Z = 4.00 ft $$\n",
    "\n",
    "**b)** \n",
    "Note: We are using (1.) as the reference point.\n",
    "\n",
    "$$ P_{2.} - P_A = -\\gamma_{oil}(-(Z+2') - (-4)) $$\n",
    "\n",
    "$$ P_{2.} - 2.0 psi \\times \\frac{in^2}{ft^2} = -54.0 lb/ft^3 \\cdot (-(4+2)+4) $$\n",
    "\n",
    "$$ P_{2.} - 2.0 psi \\times \\frac{in^2}{ft^2} = -54.0 lb/ft^3 \\cdot 2 $$\n",
    "\n",
    "$$ P_{2.} = 396 \\space lb/ft^3 $$\n",
    "\n",
    "$$ P_{3.} - P_2 = -\\gamma_{oil}(-(6-h) - (-4-2)) $$\n",
    "\n",
    "$$ S.G. = \\frac{\\gamma_{oil}}{\\gamma_{water}} $$\n",
    "\n",
    "$$ 0-396 = -3.05(62.4)(h)$$\n",
    "\n",
    "$$ h = 2.08 \\space ft $$"
   ]
  },
  {
   "cell_type": "markdown",
   "metadata": {},
   "source": [
    "## 1.5 - Degrees-of-freedom\n",
    "\n",
    "![](../figures/Module-1/degree-of-freedom-example.svg)\n",
    "\n",
    "Determine if the above process is solvable or not."
   ]
  },
  {
   "cell_type": "markdown",
   "metadata": {},
   "source": [
    "#### Solution\n",
    "\n",
    "First, let's break up the process into its components.\n",
    "\n",
    "![](../figures/Module-1/degree-of-freedom-example1.svg)"
   ]
  },
  {
   "cell_type": "markdown",
   "metadata": {},
   "source": [
    "With all of the components labelled, we can move on to figuring out if our process is solvable.\n",
    "\n",
    "**Overall process (A)**\n",
    "\n",
    "$$ 2 \\space \\text{unknowns} \\space (\\dot{m}_3, \\space x_3) - 2 \\space \\text{balances} \\space (\\text{A, B}) = 0 \\space \\text{degrees of freedom}$$\n",
    "\n",
    "**Unit 1 (B)**\n",
    "\n",
    "$$ 2 \\space \\text{unknowns} \\space (\\dot{m}_1, \\space x_1) - 2 \\space \\text{balances} \\space (\\text{A, B}) = 0 \\space \\text{degrees of freedom}$$\n",
    "\n",
    "**Mixing Point (D)**\n",
    "\n",
    "$$ 2 \\space \\text{unknowns} \\space (\\dot{m}_2, \\space x_2) - 2 \\space \\text{balances} \\space (\\text{A, B}) = 0 \\space \\text{degrees of freedom}$$\n",
    "\n",
    "_Noteworthy: Assuming we tried to solve for D first, we would have 4 unknowns $(\\dot{m}_1, \\space x_1, \\space \\dot{m}_2, \\space x_2)$ with only 2 species balances, thus having 2 degrees of freedom, giving the illusion that that component cannot be solved for._\n",
    "\n",
    "Verdict: Since all balances have 0 degrees of freedom, the system is solvable."
   ]
  },
  {
   "cell_type": "code",
   "execution_count": null,
   "metadata": {
    "collapsed": true
   },
   "outputs": [],
   "source": []
  }
 ],
 "metadata": {
  "anaconda-cloud": {},
  "kernelspec": {
   "display_name": "Python [default]",
   "language": "python",
   "name": "python3"
  },
  "language_info": {
   "codemirror_mode": {
    "name": "ipython",
    "version": 3
   },
   "file_extension": ".py",
   "mimetype": "text/x-python",
   "name": "python",
   "nbconvert_exporter": "python",
   "pygments_lexer": "ipython3",
   "version": "3.5.2"
  }
 },
 "nbformat": 4,
 "nbformat_minor": 1
}
