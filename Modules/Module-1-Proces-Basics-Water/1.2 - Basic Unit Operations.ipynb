{
 "cells": [
  {
   "cell_type": "markdown",
   "metadata": {},
   "source": [
    "# 1.2 &ndash; Basic Unit Operations\n",
    "\n",
    "---"
   ]
  },
  {
   "cell_type": "markdown",
   "metadata": {},
   "source": [
    "## 1.2.0 &ndash; Learning Objectives\n",
    "\n",
    "By the end of this section you should be able to:\n",
    "\n",
    "1. Know the four basic unit operations covered in this course.\n",
    "2. Understand how each of the unit operations work.\n",
    "3. Understand the purpose of each unit operation.\n",
    "\n",
    "---\n",
    "\n",
    "## 1.2.1 &ndash; Introduction\n",
    "\n",
    "In chemical engineering, a unit operation is a step in a process. Each of these steps gets the raw feedstock closer to the final products. Different unit operations have different functionalities and purposes. We will cover **mixers**, **reactors**, **separators**, and **splitters** in this course.\n",
    "\n",
    "---"
   ]
  },
  {
   "cell_type": "markdown",
   "metadata": {},
   "source": [
    "## 1.2.2 &ndash; Mixer\n",
    "\n",
    "In a process, a **mixer** is a unit operation that attempts to make a **heterogeneous** system into a **homogenous** system. Examples include scrambling eggs, mixing sugar and cream into coffee, and a Continuous Stirred-Tank Reactor used in water treatment. A mixer allows heat and/or mass transfer to occur between one or more streams. \n",
    "\n",
    "![mixer](../figures/Module-1/mixer.svg)\n",
    "Attribution: Said Zaid-Alkailani & UBC [CC BY 4.0 de (https://creativecommons.org/licenses/by/4.0/)]\n",
    "\n",
    "![reverse osmosis image](../figures/Module-1/Reverse_osmosis_desalination_plant.jpeg)\n",
    "\n",
    "By James Grellier - Own work [Creative commons Attribution-Share Alike 3.0](http://creativecommons.org/licenses/by-sa/3.0)\n",
    "\n",
    "---\n",
    "## 1.2.3 &ndash; Reactor\n",
    "\n",
    "In a process, a **reactor** is a unitoperation that is designed to contain a chemical reaction. These reactions can include anything from burning natural gas to chlorination of water for purification purposes.\n",
    "\n",
    "![Batch Reactor](../figures/Module-1/Batch_reactor.2.jpg)\n",
    "\n",
    "Attribution: Echis at English Wikipedia [GFDL (http://www.gnu.org/copyleft/fdl.html), CC-BY-SA-3.0 (http://creativecommons.org/licenses/by-sa/3.0/) or CC BY 2.5 (http://creativecommons.org/licenses/by/2.5)], via Wikimedia Commons\n",
    "\n",
    "![Chemical Reactor](../figures/Module-1/Chemical_reactor.jpg)\n",
    "\n",
    "Attribution: By Oregon State University (Chemical reactor) [CC BY-SA 2.0<](http://creativecommons.org/licenses/by-sa/2.0), [via Wikimedia Commons](https://commons.wikimedia.org/wiki/File%3AChemical_reactor_(31569180781).jpg)\n",
    "\n",
    "---\n",
    "## 1.2.4 &ndash; Separator \n",
    "\n",
    "In a process, a **separator** is a unit operation that converts a mixture of chemical species to two or more distinct products. Think of separators as opposite of mixers. An example of a separator is in distillation, where you are trying to separate the impurities from the alcohol. \n",
    "\n",
    "![Batch Distillation](../figures/Module-1/BatchDistill.svg)\n",
    "\n",
    "Attribution: User A1 at English Wikipedia [FAL], via Wikimedia Commons\n",
    "\n",
    "![fractional column](../figures/Module-1/fractional_column.jpg)\n",
    "\n",
    "By [User:Luigi Chiesa](commons.wikimedia.org/wiki/) - Own work, [CC BY 3.0](http://creativecommons.org/licenses/by/3.0)[link](https://commons.wikimedia.org/w/index.php?curid=516874)\n",
    "\n",
    "---\n",
    "## 1.2.5 &ndash; Splitter\n",
    "\n",
    "In a process, a **splitter** is a unit operation that splits a line into two or more directions. This is similar to a separator except the product lines have the same chemical makings.\n",
    "\n",
    "![splitter](../figures/Module-1/splitter.svg)\n",
    "\n",
    "Attribution: Said Zaid-Alkailani & UBC [CC BY 4.0 de](https://creativecommons.org/licenses/by/4.0/)\n"
   ]
  },
  {
   "cell_type": "code",
   "execution_count": null,
   "metadata": {
    "collapsed": true
   },
   "outputs": [],
   "source": []
  }
 ],
 "metadata": {
  "kernelspec": {
   "display_name": "Python 2",
   "language": "python",
   "name": "python2"
  },
  "language_info": {
   "codemirror_mode": {
    "name": "ipython",
    "version": 2
   },
   "file_extension": ".py",
   "mimetype": "text/x-python",
   "name": "python",
   "nbconvert_exporter": "python",
   "pygments_lexer": "ipython2",
   "version": "2.7.11"
  }
 },
 "nbformat": 4,
 "nbformat_minor": 2
}
