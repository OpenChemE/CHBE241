{
 "cells": [
  {
   "cell_type": "markdown",
   "metadata": {},
   "source": [
    "# 3.6 &ndash; Recycle and purge\n",
    "\n",
    "---"
   ]
  },
  {
   "cell_type": "markdown",
   "metadata": {},
   "source": [
    "## 3.6.0 &ndash; Learning objectives\n",
    "By the end of this notebook, you should be able to:\n",
    "\n",
    "1. Recognize recycle and purge stream scenarios from problems and draw a block flow diagram based on the information\n",
    "2. Use correct assumptions to set up recycle and purge scenarios\n",
    "3. Solve BFDs that incorporate recycle and purge streams using mass balances\n",
    "4. Extend the splitter principle to recycle and purge streams\n",
    "\n",
    "---"
   ]
  },
  {
   "cell_type": "markdown",
   "metadata": {},
   "source": [
    "## 3.6.1 &ndash; Introduction\n",
    "**Recycle** and **purge** streams are an extension of **splitter** streams, whereby one of the product streams from the splitter is routed back into a previous process as a recycle stream and one is directed out of the process as a purge stream.\n",
    "\n",
    "The purpose of a recycle stream is to take unreacted reactants and reuse them, ensuring the highest process efficiency possible. Purge streams are necessary to ensure there is little to no accumulation in the system from the recycle stream feeding back into the fresh feed, preventing dilution of reactants due to waste chemicals. \n",
    "\n",
    "**Note:** While the splitter product streams have the same compositions, recycle and purge stream compositions can be different from their inlet stream.\n",
    "\n",
    "---"
   ]
  },
  {
   "cell_type": "markdown",
   "metadata": {},
   "source": [
    "## 3.6.2 &ndash; Recycle and purge example"
   ]
  },
  {
   "cell_type": "markdown",
   "metadata": {},
   "source": [
    "![Figure 1.](../figures/Module-3/Recycle-and-purge-new.svg \"Acetylhyde production\")\n",
    "\n",
    "Attribution: Victor Chiew Yung Hui & UBC [CC BY 4.0 de (https://creativecommons.org/licenses/by/4.0/)]"
   ]
  },
  {
   "cell_type": "markdown",
   "metadata": {},
   "source": [
    "In figure 1, the recycle and purge stream is shown alongside a product stream. To reiterate, the main difference between a splitter and recycle and purge streams is splitter streams have the same compositions whereas recycle and purge streams don't necessarily do.\n",
    "\n",
    "In questions in practice or exams, ways to tell which are splitters and which are recycle and purge streams is different composition flow rates or an explicit explanation, either in the question or a pre-drawn diagram. \n",
    "\n",
    "---"
   ]
  },
  {
   "cell_type": "markdown",
   "metadata": {},
   "source": [
    "## 3.6.3 &ndash; Steps to solve recycle and purge\n",
    "\n",
    "1. List all assumptions. If the **fresh feed** stream does not have a flow rate listed in the question or the diagram, assume a mass or molecular flow rate of a random number, preferably a mass flow rate with a nice round number like 100 $kg/h$ or 100 $mol/hr$. We **cannot** assume a basis for the reactor feed, since it will depend on the sum of the fresh feed and the recycle stream.\n",
    "\n",
    " &nbsp;\n",
    "\n",
    "2. Convert all mixed units to one uniform units. In most cases, it would be converting all the units to masses, but in the case of reactive systems, you'd want to convert them to moles per unit time.\n",
    "\n",
    " &nbsp;\n",
    " \n",
    "3. Draw and label the flow chart based on the question. We will **not** be considering chemical reactions between constituents of the fresh feed and reactor feed in the feed streams, only when they're in the reactor.\n",
    "\n",
    " &nbsp;\n",
    " \n",
    "4. Write expressions for the quantities requested in the problem statement. (e.g. $m_3$ = $m_{B3}$ + $m_{T3}$, $x_B$ = $m_{B3}/m_3$). The expressions should be written to help in solving for the missing parameters of the process, and useful in a degree-of-freedom analysis.\n",
    "\n",
    " &nbsp;\n",
    "\n",
    "5. Perform a degree-of-freedom analysis on the process to determine if it is solvable. \n",
    "\n",
    " &nbsp;\n",
    "\n",
    "6. **Do the algebra.** \n",
    "\n",
    "---"
   ]
  },
  {
   "cell_type": "code",
   "execution_count": null,
   "metadata": {
    "collapsed": true
   },
   "outputs": [],
   "source": []
  }
 ],
 "metadata": {
  "anaconda-cloud": {},
  "kernelspec": {
   "display_name": "Python 3",
   "language": "python",
   "name": "python3"
  },
  "language_info": {
   "codemirror_mode": {
    "name": "ipython",
    "version": 3
   },
   "file_extension": ".py",
   "mimetype": "text/x-python",
   "name": "python",
   "nbconvert_exporter": "python",
   "pygments_lexer": "ipython3",
   "version": "3.6.1"
  }
 },
 "nbformat": 4,
 "nbformat_minor": 1
}
