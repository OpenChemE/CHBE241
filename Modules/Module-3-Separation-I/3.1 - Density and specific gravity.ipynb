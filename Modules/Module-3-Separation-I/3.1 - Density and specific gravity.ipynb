{
 "cells": [
  {
   "cell_type": "markdown",
   "metadata": {},
   "source": [
    "# 3.1 &ndash; Density and specific gravity (S.G.)\n",
    "\n",
    "---"
   ]
  },
  {
   "cell_type": "markdown",
   "metadata": {},
   "source": [
    "## 3.1.0 &ndash; Learning objectives\n",
    "\n",
    "By the end of this notebook you should be able to:\n",
    "\n",
    "1. Differentiate density and specific gravity. \n",
    "2. Utilize density and specific gravity to interchangeably find mass and/or volumetric flow rates.\n",
    "\n",
    "---\n",
    "\n",
    "## 3.1.1 &ndash; Introduction\n",
    "\n",
    "**Density** is the amount of mass per unit volume. **Specific gravity** (S.G.) is the ratio of density of the object to the density of a standard, usually water for a liquid or solid, and air for a gas. Both density and S.G. are common units in the determination of how much mass is in a chemical process based on the volumetric flow rate of the substance in the process.\n",
    "\n",
    "$$Density = \\rho$$\n",
    "\n",
    "$$Specific \\space gravity = \\frac{{\\rho}_{sample}}{{\\rho}_{H_2O}}$$\n",
    "\n",
    "---"
   ]
  },
  {
   "cell_type": "markdown",
   "metadata": {},
   "source": [
    "## 3.1.2 &ndash; Usage of Density and Specific Gravity\n",
    "\n",
    "In the event of lack of density data on a liquid or gas mixture, the density $\\overline\\rho$ of a mixture of liquids $n$ ($A_1$, $A_2$, $A_3$...) can be estimated from the component mass fractions [$x_i$] and pure-component densities [$\\rho_i$].\n",
    "\n",
    "$$ \\overline\\rho = \\sum_{i=1}^{n} {x_i}{\\rho}_i$$\n",
    "\n",
    "---\n",
    "## 3.1.3 &ndash; Example 1\n",
    "\n",
    "Natural gas is **volumetrically** made up of 94.44% Methane ($CH_4$), 4.24% Ethane ($C_2H_6$), 0.22% Propane ($C_3H_8$), 0.78% Nitrogen ($N_2$), and 0.32% Carbon Dioxide ($CO_2$). What is the density of this natural gas mixture?\n",
    "\n",
    "Let's assume a total volume of 1 litre. This means there will be:\n",
    "\n",
    "$$1 \\space L \\cdot 0.9444 = 0.9444 \\space L \\space [CH_4]$$\n",
    "\n",
    "$$1 \\space L \\cdot 0.0424 =  0.0424 \\space L \\space [C_2H_6]$$\n",
    "\n",
    "$$1 \\space L \\cdot 0.0022 = 0.0022 \\space L \\space [C_3H_8]$$\n",
    "\n",
    "$$1 \\space L \\cdot 0.0078 = 0.0078 \\space L \\space [N_2]$$\n",
    "\n",
    "$$1 \\space L \\cdot 0.0032 = 0.0032 \\space L \\space [CO_2]$$\n",
    "\n",
    "Note we cannot use volumetric fractions directly to calculate the mixture density. Looking up the density of each component, the total mass and the mass fractions would be:\n",
    "\n",
    "$$ 944.4 \\space L \\space [CH_4] \\cdot \\frac{0.72g}{L} = 679.97 \\space g $$\n",
    "\n",
    "$$ 42.4 \\space L \\space [C_2H_6] \\cdot \\frac{1.34g}{L} = 0.05682 \\space g $$\n",
    "\n",
    "$$ 2.2 \\space L \\space [C_3H_8] \\cdot \\frac{1.97g}{L} = 0.004334 \\space g$$\n",
    "\n",
    "$$ 7.8 \\space L \\space [N_2] \\cdot \\frac{1.251g}{L} = 0.009758 \\space g$$\n",
    "\n",
    "$$ 3.2 \\space L \\space [CO_2] \\cdot \\frac{1.977g}{L} = 0.006326 \\space g$$\n",
    "\n",
    "\n",
    "The total mass of the 1 litre mixture would be the sum of these masses, which comes to $680.05 \\space g$. The mass fractions of the components then are:\n",
    "\n",
    "$$ \\frac{679.97}{680.05} \\space [CH_4] = 0.99988 $$\n",
    "\n",
    "$$ \\frac{0.05682}{680.05} \\space [C_2H_6] = 0.00008355 $$\n",
    "\n",
    "$$ \\frac{0.004334}{680.05} \\space [C_3H_8] = 0.00000637 $$\n",
    "\n",
    "$$ \\frac{0.009758}{680.05} \\space [N_2] = 0.00001435 $$\n",
    "\n",
    "$$ \\frac{0.006326}{680.05} \\space [CO_2] = 0.0000093 $$\n",
    "\n",
    "The density of the mixture can be approximated by just the methane alone, the mass fraction is substantially more than the others.\n",
    "\n",
    "$$ \\overline\\rho_{natural \\space gas} = \\sum_{i=1}^{n} {x_i}{\\rho}_i = 0.99988 \\cdot \\frac{0.72 \\space g}{L} = 0.72 \\space \\frac{g}{L}  $$\n",
    "\n",
    "A common usage of densities and S.G. is the calculation of mass or volumetric flowrates, given one of the two factors, since:\n",
    "\n",
    "$$\\rho = \\frac{\\dot{m}}{\\dot{V}} = \\frac{m}{V} $$\n",
    "\n",
    "Note: The dot above the variable means that the unit is the variable **per unit time**. (e.g. $\\dot{m}$ = $mass/time$)\n",
    "\n",
    "---\n",
    "## 3.1.4 &ndash; Example 2\n",
    "\n",
    "The volumetric flow rate of $CCl_4$ ( $\\rho = 1.595 \\space g/cm^3$ ) in a pipe is 100.0 cm$^3$ /min. What is the mass flow rate of the $CCl_4$?\n",
    "\n",
    "$$ \\dot{m}_{CCl_4} = 100.0 \\space \\frac{cm^3}{min} \\times 1.595 \\space \\frac{g}{cm^3} = 159.5 \\space \\frac{g}{min} $$\n"
   ]
  },
  {
   "cell_type": "code",
   "execution_count": null,
   "metadata": {
    "collapsed": true
   },
   "outputs": [],
   "source": []
  }
 ],
 "metadata": {
  "anaconda-cloud": {},
  "kernelspec": {
   "display_name": "Python 3",
   "language": "python",
   "name": "python3"
  },
  "language_info": {
   "codemirror_mode": {
    "name": "ipython",
    "version": 3
   },
   "file_extension": ".py",
   "mimetype": "text/x-python",
   "name": "python",
   "nbconvert_exporter": "python",
   "pygments_lexer": "ipython3",
   "version": "3.6.1"
  }
 },
 "nbformat": 4,
 "nbformat_minor": 1
}
