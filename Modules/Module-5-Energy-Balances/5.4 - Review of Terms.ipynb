{
 "cells": [
  {
   "cell_type": "markdown",
   "metadata": {},
   "source": [
    "# 5.4 &ndash; Thermodynamic Terms\n",
    "\n",
    "---"
   ]
  },
  {
   "cell_type": "markdown",
   "metadata": {},
   "source": [
    "## 5.4.0 &ndash; Learning Objectives\n",
    "\n",
    "By the end of this section you should be able to:\n",
    "\n",
    "1. Understand some of the jargon employed in thermodynamics\n",
    "\n",
    "---"
   ]
  },
  {
   "cell_type": "markdown",
   "metadata": {},
   "source": [
    "## 5.4.1 &ndash; Introduction\n",
    "\n",
    "Thermodynamics has a lot of jargon to explain the phenomena that occur. This notebook will go over the term that you will encounter in many problems such as Isothermal, Adiabatic, Isochoric, as well as open and closed systems.\n",
    "\n",
    "---"
   ]
  },
  {
   "cell_type": "markdown",
   "metadata": {},
   "source": [
    "## 5.4.2 &ndash; Glossary\n",
    "- __Isothermal:__ Constant temperature $\\Delta T = 0$. A process undergoing isothermal expansion is undergoing expansion at __constant temperature__\n",
    "\n",
    "\n",
    "- __Adiabatic:__ No heat is added or removed from the system; $Q = 0$. This can be described as __perfectly  insulated__\n",
    "\n",
    "\n",
    "- __Isochoric/Isovolumetric:__ Constant volume.\n",
    "\n",
    "\n",
    "- __Isobaric:__ Constant Pressure.\n",
    "\n",
    "\n",
    "- __Open system:__ A system in which mass/matter is __not conserved__.\n",
    "\n",
    "\n",
    "- __Closed system:__ A system in which mass/matter is __conserved__. \n",
    "\n",
    "\n",
    "- __Isolated system:__ A system in which matter/mass and energy are __conserved__. '\n",
    "\n",
    "- __Specific property:__ A property that is divided by mass. \n",
    "\n",
    "\n",
    "### check yourself: \n",
    "\n",
    "Is a homebrew an open/closed system?\n",
    "\n",
    "### Answer: \n",
    "\n",
    "It depends. Ideally you want a __closed__ system to allow for a good fermentation of the brew. To prevent the fermenter from blowing up an airlock is added which allows air to escape but not re-enter making it an __open__ system."
   ]
  },
  {
   "cell_type": "code",
   "execution_count": null,
   "metadata": {
    "collapsed": true
   },
   "outputs": [],
   "source": []
  }
 ],
 "metadata": {
  "anaconda-cloud": {},
  "kernelspec": {
   "display_name": "Python 3",
   "language": "python",
   "name": "python3"
  },
  "language_info": {
   "codemirror_mode": {
    "name": "ipython",
    "version": 3
   },
   "file_extension": ".py",
   "mimetype": "text/x-python",
   "name": "python",
   "nbconvert_exporter": "python",
   "pygments_lexer": "ipython3",
   "version": "3.6.1"
  }
 },
 "nbformat": 4,
 "nbformat_minor": 2
}
