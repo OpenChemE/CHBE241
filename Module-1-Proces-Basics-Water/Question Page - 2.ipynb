{
 "cells": [
  {
   "cell_type": "markdown",
   "metadata": {},
   "source": [
    "# Question Page &ndash; 2\n",
    "\n",
    "## Question\n",
    "\n",
    "In wastewater treatement, an important step in the process is sedimentation. Sedimentation is the process of allowing particulate matter in a fluid to settle to the bottom of a tank. In the sedimentation step, a coagulant can be used to coagulate bacteria and fine particles to allow the sedimentation to occur faster. The most common molecular species used for coagulation is alum, $Al_2 (SO_4)_3 \\cdot 14H_2 O $.\n",
    "\n",
    "You are a chemical engineer working in a waste water treatment plant. You are asked to make a material balance on the sedamentation process. Waste water flows into a sedimentation tank at 200 L/s. The waste water contains 1 wt% of bacteria, and 20 wt% of other particulate matter. Alum is added to the sedimentation tank. Alum allows 99% of the bacteria and partculate matter to settle. The sludge at the bottom of the tank exists the tank with 40 wt% of water and the balance bacteria and partuclate matter. The semi-treated water exits the tank in a seperate stream.\n",
    "\n",
    "a) Draw and label a block flow diagram.\n",
    "\n",
    "b) Perform a degree of freedom analysis.\n",
    "\n",
    "c) Fully balance the remainder of the block flow diagram."
   ]
  },
  {
   "cell_type": "code",
   "execution_count": null,
   "metadata": {
    "collapsed": true
   },
   "outputs": [],
   "source": []
  }
 ],
 "metadata": {
  "kernelspec": {
   "display_name": "Python 3",
   "language": "python",
   "name": "python3"
  },
  "language_info": {
   "codemirror_mode": {
    "name": "ipython",
    "version": 3
   },
   "file_extension": ".py",
   "mimetype": "text/x-python",
   "name": "python",
   "nbconvert_exporter": "python",
   "pygments_lexer": "ipython3",
   "version": "3.6.1"
  }
 },
 "nbformat": 4,
 "nbformat_minor": 2
}
