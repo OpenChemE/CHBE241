{
 "cells": [
  {
   "cell_type": "markdown",
   "metadata": {},
   "source": [
    "# Question Page &ndash; 2\n",
    "\n",
    "## Question\n",
    "\n",
    "In wastewater treatment, an important step in the process is sedimentation. Sedimentation is the process of allowing particulate matter in a fluid to settle to the bottom of a tank. In the sedimentation step, a coagulant can be used to coagulate bacteria and fine particles to allow the sedimentation to occur faster. The most common molecular species used for coagulation is alum, $Al_2 (SO_4)_3 \\cdot 14H_2 O $.\n",
    "\n",
    "You are a chemical engineer working in a waste water treatment plant. You are asked to make a material balance on the sedimentation process. Waste water flows into a sedimentation tank at 200 kg/s. The waste water contains 1 wt% of bacteria, 20 wt% particulate matter, and the balance pure water. Pure alum is added to the sedimentation tank in a separate stream. Alum allows 80% of the bacteria and 99 % of the particulate matter to settle. Just enough alum is added for this ratio of settlement. The sludge at the bottom of the tank exits the tank with 40 wt% of water. The semi-treated water exits the tank in a separate stream.\n",
    "\n",
    "a) Draw and label a block flow diagram (BFD).\n",
    "\n",
    "b) Perform a degree of freedom analysis.\n",
    "\n",
    "c) Fully balance the remainder of the block flow diagram.\n",
    "\n",
    "## Answer\n",
    "\n",
    "### a) Draw and label a block flow diagram (BFD)\n",
    "\n",
    "First, let's draw the basic layout of the BFD:\n",
    "\n",
    "![](../figures/Module-1/Sedimentation-2.svg)\n",
    "\n",
    "Using the information given, lets fill out as much of the BFD as we can.\n",
    "\n",
    "$$ x_{(1, \\space H_2 O)} = 1 - x_{(1, \\space Particulate)} - x_{(1, \\space Bacteria)} = 1 - 0.2 - 0.01 = 0.79 $$\n",
    "\n",
    "$$ x_{(2, \\space Al_2 (SO_4)_3 \\cdot 14 H_2 O)} = 1 $$\n",
    "\n",
    "$$ x_{(4, \\space H_2 O)} = 0.40 $$\n",
    "\n",
    "![](../figures/Module-1/Sedimentation-3.svg)\n",
    "\n",
    "### b) Perform a degree of freedom analysis\n",
    "\n",
    "We have 9 unknowns, so we need to find 9 equations. First lets do all of the mass balances:\n",
    "\n",
    "$$ \\dot{m}_1 + \\dot{m}_2 = \\dot{m}_3 + \\dot{m}_4 $$\n",
    "\n",
    "$$ \\dot{m}_1 x_{(1, \\space H_2 O)} = \\dot{m}_3 x_{(3, \\space H_2 O)} + \\dot{m}_4 x_{(4, \\space H_2 O)} $$\n",
    "\n",
    "$$ \\dot{m}_1 x_{(1, Particulate)} = \\dot{m}_4 x_{(4, Particulate)} + \\dot{m}_3 x_{(3, Particulate)} $$\n",
    "\n",
    "$$ \\dot{m}_1 x_{(1, Bacteria)} = \\dot{m}_4 x_{(4, Bacteria)} + \\dot{m}_3 x_{(3, Bacteria)} $$\n",
    "\n",
    "$$ \\dot{m}_2 x_{(2, \\space Al_2 (SO_4)_3 \\cdot 14 H_2 O)} = \\dot{m}_4 x_{(4, \\space Al_2 (SO_4)_3 \\cdot 14 H_2 O)} $$\n",
    "\n",
    "Now lets do the mass fraction balance:\n",
    "\n",
    "$$ x_{(3, \\space H_2 O)} = 1 - x_{(3, Particulate)} - x_{(3, Bacteria)} $$\n",
    "\n",
    "$$ x_{(4, \\space Particulate)} = 1 - x_{(4, H_2 O)} - x_{(4, Bacteria)} - x_{(4, \\space Al_2 (SO_4)_3 \\cdot 14 H_2 O)} $$\n",
    "\n",
    "Next lets write our the extra equations:\n",
    "\n",
    "$$ 0.99 \\cdot \\dot{m}_1 x_{(1, Particulate)} = \\dot{m}_4 x_{(4, Particulate)} $$\n",
    "\n",
    "$$ 0.80 \\cdot \\dot{m}_1 x_{(1, Bacteria)} = \\dot{m}_4 x_{(4, Bacteria)} $$\n",
    "\n",
    "Finally we can solve for the degrees of freedom:\n",
    "\n",
    "$$ \\text{DOF} = 9 - 9 = 0 $$\n",
    "\n",
    "### c) Fully balance the remainder of the block flow diagram\n",
    "\n",
    "To fully we balance the diagram we must first solve for all of the unknowns."
   ]
  },
  {
   "cell_type": "code",
   "execution_count": null,
   "metadata": {
    "collapsed": true
   },
   "outputs": [],
   "source": []
  }
 ],
 "metadata": {
  "kernelspec": {
   "display_name": "Python 3",
   "language": "python",
   "name": "python3"
  },
  "language_info": {
   "codemirror_mode": {
    "name": "ipython",
    "version": 3
   },
   "file_extension": ".py",
   "mimetype": "text/x-python",
   "name": "python",
   "nbconvert_exporter": "python",
   "pygments_lexer": "ipython3",
   "version": "3.6.1"
  }
 },
 "nbformat": 4,
 "nbformat_minor": 2
}
