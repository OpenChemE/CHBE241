{
 "cells": [
  {
   "cell_type": "markdown",
   "metadata": {},
   "source": [
    "# Basic Unit Operation"
   ]
  },
  {
   "cell_type": "markdown",
   "metadata": {},
   "source": [
    "## Learning Objectives\n",
    "\n",
    "By the end of this section you should be able to:\n",
    "\n",
    "1. Know the four basic unit operations covered in this course.\n",
    "2. Understand how each of the unit operations work.\n",
    "3. Understand the purpose of each unit operation.\n",
    "\n",
    "## Introduction\n",
    "\n",
    "In chemical engineering, a unit operation is a step in a process. Each of these steps gets the raw feedstock closer to the final products. Diffrent unit operations have diffrent functionalities and purposes. We will cover **mixers**, **reactors**, **separators**, and **splitters** in this course."
   ]
  },
  {
   "cell_type": "markdown",
   "metadata": {},
   "source": [
    "## Mixer\n",
    "\n",
    "In a process, a **mixer** is a unit operation that attempts to make a **heterogeneous** system into a **homogenous** system. Examples include scrambling eggs, mixing sugar and cream into coffee, and a Continuous Stirred-Tank Reactor used in water treatment. A mixer allows heat and/or mass transfer to occur between one or more streams. \n",
    "\n",
    "<img src=\"../figures/Module-1/Mixer.png\" style= \"height:350px\">\n",
    "\n",
    "## Reactor\n",
    "\n",
    "In a process, a **reactor** is a unit operation that is designed to contain a chemical reaction. These reaction can include anything from burning natural gas to chlorination water for purification purposes.\n",
    "\n",
    "<img src=\"../figures/Module-1/Batch_reactor.2.jpg\" style= \"height:350px\">\n",
    "\n",
    "## Separator \n",
    "\n",
    "In a process, a **separator** is a unit operation that converts a mixture of chemical species to two or more distinct products. Think of separators as opposite of mixers. An example of a separator is in disstilation, where you are trying to separate the impurities from the alcohol. \n",
    "\n",
    "<img src=\"../figures/Module-1/BatchDistill.svg\" style= \"height:250px\">\n",
    "\n",
    "## Splitter\n",
    "\n",
    "In a process, a **splitter** is a unit operation that splits a line into two or more directions. This is similar to a separator except the product lines have the same chemical makings."
   ]
  },
  {
   "cell_type": "markdown",
   "metadata": {},
   "source": [
    "## Works Cited\n",
    "\n",
    "https://en.wikipedia.org/wiki/Mixing_(process_engineering)#Basic_Nomenclature\n",
    "http://www.labdepotinc.com/admin/uploads/flatspin-stirrer-86352003.png"
   ]
  },
  {
   "cell_type": "code",
   "execution_count": null,
   "metadata": {
    "collapsed": true
   },
   "outputs": [],
   "source": []
  }
 ],
 "metadata": {
  "kernelspec": {
   "display_name": "Python 3",
   "language": "python",
   "name": "python3"
  },
  "language_info": {
   "codemirror_mode": {
    "name": "ipython",
    "version": 3
   },
   "file_extension": ".py",
   "mimetype": "text/x-python",
   "name": "python",
   "nbconvert_exporter": "python",
   "pygments_lexer": "ipython3",
   "version": "3.6.1"
  }
 },
 "nbformat": 4,
 "nbformat_minor": 2
}
