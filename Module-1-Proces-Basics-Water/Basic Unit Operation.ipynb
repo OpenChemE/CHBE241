{
 "cells": [
  {
   "cell_type": "markdown",
   "metadata": {},
   "source": [
    "# Basic Unit Operation"
   ]
  },
  {
   "cell_type": "markdown",
   "metadata": {},
   "source": [
    "## Learning Objectives\n",
    "\n",
    "By the end of this section you should be able to:\n",
    "\n",
    "1. Know the four basic unit operations covered in this course.\n",
    "\n",
    "\n",
    "\n",
    "\n",
    "## Introduction\n",
    "\n",
    "In chemical engineering, a unit operation is a step in a process. "
   ]
  },
  {
   "cell_type": "markdown",
   "metadata": {},
   "source": [
    "## Mixer\n",
    "\n",
    "In a process, a mixer is a unit operation that attempts to make a **heterogeneous** system into a **homogenous** system. Examples include scrambling eggs, mixing sugar and cream into coffee, and a Continuous Stirred-Tank Reactor used in water treatment. A mixer allows heat and/or mass transfer to occur between one or more streams. \n",
    "\n",
    "![](../figures/Module-1/Mixer.png)\n",
    "\n",
    "## Reactor\n",
    "\n",
    "## Separator \n",
    "\n",
    "## Splitter\n"
   ]
  },
  {
   "cell_type": "markdown",
   "metadata": {},
   "source": [
    "## Works Cited\n",
    "\n",
    "https://en.wikipedia.org/wiki/Mixing_(process_engineering)#Basic_Nomenclature\n",
    "http://www.labdepotinc.com/admin/uploads/flatspin-stirrer-86352003.png"
   ]
  },
  {
   "cell_type": "code",
   "execution_count": null,
   "metadata": {
    "collapsed": true
   },
   "outputs": [],
   "source": []
  }
 ],
 "metadata": {
  "kernelspec": {
   "display_name": "Python 3",
   "language": "python",
   "name": "python3"
  },
  "language_info": {
   "codemirror_mode": {
    "name": "ipython",
    "version": 3
   },
   "file_extension": ".py",
   "mimetype": "text/x-python",
   "name": "python",
   "nbconvert_exporter": "python",
   "pygments_lexer": "ipython3",
   "version": "3.6.1"
  }
 },
 "nbformat": 4,
 "nbformat_minor": 2
}
