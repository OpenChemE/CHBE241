{
 "cells": [
  {
   "cell_type": "markdown",
   "metadata": {},
   "source": [
    "#  Degrees of Freedom (DOF)"
   ]
  },
  {
   "cell_type": "markdown",
   "metadata": {},
   "source": [
    "## Learning Objectives\n",
    "\n",
    "By the end of this section you should be able to:\n",
    "\n",
    "1. Understand the concept of **degrees of freedom**.\n",
    "2. Perform a degree of freedom **analysis**.\n",
    "\n",
    "## Introduction\n",
    "\n",
    "Anyone who has done material balances knows how frustrating it is to be working on a question for a long period of time, only to discover that there was not enough information given in the question. This dilemma is the reason why a **degree-of-freedom** (DOF) analysis is very powerful."
   ]
  },
  {
   "cell_type": "markdown",
   "metadata": {},
   "source": [
    "## Definition\n",
    "\n",
    "When applied to a general process, DOF is the difference between the number of unknown variables and the number of equations relating those variables.\n",
    "\n",
    "## Performing a DOF Analysis\n",
    "\n",
    "To perform a DOF analysis, we need to first draw and completely label a block flow diagram (BFD). Next, we need to count the unknown variables on the BFD. After this, we need to count the independent equations relating them. Finally we subtract the number of equations from the number of unknown variables. The result is the DOF of the process, $ n_{df} $. From this calculation, there are three possibilities:\n",
    "\n",
    "1. If $ n_{df} = 0 $ then there is the same number of unknown variables and equating equations and the problem can be solved.\n",
    "2. If $ n_{df} > 0 $ then there are more unknown variables than equating equations and the system cannot be solved yet. When this inequality happens, we say the question is underspecified and has infinitely many solutions.\n",
    "3. If $ n_{df} < 0 $ then there are less unknown variables than equating equations. This inequality means that either the BFD was incorrectly labeled or the problem was over specified with useless information."
   ]
  },
  {
   "cell_type": "markdown",
   "metadata": {},
   "source": [
    "## Problem Statement\n",
    "\n",
    "### Question\n",
    "A stream of humid air enters a condenser in which 95% of the water vapor in the air is condensed. The flow rate of the condensate (the liquid leaving the condenser) is measured and found to be 225 L/h. Dry air may be taken to contain 21 mole% oxygen, with the balance nitrogen. The entering air contains 10.0 mole% water. Calculate the degrees of freedom.\n",
    "\n",
    "![](../figures/Module-1/DOF_problem.jpg)\n",
    "\n",
    "### Answer\n",
    "Right off the bat we know the number of unknowns is $ n_{unknown} = 5 $ and now we need to find the number of relating equations.\n",
    "\n",
    "1. $ \\dot{n_2} = \\frac{225 \\space L \\space \\mathbf{H}_2 \\mathbf{O}}{h} \\times \\frac{1.00 \\space kg \\space \\mathbf{H}_2 \\mathbf{O}}{L} \\times \\frac{1 \\space mol \\space \\mathbf{H}_2 \\mathbf{O}}{18.0 \\times 10^{-3} \\space kg} $\n",
    "2. $ \\dot{n_2} = (0.95)( 0.100 \\space \\dot{n_1} ) $ \n",
    "3. $ \\dot{n_3} = (0.21)( 0.900 \\space \\dot{n_1} ) $\n",
    "4. $ \\dot{n_4} = (0.79)( 0.900 \\space \\dot{n_1} ) $\n",
    "5. $ \\dot{n_5} + \\dot{n_2} = ( 0.100 \\space \\dot{n_1} ) $\n",
    "\n",
    "The first equation relates the volumetric flow rate to the molar flow rate which will give us a value for $ \\dot{n_2} $. The second equation relates $ \\dot{n_2} $ to $ \\dot{n_1} $ using the 95% condensation. The third equation balances $ O_2 $. The fourth equation balances $ N_2 $. The fifth equation balances the $ H_2 O $."
   ]
  },
  {
   "cell_type": "code",
   "execution_count": null,
   "metadata": {
    "collapsed": true
   },
   "outputs": [],
   "source": []
  }
 ],
 "metadata": {
  "kernelspec": {
   "display_name": "Python 3",
   "language": "python",
   "name": "python3"
  },
  "language_info": {
   "codemirror_mode": {
    "name": "ipython",
    "version": 3
   },
   "file_extension": ".py",
   "mimetype": "text/x-python",
   "name": "python",
   "nbconvert_exporter": "python",
   "pygments_lexer": "ipython3",
   "version": "3.6.1"
  }
 },
 "nbformat": 4,
 "nbformat_minor": 2
}
