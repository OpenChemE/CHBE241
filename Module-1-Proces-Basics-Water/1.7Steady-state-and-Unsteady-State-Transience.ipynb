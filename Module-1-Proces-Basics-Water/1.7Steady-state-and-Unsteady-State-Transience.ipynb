{
 "cells": [
  {
   "cell_type": "markdown",
   "metadata": {},
   "source": [
    "\n",
    "## Learning Objectives\n",
    "\n",
    "By the end of this section you should be able to:\n",
    "\n",
    "1. Understand the difference between steady-state and unsteady state classification.\n",
    "2. characterize the two calssifications. \n",
    "3. understand the math in the classifications.\n",
    "\n",
    "## Introduction\n",
    "\n",
    "Steady-state and unsteady-state processes describe the time interval that a process "
   ]
  },
  {
   "cell_type": "code",
   "execution_count": null,
   "metadata": {
    "collapsed": true
   },
   "outputs": [],
   "source": []
  }
 ],
 "metadata": {
  "kernelspec": {
   "display_name": "Python 3",
   "language": "python",
   "name": "python3"
  },
  "language_info": {
   "codemirror_mode": {
    "name": "ipython",
    "version": 3
   },
   "file_extension": ".py",
   "mimetype": "text/x-python",
   "name": "python",
   "nbconvert_exporter": "python",
   "pygments_lexer": "ipython3",
   "version": "3.6.1"
  }
 },
 "nbformat": 4,
 "nbformat_minor": 2
}
