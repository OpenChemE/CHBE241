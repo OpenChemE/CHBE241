{
 "cells": [
  {
   "cell_type": "markdown",
   "metadata": {},
   "source": [
    "\n",
    "## Learning Objectives\n",
    "\n",
    "By the end of this section you should be able to:\n",
    "\n",
    "1. Understand the difference between steady-state and unsteady state classification.\n",
    "2. characterize the two calssifications. \n",
    "3. understand the math in the classifications.\n",
    "\n",
    "## Introduction\n",
    "\n",
    "Steady-state and unsteady-state processes describe the time interval that a process occurs over. steady-state refers to the time period where the __variable of interest doesn't change__. Unsteady-state is when the varible of interest __changes over time.__ While all processes have a steady-state and __transient__ phase, it is more beneficial to evaluate certain processes with steady-state or transience.\n",
    "\n",
    "__ Note: __ Steady-state is often referred to as __S.S__, you may see that written in problems. Transience is  used __interchangeably__ with unsteady-state. It will be referred in this section interchangeably You may see problems using __U.S.S__"
   ]
  },
  {
   "cell_type": "markdown",
   "metadata": {
    "collapsed": true
   },
   "source": [
    "## When to use Steady State and Unsteady state\n",
    "\n",
    "Except for minor fluctuations, steady-state indicates that there is no change in  the variable of interest. A can of pop lying outside is at steady-state because it will not change temperature suddenly.\n",
    "\n",
    "As such, it is best to analyze continuous flow reactors using steady state analysis.\n",
    "\n",
    "Unsteady state processes have a definitive change over time. Boiling water takes room temperatured water and raises it to 100 C over a set time. Because of this, batch and fed-batch reactors are often analyzed using unsteady-state methods.\n",
    "\n",
    "The following section will cover how the analysis is carried out."
   ]
  },
  {
   "cell_type": "code",
   "execution_count": null,
   "metadata": {},
   "outputs": [],
   "source": []
  },
  {
   "cell_type": "markdown",
   "metadata": {},
   "source": []
  }
 ],
 "metadata": {
  "kernelspec": {
   "display_name": "Python 3",
   "language": "python",
   "name": "python3"
  },
  "language_info": {
   "codemirror_mode": {
    "name": "ipython",
    "version": 3
   },
   "file_extension": ".py",
   "mimetype": "text/x-python",
   "name": "python",
   "nbconvert_exporter": "python",
   "pygments_lexer": "ipython3",
   "version": "3.6.1"
  }
 },
 "nbformat": 4,
 "nbformat_minor": 2
}
