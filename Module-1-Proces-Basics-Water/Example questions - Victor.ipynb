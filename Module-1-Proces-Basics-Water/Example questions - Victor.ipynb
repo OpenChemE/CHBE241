{
 "cells": [
  {
   "cell_type": "markdown",
   "metadata": {},
   "source": [
    "## 1.1 - Unit conversion\n",
    "\n",
    "Despite the odds, the Kinger-Sporgan pipeline is being built to no environmental impact, which will soon supply BC and Washington state with 40,001 barrels of oil biweekly (including weekends). As an employee of Dusty Oil in Vancouver, you keep in contact with your colleagues in the United States and update them on the amount of oil being supplied. Since they use metric and you use the imperial system, what is the amount of oil transported, in metric?\n",
    "\n",
    "**Note**: Use 1 oil barrel = 35 imperial gallons. Not US gallons."
   ]
  },
  {
   "cell_type": "markdown",
   "metadata": {},
   "source": [
    "According to the back of our text, \n",
    "\n",
    "$$1000 \\space L = 220.83 \\space \\text{imperial gallons}$$\n",
    "\n",
    "Let's find out how many litres are in an imperial gallon first:\n",
    "\n",
    "$$ 1000 \\space L \\space \\div \\space 220.83 \\space \\text{imperial gallons} = 4.5283 \\space \\frac{L}{\\text{imperial gallons}} $$\n",
    "\n",
    "Now we know that biweekly, the total amount of oil transported is:\n",
    "\n",
    "$$ 40,001 \\space barrels \\space \\times \\space 35 \\space 35 \\space \\frac{\\text{imperial gallons}}{barrels} \\times \\space 4.5283 \\space \\frac{L}{\\text{imperial gallons}} = 6339778 \\space litres $$\n",
    "\n",
    "Let's find how how many litres are transported in seconds. Since I don't know how many seconds are in a fortnight off the top of my head:\n",
    "\n",
    "$$ 14 \\space days \\space \\times \\space 24 \\space \\frac{hours}{day} \\space \\times \\space 3600 \\space \\frac{seconds}{hour} = 1209600 \\space seconds $$\n",
    "\n",
    "Finally, you can report that the total amount of oil transported, in metric units, is:\n",
    "\n",
    "$$ 6339778 \\space litres \\div 1209600 \\space seconds = 5.241 \\space \\frac{L}{s} $$"
   ]
  },
  {
   "cell_type": "markdown",
   "metadata": {},
   "source": [
    "## 1.2 - Basic Unit Operations\n",
    "\n",
    "\n"
   ]
  }
 ],
 "metadata": {
  "anaconda-cloud": {},
  "kernelspec": {
   "display_name": "Python [default]",
   "language": "python",
   "name": "python3"
  },
  "language_info": {
   "codemirror_mode": {
    "name": "ipython",
    "version": 3
   },
   "file_extension": ".py",
   "mimetype": "text/x-python",
   "name": "python",
   "nbconvert_exporter": "python",
   "pygments_lexer": "ipython3",
   "version": "3.5.2"
  }
 },
 "nbformat": 4,
 "nbformat_minor": 1
}
