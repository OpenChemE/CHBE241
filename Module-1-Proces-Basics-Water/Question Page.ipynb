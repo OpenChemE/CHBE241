{
 "cells": [
  {
   "cell_type": "markdown",
   "metadata": {},
   "source": [
    "# Question Page\n",
    "\n",
    "## Question\n",
    "\n",
    "Iron can be one of the most troublesome elements in water. It is very improtant to treat water containing large amounts of iron because as little as 0.3 ppm (parts per million) of iron can cause damage to manufracturing processes and the enviroment. The most common forms of iron found in water is ferrous, $\\text{Fe}^{+2}$, and ferric, $\\text{Fe}^{+3}$. The ferrous and ferric increases the acidity of the water. To treat the water, a base is needed such as sodium hydroxide, $\\text{NaOH}$. The base causes a titration with the ferrous titrating to iron hydroxide, $\\text{Fe(OH)}_2$, and ferric titrating to ferric hydroxide, $\\text{Fe(OH)}_3$. These hydroxides are not soluble in water and therefore can be extracted from the water.\n",
    "\n",
    "$$ \\text{Fe}^{+2}_{(aq)} + 2 \\space \\text{NaOH}_{(aq)} \\space \\rightleftharpoons \\space  \\text{Fe(OH)}_{2 \\space (s)} + 2 \\space \\text{Na}_{(aq)}^{+1}$$\n",
    "\n",
    "$$ \\text{Fe}^{+3}_{(aq)} + 3 \\space \\text{NaOH}_{(aq)} \\space \\rightleftharpoons \\space  \\text{Fe(OH)}_{3 \\space (s)} + 3 \\space \\text{Na}_{(aq)}^{+1}$$\n",
    "\n",
    "You are a chemical engineer working at a mining company. You're boss wants you to make a material balance of the water treatment of iron so that he can analyze the cost of the treatment. You will be using a continuous stirred-tank reactor (CSTR). Assume that only ferrous is present in the water.\n",
    "\n",
    "$$ \\text{Fe}^{+2}_{(aq)} + 2 \\space \\text{NaOH}_{(aq)} \\space \\rightleftharpoons \\space  \\text{Fe(OH)}_{2 \\space (s)} + 2 \\space \\text{Na}_{(aq)}^{+1}$$\n",
    "\n",
    "There is two input stream and two out put streams. The first input stream, stream 1, contains water, ferrous at 200 ppm, and ferric at 300 ppm. The flowrate of this stream is 450 L/h. The second input stream, stream 2, is a 3 molar solution of sodium hydroxide. The first output stream, stream 3, contains  only ferrous oxide. The second output stream, stream 4, contains all of the water that entered the system, the soduim and the legal amount of iron in the water at 0.3 ppm.\n",
    "\n",
    "a) Draw and label the body flow diagram.\n",
    "\n",
    "b) Perform a degree of freedom analysis.\n",
    "\n",
    "c) Find how much, by mass, soduim hydroxide you need.\n",
    "\n",
    "## Answer\n",
    "\n",
    "a) First we must put everything under the same basis.\n"
   ]
  },
  {
   "cell_type": "code",
   "execution_count": null,
   "metadata": {
    "collapsed": true
   },
   "outputs": [],
   "source": []
  }
 ],
 "metadata": {
  "kernelspec": {
   "display_name": "Python 3",
   "language": "python",
   "name": "python3"
  },
  "language_info": {
   "codemirror_mode": {
    "name": "ipython",
    "version": 3
   },
   "file_extension": ".py",
   "mimetype": "text/x-python",
   "name": "python",
   "nbconvert_exporter": "python",
   "pygments_lexer": "ipython3",
   "version": "3.6.1"
  }
 },
 "nbformat": 4,
 "nbformat_minor": 2
}
