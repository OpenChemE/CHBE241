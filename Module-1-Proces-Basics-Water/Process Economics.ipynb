{
 "cells": [
  {
   "cell_type": "markdown",
   "metadata": {},
   "source": [
    "# Process Economics\n",
    "\n",
    "## Introduction\n",
    "The main objective of a chemical engineer is to try to make a process as efficient as possible. If efficiency is increased, then profits for the company increase, pollution and waste decrease. These factors are vital in the process industry. \n",
    "\n",
    "## Overview\n",
    "\n",
    "### Feedstock\n",
    "\n",
    "Feedstock is raw material used to supply an industrial process. The cost of the feedstock is determined by its **quantity** and **quality**. The higher the quality, which is defined by its purity, the higher the price. Though high purity feedstock is more expensive, the presence of impurities creates more **unwanted by-products** and waste products from the reaction. Impurities can also reduce the effectiveness of catalyst and increase corrosion so there is a middle ground that needs to be found. A good analogy of this is the productivity of a person vs how many hours a week they have worked. ![](../figures/Module-1/Graph.png) \n",
    "\n",
    "As you can see, in the figure above, more hours worked in a week does not always relate to more productivity. This is also true with purity and profits. There is a certain point where high purity yields less profits.\n",
    "\n",
    "### Catalyst\n",
    "\n",
    "Catalyst greatly increase the efficiency of a process, lower operating costs and increase profits. Every catalyst works differently but the main idea behind it is that they lower the activation energy needed to allow a chemical reaction to occur. By lower the activation energy, the energy needed to produce the wanted products is greatly lowered. ![](../figures/Module-1/Graph-2.png)\n",
    "\n",
    "### Energy\n",
    "\n",
    "One of the largest if not the largest cost of a chemical process is the energy cost. The energy needed can be lowered by using a catalyst, discovering new ways to improve how a reaction is conducted, or renewing old unit operations. Decreasing the energy needed for the process increases profits and helps the environment by lowering the carbon footprint of the process."
   ]
  },
  {
   "cell_type": "markdown",
   "metadata": {},
   "source": [
    "## Problem Statement\n",
    "\n",
    "### Question\n",
    "\n",
    "You are the lead chemical engineer at a chemical plant in Burnaby. One of your employees has suggest using a new catalyst that costs \\$200 per tonne of product more than the current catalyst you use, but lowers energy need by 5 MWh per tonne of product. The total power used per tonne is 10 MWh the cost of energy in BC is \\$0.0858 per kWh for the first 1,350 kWh and \\$0.1287 for anything over the 1,350 kWh threshold. Is this a viable replacement?\n",
    "\n",
    "### Answer \n",
    "\n",
    "Since the plant already uses 10 MWh, we will already be past the first threshold even with the savings. Therefore the only price we need to worry about is \\$0.1287."
   ]
  },
  {
   "cell_type": "code",
   "execution_count": 3,
   "metadata": {
    "collapsed": false
   },
   "outputs": [
    {
     "name": "stdout",
     "output_type": "stream",
     "text": [
      "Using the new catalyst will save the plant $ 443.5 so it is a viable option.\n"
     ]
    }
   ],
   "source": [
    "cost_increase = 200\n",
    "power_needed = 5000\n",
    "power_price = 0.1287\n",
    "\n",
    "cost_decrease = power_needed * power_price\n",
    "savings = cost_decrease - cost_increase\n",
    "\n",
    "print(\"Using the new catalyst will save the plant $\",savings, \"so it is a viable option.\")"
   ]
  },
  {
   "cell_type": "markdown",
   "metadata": {},
   "source": [
    "## Works Cited\n",
    "\n",
    "1. Graph 1: http://mattrogish.com/images/productivity/productivity_cliff.png\n",
    "2. Graph 2: http://gcylinder.com/wp-content/uploads/catalystReaction.png\n",
    "3. Some info: https://www.eolss.net/sample-chapters/c06/e6-34-06-05.pdf"
   ]
  },
  {
   "cell_type": "code",
   "execution_count": null,
   "metadata": {
    "collapsed": true
   },
   "outputs": [],
   "source": []
  }
 ],
 "metadata": {
  "kernelspec": {
   "display_name": "Python [default]",
   "language": "python",
   "name": "python3"
  },
  "language_info": {
   "codemirror_mode": {
    "name": "ipython",
    "version": 3
   },
   "file_extension": ".py",
   "mimetype": "text/x-python",
   "name": "python",
   "nbconvert_exporter": "python",
   "pygments_lexer": "ipython3",
   "version": "3.5.2"
  }
 },
 "nbformat": 4,
 "nbformat_minor": 2
}
