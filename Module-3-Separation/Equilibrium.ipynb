{
 "cells": [
  {
   "cell_type": "markdown",
   "metadata": {},
   "source": [
    "# Phase equilibriums"
   ]
  },
  {
   "cell_type": "markdown",
   "metadata": {},
   "source": [
    "## Introduction\n",
    "\n",
    "In this section, we will be exploring phase equilibriums and the temperatures and pressures that allow the equilibrium to exist in chemical processes (e.g. boiling points, sublimation points). We will also be factoring in the phase equilibriums in our mass and energy balances for separation cases, such as in a distillation column."
   ]
  },
  {
   "cell_type": "markdown",
   "metadata": {},
   "source": [
    "## Learning objectives\n",
    "\n",
    "By the end of this notebook, you should be able to:\n",
    "\n",
    "- Conceptually understand Solid-Liquid, Solid-Vapour and Liquid-Liquid Equilibrium\n",
    "- Identify which equilibrium is present in different processes\n",
    "- Utilize densities and fractional compositions of liquid-liquid mixtures to determine masses before and after separation\n",
    "- Utilize the latent heats of solid-liquid and solid-vapour equilibrium cases in energy balances \n",
    "\n",
    "---\n"
   ]
  },
  {
   "cell_type": "markdown",
   "metadata": {},
   "source": [
    "### Solid-Liquid Equilibrium\n",
    "\n",
    "Solid-Liquid Equilibrium is the point where the temperature and pressure point where a solid and a liquid can co-exist. This is usually the **melting or freezing points** of a substance. At this stage even when the heating is continued, the temperature does not change until the whole of solid is converted into liquid. The state when solid and liquid phases of a substance coexist is called **solid-liquid equilibrium**. Since a solid is very hard to transport over a process, we usually melt it into liquid form and collect it as a precipitant at the end of the process.\n",
    "\n",
    "####  Case of 2 solids (Should I put that in?)\n",
    "\n",
    "![Figure 1](../figures/Module-3/Solid-liquid-graph1.gif)\n",
    "<p style = \"text-align:center;\">http://www.tulane.edu/~sanelson/images/phdifig1.gif</p>\n",
    "\n",
    "---\n"
   ]
  },
  {
   "cell_type": "markdown",
   "metadata": {
    "collapsed": true
   },
   "source": [
    "### Solid-Vapour Equilibrium\n",
    "\n",
    "Solid-Vapour Equilibrium is the temperature and presure point where a solid and a vapour can co-exist. The temperature and pressure point is called the **sublimation** point. \n",
    "\n",
    "---"
   ]
  },
  {
   "cell_type": "markdown",
   "metadata": {},
   "source": [
    "### Liquid-Liquid Equilibrium\n",
    "\n",
    "---\n",
    "\n",
    "In liquid-liquid equilbrium, the liquids can either be **miscible**, **partially miscible** or **immiscible**.\n",
    "\n",
    "**Miscible** liquids are liquids that can mix together to form a single phase. If water and methyl isobutyl ketone (MIBK) are mixed at 25C, a single phase results; otherwise, the mixture separates into two liquid phases, one of which contains 98% H2O and 2% MIBK and the other 97.7% MIBK and 2.3% H2O. Water and MIBK are examples of **partially miscible** liquids; they would be termed **immiscible** if one phase contained a negligible amount of water and the other a negligible amount of MIBK."
   ]
  },
  {
   "cell_type": "markdown",
   "metadata": {},
   "source": []
  },
  {
   "cell_type": "code",
   "execution_count": null,
   "metadata": {
    "collapsed": true
   },
   "outputs": [],
   "source": []
  }
 ],
 "metadata": {
  "anaconda-cloud": {},
  "kernelspec": {
   "display_name": "Python [default]",
   "language": "python",
   "name": "python3"
  },
  "language_info": {
   "codemirror_mode": {
    "name": "ipython",
    "version": 3
   },
   "file_extension": ".py",
   "mimetype": "text/x-python",
   "name": "python",
   "nbconvert_exporter": "python",
   "pygments_lexer": "ipython3",
   "version": "3.5.2"
  }
 },
 "nbformat": 4,
 "nbformat_minor": 1
}
