{
 "cells": [
  {
   "cell_type": "markdown",
   "metadata": {},
   "source": [
    "# Density and specific gravity (S.G.)"
   ]
  },
  {
   "cell_type": "markdown",
   "metadata": {},
   "source": [
    "## Introduction\n",
    "\n",
    "Density is the amount of mass per unit volume, and specific gravity (S.G.) is the ratio of density of the object to the density of a standard, usually water for a liquid or solid, and air for a gas. \n",
    "\n",
    "Both density and S.G. are common units in the determination of how much mass is in a chemical process based on the volumetric flow rate of the substance in the process.\n",
    "\n",
    "$$Density = \\rho$$\n",
    "$$Specific \\space gravity = \\frac{{\\rho}_{sample}}{{\\rho}_{H_2O}}$$\n",
    "\n",
    "---"
   ]
  },
  {
   "cell_type": "markdown",
   "metadata": {},
   "source": [
    "## Learning objectives\n",
    "\n",
    "By the end of this notebook you should be able to:\n",
    "\n",
    "- differentiate density and specific gravity \n",
    "- understand density and specific gravity conceptually\n",
    "- utilize density and specific gravity to interchangably find mass and/or volumetric flow rates\n",
    "\n",
    "---\n"
   ]
  },
  {
   "cell_type": "markdown",
   "metadata": {},
   "source": [
    "## Conceptual understanding\n",
    "\n",
    "1. Since specific gravity is a ratio, it is **unitless**.\n",
    "\n",
    "2. Always remember specific gravity is the **ratio** between densities, not a unit of density itself.\n",
    "\n",
    "3. Freezing a sealed full glass bottle of water leads to a broken bottle and freezing a sealed full flexible-walled container of n-butyl alcohol leads to a container with concave walls. What can you conclude about the densities of the solid and liquid forms of these two substances? \n",
    "$$$$\n",
    "**Answer**: The density of solid water is less than it's liquid form, while the density of solid n-butyl alcohol is more than it's liquid form.(Textbook question)\n",
    "$$$$\n",
    "4. If substance A and substance B each have a specific gravity of 1.34, must 3 cm$^3$ of A have the same mass as 3 cm of B? \n",
    "$$$$\n",
    "**Answer:** Not necessarily, because it depends what the ratio is based on (are both ratios based on water, a gas etc). (Textbook question)\n",
    "\n",
    "(Need to add more questions)\n",
    "\n",
    "---"
   ]
  },
  {
   "cell_type": "markdown",
   "metadata": {},
   "source": [
    "### Usage of density/specific gravity in CHBE 241\n",
    "\n",
    "In the event of lack of density data on a liquid or gas mixture, the density $\\overline\\rho$ of a mixture of liquids $n$ ($A_1$, $A_2$, $A_3$...) can be estimated from the component mass fractions [$x_i$] and pure-component densities [$\\rho_i$].\n",
    "\n",
    "$$ \\overline\\rho = \\sum_{i=1}^{n} {x_i}{\\rho}_i$$\n",
    "\n",
    "#### Example 1\n",
    "(Add example to this concept)\n",
    "\n",
    "---\n",
    "\n",
    "A common usage of densities and S.G. is the calculation of mass or volumetric flowrates, given one of the two factors, since:\n",
    "\n",
    "$$\\rho = \\dot{m}/\\dot{V} = m/V$$\n",
    "\n",
    "Note: The dot above the variable means that the unit is the variable **per unit time**. (e.g. $\\dot{m}$ = $mass/time$)\n",
    "\n",
    "#### Example 2\n",
    "The volumetric flow rate of $CCl_4$ ( $\\rho = 1.595 \\space g/cm^3$ ) in a pipe is 100.0 cm$^3$ /min. What is the mass flow rate of the $CCl_4$?\n",
    "\n",
    "$$ \\dot{m}_{CCl_4} = 1.595 \\space g/cm^3 \\times 100.0 cm$^3 - 159.5g $$\n",
    "\n",
    "---"
   ]
  },
  {
   "cell_type": "code",
   "execution_count": null,
   "metadata": {
    "collapsed": true
   },
   "outputs": [],
   "source": []
  }
 ],
 "metadata": {
  "anaconda-cloud": {},
  "kernelspec": {
   "display_name": "Python 3",
   "language": "python",
   "name": "python3"
  },
  "language_info": {
   "codemirror_mode": {
    "name": "ipython",
    "version": 3
   },
   "file_extension": ".py",
   "mimetype": "text/x-python",
   "name": "python",
   "nbconvert_exporter": "python",
   "pygments_lexer": "ipython3",
   "version": "3.6.1"
  }
 },
 "nbformat": 4,
 "nbformat_minor": 1
}
