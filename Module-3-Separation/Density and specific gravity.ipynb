{
 "cells": [
  {
   "cell_type": "markdown",
   "metadata": {},
   "source": [
    "# Density and specific gravity (S.G.)"
   ]
  },
  {
   "cell_type": "markdown",
   "metadata": {},
   "source": [
    "## Learning objectives\n",
    "\n",
    "By the end of this notebook you should be able to:\n",
    "\n",
    "- differentiate **density** and **specific gravity** \n",
    "- utilize density and specific gravity to interchangably find mass and/or volumetric flow rates\n",
    "\n",
    "---\n",
    "\n",
    "## Introduction\n",
    "\n",
    "Density is the amount of mass per unit volume, and specific gravity (S.G.) is the ratio of density of the object to the density of a standard, usually water for a liquid or solid, and air for a gas. \n",
    "\n",
    "Both density and S.G. are common units in the determination of how much mass is in a chemical process based on the volumetric flow rate of the substance in the process.\n",
    "\n",
    "$$Density = \\rho$$\n",
    "\n",
    "$$Specific \\space gravity = \\frac{{\\rho}_{sample}}{{\\rho}_{H_2O}}$$\n",
    "\n",
    "---"
   ]
  },
  {
   "cell_type": "markdown",
   "metadata": {},
   "source": [
    "### Usage of density/specific gravity in CHBE 241\n",
    "\n",
    "In the event of lack of density data on a liquid or gas mixture, the density $\\overline\\rho$ of a mixture of liquids $n$ ($A_1$, $A_2$, $A_3$...) can be estimated from the component mass fractions [$x_i$] and pure-component densities [$\\rho_i$].\n",
    "\n",
    "$$ \\overline\\rho = \\sum_{i=1}^{n} {x_i}{\\rho}_i$$\n",
    "\n",
    "#### Example 1\n",
    "Natural gas is **volumetrically** made up of 94.44% Methane ($CH_4$), 4.24% Ethane ($C_2H_6$), 0.22% Propane ($C_3H_8$), 0.78% Nitrogen ($N_2$), and 0.32% Carbon Dioxide ($CO_2$). What is the density of this natural gas mixture?\n",
    "\n",
    "Let's assume a volume of 1000ml or 1 litre. That means there will be:\n",
    "\n",
    "$$1000 \\space ml \\cdot 0.9444 = 944.4 \\space ml \\space [CH_4]$$\n",
    "\n",
    "$$1000 \\space ml \\cdot 0.0424 = 42.4ml \\space [C_2H_6]$$\n",
    "\n",
    "$$1000 \\space ml \\cdot 0.0022 = 2.2ml \\space [C_3H_8]$$\n",
    "\n",
    "$$1000 \\space ml \\cdot 0.0078 = 7.8ml \\space [N_2]$$\n",
    "\n",
    "$$1000 \\space ml \\cdot 0.0032 = 3.2ml \\space [CO_2]$$\n",
    "\n",
    "Note we cannot use volumetric fractions directly to calculate the mixture density. Looking up the density of each component, the total mass and the mass fractions would be:\n",
    "\n",
    "$$ 944.4 \\space ml \\space [CH_4] \\cdot \\frac{0.72g}{1000ml} = 679.97 \\space g $$\n",
    "\n",
    "$$ 42.4ml \\space [C_2H_6] \\cdot \\frac{1.34g}{1000ml} = 0.05682 \\space g $$\n",
    "\n",
    "$$2.2ml \\space [C_3H_8] \\cdot \\frac{1.97g}{1000ml} = 0.004334 \\space g$$\n",
    "\n",
    "$$7.8ml \\space [N_2] \\cdot \\frac{1.251g}{1000ml} = 0.009758 \\space g$$\n",
    "\n",
    "$$3.2ml \\space [CO_2] \\cdot \\frac{1.977g}{1000ml} = 0.006326 \\space g$$\n",
    "\n",
    "\n",
    "The total mass of the 1 litre mixture would be the sum of these masses, which comes to $680.05 \\space g$. The mass fractions of the components then are:\n",
    "\n",
    "$$ \\frac{679.97}{680.05} \\space [CH_4] = 0.999 $$\n",
    "\n",
    "$$ \\frac{0.05682}{680.05} \\space [C_2H_6] = 0.00008355 $$\n",
    "\n",
    "$$ \\frac{0.004334}{680.05} \\space [C_3H_8] = 0.00000637 $$\n",
    "\n",
    "$$ \\frac{0.009758}{680.05} \\space [N_2] = 0.00001435 $$\n",
    "\n",
    "$$ \\frac{0.006326}{680.05} \\space [CO_2] = 0.0000093 $$\n",
    "\n",
    "Note: The density of the mixture can be approximated by just the methane alone, the mass fraction is substantially more than the others. In this case, we would take into account all of the components. \n",
    "\n",
    "$$ \\overline\\rho_{natural \\space gas} = \\sum_{i=1}^{n} {x_i}{\\rho}_i = 0.999 \\cdot \\frac{0.72g}{l} + 0.00008355 \\cdot \\frac{1.34g}{l} + 0.00000637 \\cdot \\frac + 0.00001435 \\cdot \\frac{1.251g}{1000ml} + 0.0000093 \\cdot \\frac{1.977g}{1000ml} =  $$\n",
    "\n",
    "---\n",
    "\n",
    "A common usage of densities and S.G. is the calculation of mass or volumetric flowrates, given one of the two factors, since:\n",
    "\n",
    "$$\\rho = \\dot{m}/\\dot{V} = m/V$$\n",
    "\n",
    "Note: The dot above the variable means that the unit is the variable **per unit time**. (e.g. $\\dot{m}$ = $mass/time$)\n",
    "\n",
    "#### Example 2\n",
    "The volumetric flow rate of $CCl_4$ ( $\\rho = 1.595 \\space g/cm^3$ ) in a pipe is 100.0 cm$^3$ /min. What is the mass flow rate of the $CCl_4$?\n",
    "\n",
    "$$ \\dot{m}_{CCl_4} = 1.595 \\space g/cm^3 \\times 100.0 cm$^3 - 159.5g $$\n",
    "\n",
    "---"
   ]
  },
  {
   "cell_type": "code",
   "execution_count": null,
   "metadata": {
    "collapsed": true
   },
   "outputs": [],
   "source": []
  }
 ],
 "metadata": {
  "anaconda-cloud": {},
  "kernelspec": {
   "display_name": "Python [default]",
   "language": "python",
   "name": "python3"
  },
  "language_info": {
   "codemirror_mode": {
    "name": "ipython",
    "version": 3
   },
   "file_extension": ".py",
   "mimetype": "text/x-python",
   "name": "python",
   "nbconvert_exporter": "python",
   "pygments_lexer": "ipython3",
   "version": "3.5.2"
  }
 },
 "nbformat": 4,
 "nbformat_minor": 1
}
