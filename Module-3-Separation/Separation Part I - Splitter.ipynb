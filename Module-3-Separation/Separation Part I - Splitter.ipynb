{
 "cells": [
  {
   "cell_type": "markdown",
   "metadata": {},
   "source": [
    "# Separation (Part I) - Splitter\n",
    "\n",
    "### Learning Objectives\n",
    "\n",
    "By the end of this notebook you should be able to:\n",
    "\n",
    "- Recognize and algorithmically solve a splitter stream\n",
    "- Draw and label a splitter stream diagram properly\n",
    "- Make correct assumptions to solve \n",
    "- Perform a mass balance on a splitter stream\n",
    "\n",
    "---\n",
    "\n",
    "## Introduction\n",
    "Separation is essential in chemical processes, maybe it's purifying the end products or fractioning a mixture into it's constituents for recycling or different reactions.\n",
    "\n",
    "By the end of the section, you would be able to identify splitter streams and perform mass balances on them. No energy balances are needed because the streams are only there to redirect mass. \n",
    "\n",
    "---"
   ]
  },
  {
   "cell_type": "markdown",
   "metadata": {},
   "source": [
    "### Separator BFD"
   ]
  },
  {
   "cell_type": "markdown",
   "metadata": {},
   "source": [
    "![Figure 1.](../figures/Module-3/splitter_diagram_3.png)\n",
    "<div style=\"text-align:center\">Figure 1.</div>"
   ]
  },
  {
   "cell_type": "markdown",
   "metadata": {},
   "source": [
    "Figure 1. is the diagram for a splitter, in this case for a stream with toluene and nitrogen. A separator is characterized with a single input, followed by 2 or more product streams ** all with the same composition as the feed stream.** These streams usually also have the same state of matter as the feed stream.\n",
    "\n",
    "#### Noteworthy:\n",
    "\n",
    "- There is no mass/volumteric/molar flow rate for the fresh feed. In this case, we would need to assign a random value to it, such as 100kg/hr, or deduce it from the product flow streams. \n",
    "$$$$\n",
    "- Remember we need to convert the mass fractions to actual masses before we can add or subtract anything. \n",
    "$$$$\n",
    "- Not all splitter processes are split 50/50. Be careful not to make this assumption when dealing with unlabelled streams.\n",
    "\n",
    "(Note: Explain how to use mass streams and percentage compositions ... more to add)"
   ]
  },
  {
   "cell_type": "markdown",
   "metadata": {},
   "source": [
    "### Steps to solve\n",
    "\n",
    "1. If the input stream does not have a flow rate listed in the question or the diagram, assume a mass or volumteric flow rate of a random number, preferrably a mass flow rate with a nice round number like 100 $kg/h$. \n",
    "$$$$\n",
    "2. Draw and label the flow chart based on the question.\n",
    "$$$$\n",
    "3. Write expressions for the quantities requested in the problem statement. (e.g. $m_3$ = $m_{B3}$ + $m_{T3}$, $x_B$ = $m_{B3}/m_3$). The expressions should be written to help in solving for the missing parameters of the process.\n",
    "$$$$\n",
    "4. Convert all mixed units to one uniform units, such as converting all mass fractions into mass fow rates. In most cases, it would be converting all the units to masses.\n",
    "$$$$\n",
    "5. **Do the algebra.** \n",
    "    1. $x_{Total Stream}$ = $m_{stream a}$ + $m_{stream b}$ \n",
    "    2. $x_{Total Stream}$ = 100 $kg/hr$ + 50 $kg/hr$ = 150 $kg/hr$\n",
    "    3. Toluene and nitrogen in each stream\n",
    "        - Fresh feed\n",
    "            - $Toluene_{fresh \\hspace{5px} feed}$ = $150 kg/hr \\times 0.51$ = $76.5 kg/hr$\n",
    "            - $Nitrogen_{fresh \\hspace{5px} feed}$ = $150 kg/hr \\times 0.49$ = $73.5 kg/hr$\n",
    "            $$$$\n",
    "        - Stream A\n",
    "            - $Toluene_{stream \\hspace{5px} A}$ = $100 kg/hr \\times 0.51$ = $51 kg/hr$\n",
    "            - $Nitrogen_{stream \\hspace{5px} A}$ = $100 kg/hr \\times 0.49$ = $49 kg/hr$\n",
    "            $$$$\n",
    "        - Stream B (Since we know the make up of the other streams just subtract)\n",
    "            - $Toluene_{stream \\hspace{5px} B}$ = $76.5 kg/hr - 51 kg/hr$ = $25.5 kg/hr$\n",
    "            - $Nitrogen_{stream \\hspace{5px} B}$ = $73.5 kg/hr - 49 kg/hr$ = $24.5 kg/hr$\n",
    "            "
   ]
  },
  {
   "cell_type": "markdown",
   "metadata": {},
   "source": [
    "### Example question 1"
   ]
  },
  {
   "cell_type": "markdown",
   "metadata": {},
   "source": []
  },
  {
   "cell_type": "markdown",
   "metadata": {},
   "source": [
    "## Python utilization"
   ]
  },
  {
   "cell_type": "code",
   "execution_count": 3,
   "metadata": {
    "collapsed": true
   },
   "outputs": [],
   "source": [
    "##Python time"
   ]
  },
  {
   "cell_type": "markdown",
   "metadata": {},
   "source": [
    "## Works cited\n",
    "---"
   ]
  },
  {
   "cell_type": "code",
   "execution_count": null,
   "metadata": {
    "collapsed": true
   },
   "outputs": [],
   "source": []
  }
 ],
 "metadata": {
  "anaconda-cloud": {},
  "kernelspec": {
   "display_name": "Python [default]",
   "language": "python",
   "name": "python3"
  },
  "language_info": {
   "codemirror_mode": {
    "name": "ipython",
    "version": 3
   },
   "file_extension": ".py",
   "mimetype": "text/x-python",
   "name": "python",
   "nbconvert_exporter": "python",
   "pygments_lexer": "ipython3",
   "version": "3.5.2"
  }
 },
 "nbformat": 4,
 "nbformat_minor": 1
}
