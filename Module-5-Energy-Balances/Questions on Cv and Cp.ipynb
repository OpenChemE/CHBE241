{
 "cells": [
  {
   "cell_type": "markdown",
   "metadata": {},
   "source": [
    "# Introduction\n",
    "\n",
    "This notebook will cover questions relating to the $C_v$ and $C_p$ \n",
    "\n",
    "## Question 1: \n",
    "\n",
    "Argon in a closed system at P = 100 atm , volume of 300L and 600K is brought to a state at P = P = 200 atm, volume at 300L and 900K. What is the change of internal energy in the system? \n",
    "\n",
    "1. Draw a diagram of the process taking place and write the relevant equation:\n",
    "\n",
    "\n",
    "![](../figures/Module-5/cvcpq1.svg)\n",
    "\n",
    "$$ \\Delta U = Q - W $$ \n",
    "\n",
    "2. Add simplifications and assumptions\n",
    "\n",
    " - We assume the only work done is via $p\\Delta V$ but since there is no change in volume $p\\Delta V = 0,\\space  \\therefore \\space W =  0$  and the equation is reduced to $\\Delta U = Q $ \n",
    "\n",
    " - Since we are working with a closed system, internal energy can be substituted as $nC_v\\Delta T$\n",
    "\n",
    " - Since we are working with argon which is an ideal monatmoic gas, we can used the ideal gas law to determine the number of mols and use $C_v$ as $R$ where $R$ is $0.08206 \\frac{L*atm}{mol*K}$\n",
    "\n",
    "   __note:__ watch out for units sometimes you will get $m^3$ and Pa!\n",
    "\n",
    "3. Solve equations\n",
    "\n",
    "- since we are given a direct relationship between $U$ and $T$ we do not need to know any formulas for the heat.   \n",
    "\n",
    "$$ n = \\frac{P_1V_1}{R*T}  =  \\frac{300 *100 }{0.08206}) *600  = 609.3 mols$$ \n",
    "\n",
    "$$ \\Delta U = 609.3 * \\frac {3}{2} * 900 - 600 = 22,500 L*atm $$\n",
    "\n",
    "$$ =2,279,925 J $$"
   ]
  },
  {
   "cell_type": "markdown",
   "metadata": {
    "collapsed": true
   },
   "source": [
    "## Question 2: \n",
    "\n",
    "18kg of ice stored at -22 $^\\circ $C is melted then brought to 32 $^\\circ $C. How much energy is tranferred in this system?\n",
    "\n",
    "Assume heat capacity is a constant value. the specific heat capacity of ice is 2.108kJ/Kg; the latent heat of fusion is 334 J/g and the specific heat capacity of water is 4.184 j/g \n",
    "\n",
    "1. Draw the diagram of the process taking place and write down the relevant equation.\n",
    "\n",
    "![](../figures/Module-5/cvcpq2.svg)\n",
    "\n"
   ]
  },
  {
   "cell_type": "markdown",
   "metadata": {},
   "source": [
    "## Question 3:\n"
   ]
  }
 ],
 "metadata": {
  "kernelspec": {
   "display_name": "Python 3",
   "language": "python",
   "name": "python3"
  },
  "language_info": {
   "codemirror_mode": {
    "name": "ipython",
    "version": 3
   },
   "file_extension": ".py",
   "mimetype": "text/x-python",
   "name": "python",
   "nbconvert_exporter": "python",
   "pygments_lexer": "ipython3",
   "version": "3.6.1"
  }
 },
 "nbformat": 4,
 "nbformat_minor": 2
}
