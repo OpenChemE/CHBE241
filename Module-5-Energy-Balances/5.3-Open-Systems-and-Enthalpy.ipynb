{
 "cells": [
  {
   "cell_type": "markdown",
   "metadata": {},
   "source": [
    "# 5.3-Open Systems and Enthalpy"
   ]
  },
  {
   "cell_type": "markdown",
   "metadata": {},
   "source": [
    "## 5.3.0-Learning Objectives\n",
    "\n",
    "By the end of this section you should be able to:\n",
    "\n",
    "1. Understand the definition of enthapy.\n",
    "2. Explain how enthalpy differs from internal energy\n",
    "3. Look at the steps to solving an enthalpy problem.\n",
    "\n",
    "## 5.3.1 Introduction \n",
    "To account for __open__ systems. Enthalpy is used as  a __measurement of Energy__ in a system. This This notebook will go over a short explanation of enthalpy and go over prblem 7.4-2 of the textbook.\n",
    "\n"
   ]
  },
  {
   "cell_type": "markdown",
   "metadata": {},
   "source": [
    "\n",
    "\n",
    "\n",
    "\n",
    "\n",
    "Recall that The energy equation in a closed system is $E_{tot} = Q - W  $ and after negating potential and kinetic energy becomes: $U = Q-W$. \n",
    "\n",
    "In an open sytem there is a transfer of material. This means that there needs to be a correction for internal energy $U $ to account for the particles leaving the system. Enthalpy $H$  is a measure of energy accounts for open systems and the Energy balance becomes: $$H = Q-W$$ and $$ \\Delta H =  \\Delta Q- \\Delta W $$\n",
    "\n",
    "Enthalpy is extremely useful because many processes in checmial engineering are open systems and as a result, there are extensive databases that contain entahlpy values of various chemicals. \n",
    "\n",
    "## 5.3.2-Definition of Enthalpy\n",
    "\n",
    "Enthalpy is defined as $H= U+pV$ and a change of enthalpy is defined as $\\Delta H = \\Delta U + \\Delta pV$. This account for the open system by noticing that the pressure of the system remaisn constant with the pressure of hte surroundings.\n"
   ]
  },
  {
   "cell_type": "markdown",
   "metadata": {},
   "source": [
    "## 5.3.3-Ex 7.4-2 from text\n",
    "\n",
    "Five hundred kilograms per hour of steam drives a turbine at 44 atm and 450°C at a linear velocity of 60 m/s and leaves at a point 5 m below the turbine inlet at atmospheric pressure and a linear velocity of 360 m/s. The turbine drives a motor producing 70 kW and has a heat loss of roughly 104 kcal/h. Calculate the specific enthalpy change based on this process.\n",
    "\n",
    " $$ \\Delta \\dot{H} + \\Delta \\dot{E_k} + \\Delta \\dot{E_p} = \\dot{Q} + \\dot {W_s}$$\n",
    "\n"
   ]
  },
  {
   "cell_type": "markdown",
   "metadata": {
    "collapsed": true
   },
   "source": [
    "Useful conversions: ![](../figures/module-5/Picture1.jpg)\n",
    "\n",
    "Question text: Elementary Principlesa of Chemical Processes, 4/E by Richard M. Felder, Ronald W. Rousseau, and Lisa G. Bullard Copyright © 2016 by John Wiley & Sons, Inc.\n",
    "\n",
    "> #### 1. List the assumptions and definitions\n",
    "\n",
    " Our major assumption is that there is no extra work done except for the 70W of electrical energy and no other fors of heat transfer. Essentially, the only data that is relevant is given to us explicitly.\n",
    "\n",
    " For simplicity, we will say that 4.4 MPa is close enough to 4.5MPa on the steam table.  __(all teachers are different; check with yours first!)__\n",
    "\n",
    " Let any inlet flow take the subscript $i$ and outlet take the subscript $o$\n",
    "\n",
    "> #### 2. Draw a flowhart and write the full equation to solve\n",
    "\n",
    "![](../figures/module-5/problem.svg)\n",
    "\n",
    "\n",
    "$$ \\Delta \\dot{H} + \\Delta \\dot{E_k} + \\Delta \\dot{E_p} = \\dot{Q} + \\dot {W_s}$$\n",
    "\n",
    "Expanded this becomes \n",
    "\n",
    "$$(\\dot{H_o}-\\dot{H_i} )+ (\\dot{E_{ko}} -\\dot{E_{ki}}) + (\\dot{E_{po}}-\\dot{E_{pi}} )= \\dot{Q} + \\dot {W_s}$$\n",
    "\n",
    "> #### 3. Identify the known  and unknown variables\n",
    "\n",
    "__be careful with units__; we want everything in terms of $\\frac{Kj}{hr} $\n",
    "\n",
    "\n",
    "\n",
    "$H_i = $500kg of steam at 44 atm and 450°= __$3324.2\\frac{Kj}{Kg*hr}*500$ __ = $1,662,100 \\frac{Kj}{hr}$  from the [nist](https://www.nist.gov/sites/default/files/documents/srd/NISTIR5078-Tab3.pdf) steam table \n",
    "\n",
    "$H_o$ is __unknown__ because we do not know the temperature of steam leaving the turbine.\n",
    "\n",
    "$E_{ki}=  \\frac{1}{2} *m *v^2 = 500\\frac{Kg}{hr}*\\frac{1}{2}*(60\\frac{m}{s})^2 *\\frac{1Kj}{1000J} =  900 \\frac{Kj}{hr} $ \n",
    "\n",
    "$ E_{ko}  =  \\frac{1}{2} *m *v^2 = 500\\frac{Kg}{hr}*\\frac{1}{2}*(360\\frac{m}{s})^2 *\\frac{1Kj}{1000J} =  32,400 \\frac{Kj}{hr} $ \n",
    "\n",
    "$E_{pi}=  m *g *h  = 500\\frac{Kg}{hr}*9.81\\frac{m}{s}^2 *\\frac{1Kj}{1000J}*5m =  24.525 \\frac{Kj}{hr} $ \n",
    "\n",
    "$E_{po}=  m *g *h  = 500\\frac{Kg}{hr}*9.81\\frac{m}{s}^2 *\\frac{1Kj}{1000J}*0m =  0 \\frac{Kj}{hr} $ \n",
    "\n",
    "$Q = lost = -104kcal / 0.23901*10^{-3} \\frac{J}{Kcal}  *\\frac{1Kj}{1000J} =435.136 \\frac{Kj}{hr} $\n",
    "\n",
    "$W_{net} = +W_e = 70Kw * \\frac{3600s}{1hr} =   252,000 \\frac{Kj}{hr} $ \n",
    "\n",
    "> #### 4. Solving the system\n",
    "\n",
    "__Note:__ This is a relatively easy question with the challenge in the details. A DOF analysis will not be performed as a result\n",
    "\n",
    "$$(\\dot{H_o}-\\dot{H_i} )+ (\\dot{E_{ko}} -\\dot{E_{ki}}) + (\\dot{E_{po}}-\\dot{E_{pi}} )= \\dot{Q} + \\dot {W_s}$$\n",
    "\n",
    "Becomes (units are ommited for clarity):\n",
    "\n",
    "$$\\dot{H_o} - 1,662,100 =  32400-900+0-24.525-435.136-252,000 $$\n",
    "\n",
    "$$\\dot{H_o} = 1,442,035.136 $$\n",
    "\n",
    "$$\\therefore \\Delta \\dot{H} = 1,442,035-1,662,100   = -220,064 \\frac{Kj}{hr}  $$\n",
    "\n",
    "Returning the enthalpy to specific property \n",
    "\n",
    "$$\\Delta H = \\frac{-220,064 \\frac{Kj}{hr} }{500Kg} = - 440 \\frac{Kj}{Kg}$$"
   ]
  }
 ],
 "metadata": {
  "kernelspec": {
   "display_name": "Python 3",
   "language": "python",
   "name": "python3"
  },
  "language_info": {
   "codemirror_mode": {
    "name": "ipython",
    "version": 3
   },
   "file_extension": ".py",
   "mimetype": "text/x-python",
   "name": "python",
   "nbconvert_exporter": "python",
   "pygments_lexer": "ipython3",
   "version": "3.6.1"
  }
 },
 "nbformat": 4,
 "nbformat_minor": 2
}
