{
 "cells": [
  {
   "cell_type": "markdown",
   "metadata": {},
   "source": [
    "# 5.3 &ndash; Open Systems and Enthalpy"
   ]
  },
  {
   "cell_type": "markdown",
   "metadata": {},
   "source": [
    "## 5.3.0 &ndash; Learning Objectives\n",
    "\n",
    "By the end of this section you should be able to:\n",
    "\n",
    "1. Understand the definition of enthapy.\n",
    "2. Explain how enthalpy differs from internal energy\n",
    "3. Look at the steps to solving an enthalpy problem.\n",
    "\n",
    "## 5.3.1 &ndash; Introduction \n",
    "\n",
    "To account for __open__ systems. Enthalpy is used as  a __measurement of Energy__ in a system. This This notebook will go over a short explanation of enthalpy and go over problem 7.4-2 of the textbook.\n",
    "\n",
    "Recall that the energy equation in a closed system is $E_{tot} = Q - W  $ and after negating potential and kinetic energy becomes: $U = Q-W$. \n",
    "\n",
    "In an open sytem there is a transfer of material. This means that there needs to be a correction for internal energy $U $ to account for the particles leaving the system. Enthalpy $H$  is a measure of energy accounts for open systems and the energy balance becomes: \n",
    "\n",
    "$$H = Q-W$$ and $$ \\Delta H =  \\Delta Q- \\Delta W $$\n",
    "\n",
    "Enthalpy is extremely useful because many processes in checmial engineering are open systems and as a result, there are extensive databases that contain entahlpy values of various chemicals. \n",
    "\n"
   ]
  },
  {
   "cell_type": "markdown",
   "metadata": {},
   "source": [
    "## 5.3.2 &ndash; Definition of Enthalpy\n",
    "\n",
    "Enthalpy is defined as $H= U+PV$ and a change of enthalpy is defined as $\\Delta H = \\Delta U + \\Delta PV$. This accounts for the open system by noticing that the pressure of the system remains constant with the pressure of the surroundings."
   ]
  },
  {
   "cell_type": "markdown",
   "metadata": {},
   "source": [
    "## 5.3.3 &ndash; Ex 7.4-2 from text\n",
    "\n",
    "Steam powers a turbine with a flowrate of 500 kg/h at 44 atm and $450^{\\circ} \\space C$. The Steam enters the turbine at an average linear velocity of 60 m/s and exits 5 m below the turbine inlet at 360 m/s. The turbine produces 70 kW of shaft work and has a heat loss of $10^4$ kcal/h. Calculate the specific enthalpy change based on this process.\n",
    "\n",
    " $$ \\Delta \\dot{H} + \\Delta \\dot{E_k} + \\Delta \\dot{E_p} = \\dot{Q} - \\dot {W_s}$$\n",
    "\n"
   ]
  },
  {
   "cell_type": "markdown",
   "metadata": {
    "collapsed": true
   },
   "source": [
    "Useful conversions: ![](../figures/module-5/Picture1.jpg)\n",
    "\n",
    "Question text: Elementary Principlesa of Chemical Processes, 4/E by Richard M. Felder, Ronald W. Rousseau, and Lisa G. Bullard Copyright © 2016 by John Wiley & Sons, Inc.\n",
    "\n",
    "> #### 1. List the assumptions and definitions\n",
    "\n",
    " Our major assumption is that there is no extra work done except for the 70W of electrical energy and no other forms of heat transfer. Essentially, the only data that is relevant is given to us explicitly.\n",
    "\n",
    " For simplicity, we will say that 4.4 MPa is close enough to 4.5MPa on the steam table.  __(all teachers are different; check with yours first!)__\n",
    "\n",
    " Let any **inlet flow** take the subscript **$i$** and **outlet flow** take the subscript **$o$**.\n",
    "\n",
    "> #### 2. Draw a flowhart and write the full equation to solve\n",
    "\n",
    "![](../figures/module-5/problem.svg)\n",
    "\n",
    "\n",
    "$$ \\Delta \\dot{H} + \\Delta \\dot{E_k} + \\Delta \\dot{E_p} = \\dot{Q} - \\dot {W_s}$$\n",
    "\n",
    "Expanded this becomes \n",
    "\n",
    "$$(\\dot{H_o}-\\dot{H_i} )+ (\\dot{E_{ko}} -\\dot{E_{ki}}) + (\\dot{E_{po}}-\\dot{E_{pi}} )= \\dot{Q} + \\dot {W_s}$$\n",
    "\n",
    "> #### 3. Identify the known  and unknown variables\n",
    "\n",
    "__be careful with units__; we want everything in terms of $\\frac{Kj}{hr} $\n",
    "\n",
    "\n",
    "\n",
    "$\\dot{H}_i $ for 500kg of steam at 44 atm and 450° = $3324.2 \\space \\frac{kJ}{kg \\cdot hr} \\cdot 500 \\space kg $ = $1,662,100 \\space \\frac{kJ}{hr}$  \n",
    "\n",
    "from the [nist](https://www.nist.gov/sites/default/files/documents/srd/NISTIR5078-Tab3.pdf) steam table \n",
    "\n",
    "$H_o$ is __unknown__ because we do not know the temperature of steam leaving the turbine.\n",
    "\n",
    "$\\dot{E}_{ki}=  \\frac{1}{2} \\cdot \\dot{m} \\cdot v^2 = 500 \\space \\frac{kg}{hr} \\cdot \\frac{1}{2} \\cdot (60 \\space \\frac{m}{s})^2 \\cdot \\frac{1 \\space kJ}{1000 \\space J} =  900 \\space \\frac{kJ}{hr} $ \n",
    "\n",
    "$ \\dot{E}_{ko}  =  \\frac{1}{2} \\cdot \\dot{m} \\cdot v^2 = 500 \\space \\frac{kg}{hr} \\cdot \\frac{1}{2} \\cdot (360 \\space \\frac{m}{s})^2 \\cdot \\frac{1k \\space J}{1000 \\space J} =  32,400 \\space \\frac{kJ}{hr} $ \n",
    "\n",
    "$\\dot{E}_{pi}=  \\dot{m} \\cdot g \\cdot h  = 500 \\space \\frac{kg}{hr} \\cdot 9.81 \\space \\frac{m}{s}^2  \\cdot \\frac{1 \\space kJ}{1000 \\space J} \\cdot 5 \\space m =  24.525 \\space  \\frac{kJ}{hr} $ \n",
    "\n",
    "$\\dot{E}_{po}=  \\dot{m} \\cdot g \\cdot h  = 500 \\space \\frac{kg}{hr} \\cdot 9.81\\frac{m}{s}^2 \\cdot \\frac{1 \\space kJ}{1000 \\space J} \\cdot 0m =  0 \\space \\frac{kJ}{hr} $ \n",
    "\n",
    "$\\dot{Q} = lost = -10^4 \\space kcal \\times 4184 \\frac{J}{kcal}  \\times \\frac{1 \\space kJ}{1000 \\space J} = -41,840 \\space \\frac{kJ}{hr} $\n",
    "\n",
    "$\\dot{W}_{net} = +W_e = 70 \\space kW \\cdot \\frac{3600 \\space s}{1 \\space hr} =  252,000 \\space \\frac{kJ}{hr} $ \n",
    "\n",
    "> #### 4. Solving the system\n",
    "\n",
    "__Note:__ This is a relatively easy question with the challenge in the details. A DOF analysis will not be performed as a result\n",
    "\n",
    "$$(\\dot{H_o}-\\dot{H_i} )+ (\\dot{E_{ko}} -\\dot{E_{ki}}) + (\\dot{E_{po}}-\\dot{E_{pi}} )= \\dot{Q} - \\dot {W_s}$$\n",
    "\n",
    "Becomes (units are ommited for clarity):\n",
    "\n",
    "$$ (\\dot{H_o} - 1,662,100) + (32,400 - 900) + (0 - 24.525) =  - (41,840 + 252,000) $$\n",
    "\n",
    "$$\\dot{H_o} = 1,336,784 \\space \\frac{kJ}{hr}  $$\n",
    "\n",
    "$$\\therefore \\space \\Delta \\dot{H} = 1,336,784 - 1,662,100   = -325,316 \\space \\frac{kJ}{hr} $$\n",
    "\n",
    "Returning the enthalpy to specific property \n",
    "\n",
    "$$\\Delta H = \\frac{-325,316 \\space \\frac{kJ}{hr} }{500 \\space Kg} = - 651 \\space \\frac{kJ}{hr}$$"
   ]
  },
  {
   "cell_type": "code",
   "execution_count": null,
   "metadata": {
    "collapsed": true
   },
   "outputs": [],
   "source": []
  }
 ],
 "metadata": {
  "anaconda-cloud": {},
  "kernelspec": {
   "display_name": "Python 3",
   "language": "python",
   "name": "python3"
  },
  "language_info": {
   "codemirror_mode": {
    "name": "ipython",
    "version": 3
   },
   "file_extension": ".py",
   "mimetype": "text/x-python",
   "name": "python",
   "nbconvert_exporter": "python",
   "pygments_lexer": "ipython3",
   "version": "3.6.1"
  }
 },
 "nbformat": 4,
 "nbformat_minor": 2
}
