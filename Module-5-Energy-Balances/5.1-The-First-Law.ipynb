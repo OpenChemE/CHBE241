{
 "cells": [
  {
   "cell_type": "markdown",
   "metadata": {},
   "source": [
    "# 5.1 &ndash; The First Law of Thermodynamics\n"
   ]
  },
  {
   "cell_type": "markdown",
   "metadata": {},
   "source": [
    "## 5.1.0 &ndash; Learning Objectives\n",
    "\n",
    "By the end of this section you should be able to:\n",
    "\n",
    "1. Understand the realtionship between the first law and energy conservation.\n",
    "2. Understand the breakdown of the energy term\n",
    "3. Learn about a closed system and internal energy.\n",
    "\n",
    "##  5.1.1 &ndash; Introduction \n",
    "\n",
    "> As Chemical engineers, the knowledge of energy flows is integral to the industry. How will equipment affect the energy of a system? How does a reactor withstand and exothermic/endothermic reaction? Thermodynamics is the stepping stone in the study of energy flows. This notebook will give you an overview of the first law of thermodynamics."
   ]
  },
  {
   "cell_type": "markdown",
   "metadata": {},
   "source": [
    "## 5.1.2 &ndash; The First Law\n",
    "\n",
    "> The first law is the concept that __energy is conserved.__ The first law says that the energy of a __closed system__ $E_{sys}$, is equal to the sum of heat added to the system $Q$ and the work done to or upon the system $W$. This is written mathematically as: $$E_{sys} = Q - W $$ \n",
    "\n",
    "and \n",
    "\n",
    "$$ \\Delta E_{sys} = \\Delta Q-\\Delta W $$\n",
    "\n",
    "__Important! The system must be closed. Otherwise internal energy cannot be used alone__\n",
    "### 5.1.3 &ndash; Units of the the first law\n",
    "Energy in chemical enegineering is often described as a __$\\frac{Kilojoule}{Kilogram}$ or $\\frac{Joule}{mol}$__. \n",
    "\n",
    "This is because of the massive amount of material that chemical engineers work with.\n",
    "\n",
    "\n",
    "> Let's break down these terms down one-by-one.\n",
    "\n",
    "### 5.1.4 &ndash; Energy $E$ \n",
    "\n",
    "Energy comes in many __different forms__. Sitting on a chair reading this, you have __potential energy__. When you run in class to hand in your homework, you are demonstrating __kinetic energy__.  Your mere existence and the vibrations of the atoms inside of you, is a form of the __internal energy__ that forms you. There are many other energies that can be classified but this course will be focusing on these three.\n",
    "\n",
    "$$E_{tot} = E_{sys} = E_k + E_p + U $$ \n",
    "\n",
    "\n",
    "\n",
    "### 5.1.5 &ndash; Fermi question!! \n",
    "Using only facts you know yourself... How fast would a car have to drive to have the same energy to climb mount Everest? How many oreo cookies would that be? __An answer will be provided at the bottom__\n",
    "\n"
   ]
  },
  {
   "cell_type": "markdown",
   "metadata": {
    "collapsed": true
   },
   "source": [
    "### A solution to Fermi. \n",
    "\n",
    "I know that the Mount Everest is apporximately 30000ft. The average person weighs 65kg. therefore, using the __potential energy__ formula and rough unit conversion...  $$E_p = mgh$$  we obtain: $$ E_p = 65_{kg} * 30000_{ft} * 0.3_{m/ft} * 9.81_{m/s^2} = 5 738 850 J$$\n",
    "Let's guess that an oreo has 100  small calories (cal) $$ \\therefore \\space \\frac{5 738 850J }{100_{cal} * 4.2_{J/cal}} = 13 664 \\space oreo cookies. $$ A car weighs approximately 1000kg. Using the __kinetic energy__ formula:\n",
    "$$ E_k = \\frac{1}{2} * m *v^2 $$\n",
    "$$ 5 738 850J = 1000_{kg} * \\frac{1}{2} * v^2 $$ \n",
    "solving for v results in  $v = 107.13_{m/s} $ which is  just over the speed of the bullet train in Japan.\n",
    "\n",
    "Click here for more fermi questions [more fermi!](http://www.fermiquestions.com/play)"
   ]
  },
  {
   "cell_type": "code",
   "execution_count": null,
   "metadata": {
    "collapsed": true
   },
   "outputs": [],
   "source": []
  }
 ],
 "metadata": {
  "anaconda-cloud": {},
  "kernelspec": {
   "display_name": "Python 3",
   "language": "python",
   "name": "python3"
  },
  "language_info": {
   "codemirror_mode": {
    "name": "ipython",
    "version": 3
   },
   "file_extension": ".py",
   "mimetype": "text/x-python",
   "name": "python",
   "nbconvert_exporter": "python",
   "pygments_lexer": "ipython3",
   "version": "3.6.1"
  }
 },
 "nbformat": 4,
 "nbformat_minor": 2
}
