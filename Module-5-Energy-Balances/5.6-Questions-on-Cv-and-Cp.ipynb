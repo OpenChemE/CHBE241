{
 "cells": [
  {
   "cell_type": "markdown",
   "metadata": {},
   "source": [
    "## 5.6.0 &ndash; Learning Objectives\n",
    "\n",
    "By the end of this section you should be able to:\n",
    "\n",
    "1. Visualize how Cp and Cv are used to calculate and solve various problems.\n",
    "\n",
    "## 5.6.1 &ndash; Introduction \n",
    "\n",
    "This notebook will cover questions relating to the $C_v$ and $C_p$ "
   ]
  },
  {
   "cell_type": "markdown",
   "metadata": {},
   "source": [
    "## 5.6.2 &ndash; Question 1: \n",
    "\n",
    "Argon in a closed system at P = 100 atm , volume of 300L and 600K is brought to a state at P = P = 200 atm, volume at 300L and 900K. What is the change of internal energy in the system? \n",
    "\n",
    "1. Draw a diagram of the process taking place and write the relevant equation:\n",
    "\n",
    "   ![](../figures/Module-5/cvcpq1.svg)\n",
    "\n",
    "   $$ \\Delta U = Q - W $$ \n",
    "\n",
    "2. Add simplifications and assumptions\n",
    "\n",
    " - We assume the only work done is via $P\\Delta V$ but since there is no change in volume $P\\Delta V = 0,\\space  \\therefore \\space W =  0$  and the equation is reduced to $\\Delta U = Q $.\n",
    "\n",
    " - Since we are working with a closed system, internal energy can be substituted as $nC_v\\Delta T$\n",
    "\n",
    " - Since we are working with argon which is an ideal monatmoic gas, we can use the ideal gas law to determine the number of mols and use $C_v$ as $R$ where $R$ is $0.08206 \\frac{L*atm}{mol*K}$\n",
    "\n",
    "   __note:__ watch out for units sometimes you will get $m^3$ and Pa!\n",
    "\n",
    "3. Solve equations\n",
    "\n",
    "- Since we are given a direct relationship between $U$ and $T$ we do not need to know any formulas for the heat.   \n",
    "\n",
    "$$ n = \\frac{P_1V_1}{R*T}  =  \\frac{300 *100 }{0.08206}) *600  = 609.3 mols$$ \n",
    "\n",
    "$$ \\Delta U = 609.3 * \\frac {3}{2} * 900 - 600 = 22,500 L*atm $$\n",
    "\n",
    "$$ =2,279,925 \\space J $$"
   ]
  },
  {
   "cell_type": "markdown",
   "metadata": {
    "collapsed": true
   },
   "source": [
    "## 5.6.2 &ndash; Question 2: \n",
    "\n",
    "18kg of ice stored at -22 $^\\circ $C is melted then brought to 32 $^\\circ $C. How much energy is tranferred in this system?\n",
    "\n",
    "Assume heat capacity is a constant value. The specific heat capacity of ice is 2.108 $kJ/Kg$; the latent heat of fusion is 334 $J/g$ and the specific heat capacity of water is 4.184 $J/g$.\n",
    "\n",
    "1. Draw the diagram of the process taking place and write down the relevant equations.\n",
    "\n",
    "    ![](../figures/Module-5/cvcpq2.svg)\n",
    "\n",
    "  $$ \\sum^n_{i=1} m\\Delta H_i = m\\Delta H_{ice} + m\\Delta H_{fusion}+ m\\Delta H_{water} $$\n",
    "  $$ \\Delta H = mC_p\\Delta T  $$\n",
    "  $$ \\Delta H_{fusion} = mH_{lm} $$\n",
    "\n",
    "2. List simplifications and assumptions\n",
    " - Any specific heat capacity used here are assuemd to be constant because no information suggests otherwise. __ This is often the case __\n",
    " - The mass $m$ is constant in the system.\n",
    " - Since all units are in Celsius and heat is in terms of a reference, we are not concerned with converting to kelvin.\n",
    "3. Solve equations. __Mind  the units__\n",
    "\n",
    "Since m is constant, it may be taken out of the summation: $m( \\Delta H_{ice} + \\Delta H_{fusion}+ \\Delta H_{water})$.\n",
    "\n",
    "$ \\Delta H_{ice} = 2.108\\frac{kJ}{Kg}*(0-(-22)) $\n",
    "\n",
    "$ \\Delta H_{ice} = 334 \\frac{j}{g} * \\frac{1kJ}{1000J} * \\frac{1000g}{1kg} = 334\\frac{kj}{kg} $\n",
    "\n",
    "$ \\Delta H_{water} = 4.184\\frac{kJ}{kg}*(32-0) $ (by the same unit coversion of ice).\n",
    "\n",
    "$m( \\Delta H_{ice} + \\Delta H_{fusion}+ \\Delta H_{water})= 18kg*514.264\\frac{kJ}{kg} = 9256 kJ$ \n"
   ]
  },
  {
   "cell_type": "markdown",
   "metadata": {},
   "source": [
    "## 5.6.3 &ndash; Question 3:\n",
    " [takignthis table off the internet for now](http://www.personal.utulsa.edu/~geoffrey-price/Courses/ChE7023/HeatCapacity-HeatOfFormation.pdf)\n",
    "  \n",
    "n-butane is brought from 450 $^\\circ$C to 923$^\\circ$C. Using the formal definition and formula of heat capacities, find the heat required to bring acetone to this temperature.\n",
    "\n",
    "Preamble: Because n-butane is far from an ideal gas and the temperature that we are measuring is extremely high, it is important to capture the true heat capacity to evaluate the enthalpy. Depending on the work in engineering this higher accuracy may be important; however, unless otherwise stated, it is often safe enough to take a constant value.\n",
    "\n",
    "1. Draw the diagram of the process taking place and write down the relevant equations.\n",
    "\n",
    "\n",
    "  ![](http://www.jmcampbell.com/tip-of-the-month/wp-content/uploads/2013/04/Figure-21.png) need another one\n",
    " \n",
    "  $$ \\Delta H  = \\int^{T_2}_{T_1}C_pdT$$\n",
    " \n",
    " 2.  List simplifications and assumptions\n",
    " \n",
    " 3. Solve equations __Note mind your units! Kelvin and celsius matter!__\n",
    " \n",
    " Taking the tabulated data and expanding the enthalpy equation:\n",
    " $$ \\Delta H  = \\int^{T_2}_{T_1}C_pdT = \\int^{T_2}_{T_1}(A + BT + CT^2)dT $$\n",
    " \n",
    " A = 1.935\n",
    " \n",
    " B = 36.915\n",
    " \n",
    " C = -11.402\n",
    " \n",
    " (T1,T2)=(723,1196)K\n",
    " \n",
    " $$\\int^{1196}_{723}(A + BT + CT^2)dT$$\n",
    " \n",
    " $$[(AT + B\\frac{T^2}{2} + C\\frac{T^2}{3})]^{1196}_{723}$$\n",
    " \n",
    "  $$[(1.935*T + 36.915*\\frac{T^3}{2} + -11.402*\\frac{T^3}{3})]^{1196}_{723}$$\n",
    "  \n",
    " \n",
    " \n",
    " \n",
    " "
   ]
  },
  {
   "cell_type": "markdown",
   "metadata": {},
   "source": [
    "\n",
    "## 5.6.4 &ndash; Question 4: lets apply it ! \n",
    "\n",
    "\n",
    " http://www.ogj.com/articles/print/volume-109/issue-40/processing/correlation-for-natural-gas.html lets use this as well"
   ]
  },
  {
   "cell_type": "code",
   "execution_count": null,
   "metadata": {
    "collapsed": true
   },
   "outputs": [],
   "source": []
  }
 ],
 "metadata": {
  "anaconda-cloud": {},
  "kernelspec": {
   "display_name": "Python [default]",
   "language": "python",
   "name": "python3"
  },
  "language_info": {
   "codemirror_mode": {
    "name": "ipython",
    "version": 3
   },
   "file_extension": ".py",
   "mimetype": "text/x-python",
   "name": "python",
   "nbconvert_exporter": "python",
   "pygments_lexer": "ipython3",
   "version": "3.5.2"
  }
 },
 "nbformat": 4,
 "nbformat_minor": 2
}
