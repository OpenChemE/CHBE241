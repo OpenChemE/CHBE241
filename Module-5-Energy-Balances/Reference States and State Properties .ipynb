{
 "cells": [
  {
   "cell_type": "markdown",
   "metadata": {},
   "source": [
    "# Reference States and State Properties \n",
    "\n",
    "# Introduction\n",
    "\n",
    "Often we do not know the absolute value of internal energy or enthalpy $\\ \\hat{U}, \\hat{H}$. To give us a way of measuring these values, a __reference state__ is chosen to represent __0__ and the values are determined as a __difference to the reference state.__ \n",
    "\n",
    "This notebook will go over the concept of reference state and state properties.\n",
    "\n",
    "\n",
    "\n",
    "## Internal energy of Water \n",
    "\n",
    "Let's take a look at water at 0 C$^\\circ$ and 1 atm. If asked to find the __specific__ energy $U$ of this water, you might think right away that you can use $C_p\\Delta T$ but this is wrong. We cannot use this formula because we need to consider the $\\Delta T$ which refers to a change in temperature. \n",
    "\n",
    "What we can do is use the 0 C$^\\circ$ 1 atm water as a __reference__ and compare it to changes in energy.\n",
    "\n",
    "We can take water at 100 C$^\\circ$ 1 atm and say that __in reference to 0 C$^\\circ$ water,__ 100 C$^\\circ$ water has $420\\frac{KJ}{Kg}$ more energy than 0 C$^\\circ$ water. \n",
    "\n",
    "Likewise, 200 C$^\\circ$ water at 1 atm has $840\\frac{kJ}{Kg}$ more energy than water at 0 C$^\\circ$. \n",
    "\n",
    "By setting water at 0 C$^\\circ$. We can use the referenced values as variables known as __state variables__  also known as $\\hat{U}$ and $\\hat{H}$. \n",
    "\n",
    "\n",
    "<div style= \"padding-top: 15px;\">\n",
    "<img src=\"../figures/Module-4/Steam_Table_Base.png\" style= \"height:400px; float: left; padding-right: 20px;\">\n",
    "\n",
    "\n",
    "\n",
    "\n",
    "\n",
    "</div>\n",
    "<p style = \"padding-top:30px; padding-right:30px;\">\n",
    "If you recall the steam tables\" from module 4: \n",
    "[NIST](http://webbook.nist.gov/cgi/fluid.cgi?Action=Load&ID=C7732185&Type=SatP&Digits=5&THigh=373.946&TLow=0.01&TInc=5&RefState=DEF&TUnit=C&PUnit=MPa&DUnit=kg%2Fm3&HUnit=kJ%2Fkg&WUnit=m%2Fs&VisUnit=uPa*s&STUnit=N%2Fm) steam tables from module 4, these value are all <b>state variables referenced</b> to water at its triple point.\n",
    "</p>"
   ]
  },
  {
   "cell_type": "markdown",
   "metadata": {},
   "source": [
    "### Example 7.5-1"
   ]
  },
  {
   "cell_type": "code",
   "execution_count": null,
   "metadata": {
    "collapsed": true
   },
   "outputs": [],
   "source": []
  }
 ],
 "metadata": {
  "kernelspec": {
   "display_name": "Python 2",
   "language": "python",
   "name": "python2"
  },
  "language_info": {
   "codemirror_mode": {
    "name": "ipython",
    "version": 2
   },
   "file_extension": ".py",
   "mimetype": "text/x-python",
   "name": "python",
   "nbconvert_exporter": "python",
   "pygments_lexer": "ipython2",
   "version": "2.7.11"
  }
 },
 "nbformat": 4,
 "nbformat_minor": 2
}
