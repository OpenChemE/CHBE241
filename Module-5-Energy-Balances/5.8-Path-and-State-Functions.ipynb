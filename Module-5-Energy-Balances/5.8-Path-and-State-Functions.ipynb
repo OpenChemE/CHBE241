{
 "cells": [
  {
   "cell_type": "markdown",
   "metadata": {},
   "source": [
    "# 5.8 &ndash; Path and State functions "
   ]
  },
  {
   "cell_type": "markdown",
   "metadata": {},
   "source": [
    "## 5.8.0 &ndash; Learning Objectives\n",
    "\n",
    "By the end of this section you should be able to:\n",
    "\n",
    "1. Build further knowledge of state variable and state functions.\n",
    "2. Explain the difference between state and path functions.\n",
    "3. Classify thermodynamic terms as state or path variables. \n",
    "\n",
    "## 5.8.1 &ndash; Introduction\n",
    "\n",
    "State and path functions are how variables in a system change from an intial state, to a final state. In this notebook you will learn about state and path variables, and state and path functions, their differences and their uses. "
   ]
  },
  {
   "cell_type": "markdown",
   "metadata": {},
   "source": [
    "## 5.8.2 &ndash; State Functions\n",
    "> Remember that guy who went up Mount Everest? Imagine you are a tourist at the bottom and see that guy on top of the mountain. __Regardless of how he got there__, that guy got there and is 8,848m higher than you are and thus he has 8679888J of potential energy  more than you (assuming they weigh 100kg). \n",
    "\n",
    " A __State function__ is the change of the state of a variable __regardless of the path it takes__\n",
    "\n",
    "> But __how __did that guy get up there? Did skydive out of a plane? Did he climb up there himself? Was he carried up by a sherpa? now we are concerned about the path the guy took to get up there. \n",
    "\n",
    "A __Path function__ is the transition of __path variables__ from one state to another.\n",
    "\n",
    "__Work__ $W$ and __Heat__ $Q$ are path variables. They change depending on what path is chosen to reach a state.\n",
    "\n",
    "__Internal Energy__ $U$, __Enthalpy__ $E$, __Pressure__ $P$, __Temperature__ $T$, and __Volume__ $V$ are state functions. \n",
    "\n",
    "## 5.8.3 &ndash; Path functions change the amount of work done on/by a system: \n",
    "\n",
    "Lets take a look at the diagram below:\n",
    "\n",
    "![](../figures/Module-5/state1.svg)\n",
    "\n",
    "$U1$ is at an initial state of $P_i$ and $T_i$. Our goal is to get to $U2$. Here we are presented with 2 options.\n",
    "\n",
    "\n",
    "![](../figures/Module-5/paths.svg)\n",
    "\n",
    "In Path 1, the system is raised to a point of high pressure and then expanded to the state U2.\n",
    "In Path 2, the system is raised to a point of high volume, then pressurized to the state U2. \n",
    "\n",
    "![](../figures/Module-5/workdone.svg)\n",
    "\n",
    "As Work is $P \\Delta V $,  it is clear that the work done is much greater in the first system. This is because the pressure is much higher. \n",
    "\n",
    "__Furthermore:__ We can infer that there is more heat transfered to system 1 since U2 is constant for both and using the information from the first law $U = Q  - W $ , if W is larger, than Q must be larger to raise the value of U2 \n",
    "\n",
    "## 5.8.4 &ndash; Different paths can be used to approximate challenging paths\n"
   ]
  },
  {
   "cell_type": "markdown",
   "metadata": {
    "collapsed": true
   },
   "source": [
    "\n",
    "Suppose, you and your friend are hiking to the top of a mountain. You choose to hike straight up the mountain while your friend chooses to zig-zag up the mountain. The potential energy gained is **path independent** while the energy you expend is **path dependant**. This is because the potential you gain at the top of the mountain will be the same no matter what route you took, but the energy needed to get to the top of the mountain will vary due to your path.\n",
    "\n",
    "Since **heat of reaction** is a state function, it is path independent. Hess's law uses this fact to manipulate other standard heat of reactions to solve for the immeasurable standard heat of reaction."
   ]
  }
 ],
 "metadata": {
  "anaconda-cloud": {},
  "kernelspec": {
   "display_name": "Python [default]",
   "language": "python",
   "name": "python3"
  },
  "language_info": {
   "codemirror_mode": {
    "name": "ipython",
    "version": 3
   },
   "file_extension": ".py",
   "mimetype": "text/x-python",
   "name": "python",
   "nbconvert_exporter": "python",
   "pygments_lexer": "ipython3",
   "version": "3.5.2"
  }
 },
 "nbformat": 4,
 "nbformat_minor": 1
}
