{
 "cells": [
  {
   "cell_type": "markdown",
   "metadata": {},
   "source": [
    "# Introduction \n",
    "\n",
    "Specific heat capacity is the measure of heat required to raise the temperature of an object. This notebook will cover heat capacity,specific heat capacity and the variants at constant volume and constant pressure.\n",
    "\n",
    "A separate \n",
    "\n",
    "\n",

    "# Specific Heat Capacity \n",
    "\n",
    "Specific heat capacity at constant volume is regarded as $C_v$ and constant pressure regarded $C_p$.\n",
    "In reality these values are functions of temperature. This will be covered in a separate notebook.\n",
    " \n",
    "If working with an monotomic species such as Nitrogen, Hydrogen, or Oxygen, The value of Cv is $\\frac{3}{2}R$ and the value of Cp is $\\frac{5}{2}R$. Otherwise, these values will be given to you.   From the monatomic relationship, it is observed that the general rule is that $C_p = C_v + R$.\n",
    "\n",
    "Often, in adiabatic settings, $\\gamma$ is defined as the ratio$ \\frac{Cp}{Cv}$\n",
    "\n",
    "In closed systems where internal energy $U$ is used, Specific heat at constant volume is used to proportionally relate temperature to an object. $\\Delta U = n C_v \\Delta T$ or $\\Delta U = m C_v \\Delta T $\n",
    "\n",
    "\n",
    "In open systems, Heat $Q$ is written as $n C_p \\Delta T $ or $m C_p \\Delta T $"
   ]
  },
  {
   "cell_type": "markdown",
   "metadata": {},
   "source": [
    "\n"
   ]

  }
 ],
 "metadata": {
  "kernelspec": {
   "display_name": "Python 3",
   "language": "python",
   "name": "python3"
  },
  "language_info": {
   "codemirror_mode": {
    "name": "ipython",
    "version": 3
   },
   "file_extension": ".py",
   "mimetype": "text/x-python",
   "name": "python",
   "nbconvert_exporter": "python",
   "pygments_lexer": "ipython3",
   "version": "3.6.1"
  }
 },
 "nbformat": 4,
 "nbformat_minor": 1
}
