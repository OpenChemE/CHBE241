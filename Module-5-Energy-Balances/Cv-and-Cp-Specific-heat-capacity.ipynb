{
 "cells": [
  {
   "cell_type": "markdown",
   "metadata": {},
   "source": [
    "# Introduction \n",
    "\n",
    "heat capacity is the measure of heat required to raise the temperature of an object. This notebook will cover heat capacity,specific heat capacity and the variants at constant volume and constant pressure.\n",
    "\n",
    "\n",
    "# Heat Capacity at Constant Volume \n",
    "\n",

    "\n",
    "At constant volume, "
   ]

  }
 ],
 "metadata": {
  "kernelspec": {
   "display_name": "Python 2",
   "language": "python",
   "name": "python2"
  },
  "language_info": {
   "codemirror_mode": {
    "name": "ipython",
    "version": 2
   },
   "file_extension": ".py",
   "mimetype": "text/x-python",
   "name": "python",
   "nbconvert_exporter": "python",
   "pygments_lexer": "ipython2",
   "version": "2.7.11"
  }
 },
 "nbformat": 4,
 "nbformat_minor": 0
}
