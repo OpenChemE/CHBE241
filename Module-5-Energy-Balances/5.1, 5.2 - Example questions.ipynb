{
 "cells": [
  {
   "cell_type": "markdown",
   "metadata": {},
   "source": [
    "## Example - 5.1\n",
    "\n",
    "Water flows into a process unit through a 2-cm ID (internal diameter), 4m long pipe at a rate of 2.00 $m^3/h$, at a height of 2m from the ground. Assuming 2 hours have passed and, calculate $\\dot{E_k}$, $\\dot{E_p}$ and the total energy for the system.\n",
    "\n",
    "![Figure 1.](../figures/Module-5/5.1-example-question1.svg)\n",
    "\n",
    "**Kinetic energy** - We will use m/s just to keep consistent with SI units. \n",
    "\n",
    "$$u = 2.00 \\space m^3/h \\cdot \\frac{1}{0.01^2\\pi} \\cdot \\frac{1hr}{3600s} = 1.77 \\space m/s$$\n",
    "\n",
    "$$\\dot{m} = 2.00 \\space m^3/h \\cdot \\frac{1000 \\space kg}{1 \\space m^3} \\cdot \\frac{1hr}{3600s} = 0.556 \\space kg/s$$\n",
    "\n",
    "$$\\dot{E_k} = \\frac{1}{2} \\cdot 0.556 \\space kg/s \\cdot 1.77 \\space m/s = 0.870 \\space J/s$$\n",
    "\n",
    "**Potential energy**\n",
    "\n",
    "$$m = 2.00 \\space m^3/h \\cdot \\frac{1000 \\space kg}{1 \\space m^3} \\cdot 2 hrs = 4000 \\space kg$$\n",
    "\n",
    "$$\\dot{E_p} = m \\cdot g \\cdot h$$\n",
    "\n",
    "$$\\dot{E_p} = 4000 \\space kg \\cdot 9.81 \\cdot 2m = 78484 \\space J$$"
   ]
  },
  {
   "cell_type": "markdown",
   "metadata": {
    "collapsed": true
   },
   "source": [
    "## Example - 5.2 Heat and work\n",
    "\n",
    "In a batch mixing reactor, there might be pressure and heat changes that might affect the total energy of the system. The following scenario is observed:\n",
    "\n",
    "There is gas in the reactor cylinder. The initial gas temperature is 20 &deg;C. The cylinder is placed in boiling water with the piston held in a fixed position. Heat in the amount of 2.00 kcal is transferred to the gas, which equilibrates at 100 &deg;C. The pressure has also found to be increased at equilibrium. The piston is then released, and the gas does 100 J of work in moving the piston to its new equilibrium position. The final gas temperature is 100 &deg;C.\n",
    "\n",
    "![Figure 1.](../figures/module-5/5.2-Example-1.1.svg)\n",
    "\n",
    "![Figure 2.](../figures/module-5/5.2-Example-1.2.svg)"
   ]
  },
  {
   "cell_type": "markdown",
   "metadata": {
    "collapsed": true
   },
   "source": [
    "### Step 1\n",
    "\n",
    "In this step, the system **absorbs** heat that raises it's temperatures by 80 &deg;C. We are give nthat \n",
    "\n",
    "### Step 2"
   ]
  }
 ],
 "metadata": {
  "kernelspec": {
   "display_name": "Python 3",
   "language": "python",
   "name": "python3"
  },
  "language_info": {
   "codemirror_mode": {
    "name": "ipython",
    "version": 3
   },
   "file_extension": ".py",
   "mimetype": "text/x-python",
   "name": "python",
   "nbconvert_exporter": "python",
   "pygments_lexer": "ipython3",
   "version": "3.5.2"
  }
 },
 "nbformat": 4,
 "nbformat_minor": 1
}
