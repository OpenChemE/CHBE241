{
 "cells": [
  {
   "cell_type": "markdown",
   "metadata": {},
   "source": [
    "# 5.1 &ndash; The First Law of Thermodynamics\n",
    "\n",
    "---"
   ]
  },
  {
   "cell_type": "markdown",
   "metadata": {},
   "source": [
    "## 5.1.0 &ndash; Learning Objectives\n",
    "\n",
    "By the end of this section you should be able to:\n",
    "\n",
    "1. Understand the relationship between the first law and energy conservation.\n",
    "2. Understand the breakdown of the energy term\n",
    "3. Learn about a closed system and internal energy.\n",
    "\n",
    "---\n",
    "##  5.1.1 &ndash; Introduction \n",
    "\n",
    "As Chemical engineers, the knowledge of energy flows is integral to the industry. How will equipment affect the energy of a system? How does a reactor withstand an exothermic/endothermic reaction? Thermodynamics is the stepping stone in the study of energy flows. This notebook will give you an overview of the first law of thermodynamics.\n",
    "\n",
    "---"
   ]
  },
  {
   "cell_type": "markdown",
   "metadata": {},
   "source": [
    "## 5.1.2 &ndash; The First Law\n",
    "\n",
    "The first law is the concept that __energy is conserved.__ The first law states that the energy of a __closed system__ $E_{sys}$, is equal to the sum of heat added to the system $Q$ and the work done to or upon the system $W$. This is written mathematically as: \n",
    "\n",
    "$$E_{sys} = Q - W$$ \n",
    "\n",
    "and \n",
    "\n",
    "$$\\Delta E_{sys} = \\Delta Q-\\Delta W$$\n",
    "\n",
    "__Important! The system must be closed. Otherwise internal energy cannot be used alone__\n",
    "\n",
    "---\n",
    "## 5.1.3 &ndash; Units of the first law\n",
    "\n",
    "Energy in chemical engineering is often described as a $\\frac{Kilojoule}{Kilogram}$ or $\\frac{Joule}{mol}$. These units are used because of the massive amount of material that chemical engineers work with.\n",
    "\n",
    "Let's break down these terms down one-by-one.\n",
    "\n",
    "---\n",
    "## 5.1.4 &ndash; Energy $E$ \n",
    "\n",
    "Energy comes in many __different forms__. Sitting up on a chair reading this, you have __potential energy__. When you run in class to hand in your homework, you are demonstrating __kinetic energy__.  Your mere existence and the vibrations of the atoms inside of you, is a form of the __internal energy__. There are many other energies that can be classified but this course will be mainly focusing on these three.\n",
    "\n",
    "$$E_{tot} = E_{sys} = E_k + E_p + U$$ \n",
    "\n",
    "---\n",
    "## 5.1.5 &ndash; Fermi question!\n",
    "\n",
    "Using only facts, you know yourself... How fast would a car have to drive to have the same energy to climb mount Everest? How many Oreo cookies would that be? __An answer will be provided at the bottom__"
   ]
  },
  {
   "cell_type": "markdown",
   "metadata": {
    "collapsed": true
   },
   "source": [
    "### A solution to Fermi. \n",
    "\n",
    "I know that the Mount Everest is approximately 30000ft. The average person weighs 65kg. therefore, using the __potential energy__ formula and rough unit conversions: \n",
    "\n",
    "$$E_p = mgh$$ \n",
    "\n",
    "we obtain:\n",
    "\n",
    "$$ E_p = 65 \\space kg \\cdot \\bigg(30,000 \\space ft \\times 0.3 \\space \\frac{m}{ft} \\bigg) \\cdot 9.81 \\space \\frac{m}{s^2} = 5,738,850 \\space J$$\n",
    "\n",
    "Let's guess that an Oreo has 100 food calories (Cal) \n",
    "\n",
    "$$ \\therefore \\space 5,738,850 \\space J \\times \\frac{1 \\space Cal}{4,000 \\space J} \\times \\frac{1 \\space \\text{Oreo cookies}}{100 \\space Cal} = 14.3 \\space \\text{Oreo cookies}. $$\n",
    "\n",
    "A car weighs approximately 1000kg. Using the __kinetic energy__ formula:\n",
    "\n",
    "$$ E_k = \\frac{1}{2} \\cdot m *v^2 $$\n",
    "\n",
    "$$ 5,738,850 \\space J = \\frac{1}{2} \\cdot 1,000 \\space kg \\cdot v^2 $$ \n",
    "\n",
    "Solving for v results in $v = 107.13 \\space m/s$ which is just over the speed of the bullet train in Japan.\n",
    "\n",
    "Click here for more fermi questions [more fermi!](http://www.fermiquestions.com/play)"
   ]
  },
  {
   "cell_type": "code",
   "execution_count": null,
   "metadata": {
    "collapsed": true
   },
   "outputs": [],
   "source": []
  }
 ],
 "metadata": {
  "anaconda-cloud": {},
  "kernelspec": {
   "display_name": "Python 3",
   "language": "python",
   "name": "python3"
  },
  "language_info": {
   "codemirror_mode": {
    "name": "ipython",
    "version": 3
   },
   "file_extension": ".py",
   "mimetype": "text/x-python",
   "name": "python",
   "nbconvert_exporter": "python",
   "pygments_lexer": "ipython3",
   "version": "3.6.1"
  }
 },
 "nbformat": 4,
 "nbformat_minor": 2
}
