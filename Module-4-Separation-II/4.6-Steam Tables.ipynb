{
 "cells": [
  {
   "cell_type": "markdown",
   "metadata": {},
   "source": [
    "# 4.6-Steam Tables\n",
    "\n",
    "## Learning Objectives\n",
    "\n",
    "By the end of this section you should be able to:\n",
    "\n",
    "1. Understand what steam tables tell us.\n",
    "2. Use steam tables to solve thermodynamic problems.\n",
    "3. Interpolate between data points.\n",
    "\n",
    "## Introduction\n",
    "\n",
    "Water, and in specific, steam is used in many processes. Most commonly, it is used in the transfer of energy. Because of this, scientist and engineers have created extensive data tables on a variety of conditions.\n",
    "\n",
    "## Overview\n",
    "\n",
    "### Table Description\n",
    "\n",
    "Shown below is a typical team table from the [NIST](http://webbook.nist.gov/cgi/fluid.cgi?Action=Load&ID=C7732185&Type=SatP&Digits=5&THigh=373.946&TLow=0.01&TInc=5&RefState=DEF&TUnit=C&PUnit=MPa&DUnit=kg%2Fm3&HUnit=kJ%2Fkg&WUnit=m%2Fs&VisUnit=uPa*s&STUnit=N%2Fm)  website.\n",
    "\n",
    "<img src=\"../figures/Module-4/Steam_Table_Base.png\" style= \"height:600px\">\n",
    "\n",
    "Each column represents a property. In this table, the temperature is held constant and the pressure is increasing by increments of 1.0000 MPa. The main properties we will be focusing on are temperature, pressure, internal energy and enthalpy.\n",
    "\n",
    "### How to Use Steam Tables\n",
    "\n",
    "Steam tables are typically used to calculate the change in energy in a specific process, whether it be energy generation or cooling. By measuring the changes in pressure or temperature of steam, you can calculate changes in enthalpy or internal energy. For example, if you have 1 kg of steam at 600.00 K and 1.0000 MPa and you expand it to 2.0000 MPa at a constant temperature you change in enthalpy $\\Delta H = H_2 - H_1 =(3085.6 - 3109.0) \\space kJ/kg = -23.4 \\space kJ/kg $. \n",
    "\n",
    "### Interpolation\n",
    "\n",
    "Let's suppose you wanted to find out what the internal energy of steam is at 600.00 K and 3.5000 MPa. Since the value is not given in the table, you must interpolate. The formula for interpolation is: \n",
    "\n",
    "$$ y = \\frac{y_2 - y_1}{x_2 - x_1} (x - x_1) + y_1 $$\n",
    "\n",
    "In this case the formula for internal energy at 3.5000 Mpa is:\n",
    "\n",
    "$$ U_{3.5 MPa, 600 K} = \\frac{U_{4 MPa, 600 K} - U_{3 MPa, 600 K}}{P_2 - P_1} (P - P_1) + U_{3 MPa, 600 K} $$\n",
    "\n",
    "and the answer is:\n",
    "\n",
    "$$ U_{3.5 MPa, 600 K} =  \\frac{(2782.1 - 2801.9) \\space kJ/kg}{(4 - 3) \\space MPa} (3.5 - 3) \\space MPa + 2801.9 \\space kJ/kg = 2792.0 \\space kJ/kg $$\n"
   ]
  },
  {
   "cell_type": "markdown",
   "metadata": {
    "collapsed": true
   },
   "source": [
    "## Problem Statement\n",
    "\n",
    "\n",
    "### Question\n",
    "Using the steam tables below, find the change in internal energy when steam is first expanded isothermally at 600 K from 1.0000 MPa to 1.8000 MPa and then cooled isobarically at 1.8000 MPa from 600 K to 500 K. \n",
    "\n",
    "<img src=\"../figures/Module-4/Steam_Table_Base.png\" style= \"height:620px\">\n",
    "<img src=\"../figures/Module-4/Steam_Table_2.png\" style= \"height:500px\">\n",
    "\n",
    "### Answer By Hand\n",
    "\n",
    "The internal energy at 600 K and 1.0000 MPa is\n",
    "\n",
    "$$ U_{1.0 MPa, 600 K} = 2837.7 \\space kJ/kg $$\n",
    "\n",
    "Since 1.8000 MPa is not present in the first table, we must interpolate\n",
    "\n",
    "$$ U_{1.8 MPa, 600 K} = \\frac{U_{2 MPa, 600 K} - U_{1 MPa, 600 K}}{P_2 - P_1} (P - P_1) + U_{1 MPa, 600 K} $$\n",
    "\n",
    "$$ U_{1.8 MPa, 600 K} = \\frac{(2820.4 - 2837.7) \\space kJ/kg}{(2 - 1) \\space MPa} (1.8 - 1) \\space MPa + 2837.7 \\space kJ/kg $$\n",
    "\n",
    "$$ U_{1.8 MPa, 600 K} = 2823.9 \\space kJ/kg $$\n",
    "\n",
    "now that we have $U_{1.8 MPa, 600 K}$, we must find $U_{1.8 MPa, 500 K}$ using interpolation\n",
    "\n",
    "$$ U_{1.8 MPa, 500 K} = \\frac{U_{2 MPa, 500 K} - U_{1 MPa, 500 K}}{P_2 - P_1} (P - P_1) + U_{1 MPa, 500 K} $$\n",
    "\n",
    "$$ U_{1.8 MPa, 500 K} = \\frac{(2632.6 - 2670.6) \\space kJ/kg}{(2 - 1) \\space MPa} (1.8 - 1) \\space MPa + 2670.6 \\space kJ/kg $$\n",
    "\n",
    "$$ U_{1.8 MPa, 500 K} = 2640.2 \\space kJ/kg $$\n",
    "\n",
    "Now that we have all the necessary values, we just need to sum the changes in internal energy\n",
    "\n",
    "$$ \\Delta U_{tot} = \\Delta U_{1} + \\Delta U_{2} = (U_{1.8 MPa, 600 K} - U_{1.0 MPa, 600 K}) + (U_{1.8 MPa, 500 K} - U_{1.8 MPa, 600 K}) $$\n",
    "\n",
    "$$ \\Delta U_{tot} = (2823.9 \\space kJ/kg - 2837.7 \\space kJ/kg) + (2640.2 \\space kJ/kg - 2823.9 \\space kJ/kg) $$\n",
    "\n",
    "$$ \\Delta U_{tot} = -197.5 \\space kJ/kg $$\n"
   ]
  },
  {
   "cell_type": "code",
   "execution_count": null,
   "metadata": {
    "collapsed": true
   },
   "outputs": [],
   "source": []
  }
 ],
 "metadata": {
  "kernelspec": {
   "display_name": "Python 3",
   "language": "python",
   "name": "python3"
  },
  "language_info": {
   "codemirror_mode": {
    "name": "ipython",
    "version": 3
   },
   "file_extension": ".py",
   "mimetype": "text/x-python",
   "name": "python",
   "nbconvert_exporter": "python",
   "pygments_lexer": "ipython3",
   "version": "3.6.1"
  }
 },
 "nbformat": 4,
 "nbformat_minor": 2
}
