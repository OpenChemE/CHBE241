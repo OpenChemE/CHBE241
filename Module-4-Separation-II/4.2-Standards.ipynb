{
 "cells": [
  {
   "cell_type": "markdown",
   "metadata": {},
   "source": [
    "# 4.2-Standards\n",
    "\n",
    "## Learning Objectives\n",
    "\n",
    "By the end of this section you should be able to:\n",
    "\n",
    "1. Understand what standard temperature and pressure (STP) is.\n",
    "2. Understand what standard cubic meters and feet are.\n",
    "\n",
    "## Introduction\n",
    "\n",
    "In engineering and science, it is useful to have standards to use as reference points. If most people in the field you work in work with one type of standard, then confusion, mistakes, and conversions can be prevented.\n",
    "\n",
    "## Overview\n",
    "\n",
    "### Standard Temperature and Pressure (STP)\n",
    "\n",
    "**Standard temperature and pressure (STP)**, $T_s$ and $\\hat{V}_s$ used as a reference point for many laws, including the ideal gas law. When the ideal gas law\n",
    "\n",
    "$$ P V = n R T $$\n",
    "\n",
    "is divided by the reference point ideal gas law\n",
    "\n",
    "$$ P_s \\hat{V}_s = R T_s $$\n",
    "\n",
    "you get \n",
    "\n",
    "$$ \\frac{P V}{P_s \\hat{V}_s} = n \\frac{T}{T_s} $$\n",
    "\n",
    "Since we got rid of the R, the constant is not needed anymore. The SI units for **(STP)** are\n",
    "\n",
    "$$T_s = 273.15 \\space K$$\n",
    "\n",
    "$$P_s = 101,300 \\space Pa$$\n",
    "\n",
    "$$V_s = 0.022415 \\space m^3/mol$$\n",
    "\n",
    "### Standard Cubic Meters and Standard Cubic Feed\n",
    "\n",
    "**Standard cubic meters (SCM)**, is used to denote $m^3$ at **STP**. **Standard cubic feet (SCF)**, is used to denote $ft^3$ at **STP**. A volumetric flow rate of 21.3 SCMH is $21.3 \\space m^3/h$ at $0 ^{\\circ} C$ and 1 atm."
   ]
  },
  {
   "cell_type": "code",
   "execution_count": null,
   "metadata": {
    "collapsed": true
   },
   "outputs": [],
   "source": []
  }
 ],
 "metadata": {
  "kernelspec": {
   "display_name": "Python 3",
   "language": "python",
   "name": "python3"
  },
  "language_info": {
   "codemirror_mode": {
    "name": "ipython",
    "version": 3
   },
   "file_extension": ".py",
   "mimetype": "text/x-python",
   "name": "python",
   "nbconvert_exporter": "python",
   "pygments_lexer": "ipython3",
   "version": "3.6.1"
  }
 },
 "nbformat": 4,
 "nbformat_minor": 2
}
