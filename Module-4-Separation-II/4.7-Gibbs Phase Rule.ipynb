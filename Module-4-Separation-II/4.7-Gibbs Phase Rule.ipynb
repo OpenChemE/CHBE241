{
 "cells": [
  {
   "cell_type": "markdown",
   "metadata": {},
   "source": [
    "# 4.7-Gibbs Phase Rule\n",
    "## Learning Objectives\n",
    "\n",
    "By the end of this section you should be able to:\n",
    "\n",
    "1. Understand the concept of Gibbs Phase Rule.\n",
    "2. Calculate the degree of freedom of a system.\n",
    "\n",
    "## Introduction\n",
    "The Gibbs Phase Rule is used when trying to find the degrees of freedom of a system at equilibrium when two phases are brought into contact with each other. Degrees of freedom is the number of intensive variables you need to describe to allow the system to be solved.\n",
    "\n",
    "## Overview\n",
    "\n",
    "### Equation\n",
    "\n",
    "The Gibbs Phase Rule equation is:\n",
    "\n",
    "$$ DF = 2 + c - \\Pi $$\n",
    "\n",
    "where\n",
    "\n",
    "$$ DF = \\text{degrees of freedom} $$\n",
    "\n",
    "$$ c = \\text{number of chemical species} $$\n",
    "\n",
    "$$ \\Pi = \\text{number of phases in a system at equilibrium} $$\n",
    "\n",
    "### Examples\n",
    "\n",
    "1. Pure Liquid water:\n",
    "    Pure liquid water is one phase and one chemical species, therefore, the degrees of freedom by Gibbs Phase Rule is:\n",
    "    \n",
    "    $$ DF = 2 + 1 - 1 = 2 $$\n",
    "    \n",
    "2. A mixture of ice, liquid water, and steam:\n",
    "    A mixture of ice, liquid water, and steam is three phases and one chemical species, therefore, the degrees of freedom by Gibbs Phase Rule is:\n",
    "    \n",
    "    $$ DF = 2 + 1 - 3 = 0 $$\n",
    "    \n",
    "3. A Vapour-Liquid Equilibrium of acetone and methyl ethyl ketone:\n",
    "    A Vapour-Liquid Equilibrium of acetone and methyl ethyl ketone has two phases and two chemical species, therefore, the degrees of freedom by Gibbs Phase Rule is:\n",
    "    \n",
    "    $$ DF = 2 + 2 - 2 = 2 $$"
   ]
  },
  {
   "cell_type": "markdown",
   "metadata": {},
   "source": [
    "## Problem Statement\n",
    "### Question \n",
    "An aquatic centre chlorinates its pools to sanitize the water. What is the degrees of freedom of the aquatic centre? Assume that the aquatic centre is a closed system and that the air in the aquatic centre contains only nitrogen and oxygen.\n",
    "### Answer\n",
    "Since the aquatic centre contains, air, water and chlorine in two phases, the DF is:\n",
    "\n",
    "$$ c = 4 $$\n",
    "\n",
    "$$ \\Pi = 2 $$\n",
    "\n",
    "$$ \\therefore \\quad DF = 2 + 4 - 2 = 4 $$"
   ]
  },
  {
   "cell_type": "code",
   "execution_count": null,
   "metadata": {
    "collapsed": true
   },
   "outputs": [],
   "source": []
  }
 ],
 "metadata": {
  "kernelspec": {
   "display_name": "Python 3",
   "language": "python",
   "name": "python3"
  },
  "language_info": {
   "codemirror_mode": {
    "name": "ipython",
    "version": 3
   },
   "file_extension": ".py",
   "mimetype": "text/x-python",
   "name": "python",
   "nbconvert_exporter": "python",
   "pygments_lexer": "ipython3",
   "version": "3.6.1"
  }
 },
 "nbformat": 4,
 "nbformat_minor": 2
}
