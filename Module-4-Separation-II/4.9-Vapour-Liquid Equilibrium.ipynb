{
 "cells": [
  {
   "cell_type": "markdown",
   "metadata": {},
   "source": [
    "# 4.9-Vapour-Liquid Equilibrium"
   ]
  },
  {
   "cell_type": "markdown",
   "metadata": {},
   "source": [
    "## 4.9.0-Learning Objectives\n",
    "\n",
    "By the end of this unit you should be able to:\n",
    "\n",
    "1. Understand the concept of **Vapour-Liquid Equilibrium**.\n",
    "2. Understand what **bubble point** temperature and pressure is.\n",
    "3. Understand what **dew point** temperature and pressure is.\n",
    "4. Calculate for **bubble point** temperature and pressure.\n",
    "5. Calculate for **dew point** temperature and pressure.\n",
    "\n",
    "## 4.9.1-Introduction\n",
    "\n",
    "**Vapour-Liquid Equilibrium** (VLE) occurs under certain circumstances where both a liquid and a vapour of one or more substances coexist. An example of this is half full jerrycan with gasoline. Gasoline is comprised of multiple types of hydrocarbons. At the bottom half of the can, there is only liquid gasoline. At the top half, there is gasoline vapour. The vapour and liquid are at equilibrium, meaning that there is as much vapour becoming liquid as liquid becoming vapour."
   ]
  },
  {
   "cell_type": "markdown",
   "metadata": {},
   "source": [
    "## Bubble-Point and Dew-Point Temperatures\n",
    "\n",
    "The **bubble-point temperature** is the temperature at which the first vapour bubbles form when a liquid is heated slowly at given pressure. On the other hand **dew-point temperature** is the temperature at which the first liquid droplets form when a vapour is cooled slowly at given pressure. Calculating the bubble-point and dew-point temperatures can be difficult but if the liquid and gas behave ideally, then the calculations are relatively straightforward.\n",
    "\n",
    "## Calculations for Bubble-Point and Dew-Point Pressure and Temperature\n",
    "\n",
    "Suppose we have an ideal liquid solution that follows Raoult's law and contains species A, B, C, ... with mole fractions $x_A$, $x_B$, $x_C$, .... If the mixture is heated at a constant pressure P to its bubble-point temperature $T_{bp}$, the partial pressures of the components are given by Raoult's:\n",
    "\n",
    "$$ p_i = x_i p_i^* (T_{bp}), \\quad i = \\text{A, B, C, ...}  $$ \n",
    "\n",
    "and the total pressure of the system is:\n",
    "\n",
    "$$ P = p_A + p_B + p_C + \\space ... \\space =  x_A p_A^* (T_{bp}) + x_B p_B^* (T_{bp}) + x_C p_C^* (T_{bp}) + \\space ... $$\n",
    "\n",
    "**Bubble-point pressure** is the pressure at which the first vapour forms when a liquid is decompressed at constant temperature. The mole fractions of the vapor can be determined by using the equation:\n",
    "\n",
    "$$y_i = \\frac{p_i}{P_{bp}} = \\frac{x_i p_i^* (T)}{P_{bp}} $$\n",
    "\n",
    "The dew-point temperature can be found using a similar method as to that of the bubble-point temperature Suppose we have an ideal vapour the follows Raoult's law and contains species A, B, C, ... with mole fractions $x_A$, $x_B$, $x_C$, .... If the vapour is cooled slowly to its dew-point temperature, $T_{dp}$, the mole fractions are given by the equation:\n",
    "\n",
    "$$ x_i = \\frac{y_i P}{p_i^* (T_{dp})}, \\quad i = \\text{A, B, C, ...} $$\n",
    "\n",
    "The **dew-point pressure** is the condensation of a vapour at an increasing pressure and constant pressure is given by the equation:\n",
    "\n",
    "$$ P_{dp} = \\frac{1}{\\frac{y_A P}{p_i^* (T_{dp})} + \\frac{y_B P}{p_i^* (T_{dp})} + \\frac{y_C P}{p_i^* (T_{dp})} + ...} $$"
   ]
  },
  {
   "cell_type": "code",
   "execution_count": null,
   "metadata": {
    "collapsed": true
   },
   "outputs": [],
   "source": []
  }
 ],
 "metadata": {
  "kernelspec": {
   "display_name": "Python 3",
   "language": "python",
   "name": "python3"
  },
  "language_info": {
   "codemirror_mode": {
    "name": "ipython",
    "version": 3
   },
   "file_extension": ".py",
   "mimetype": "text/x-python",
   "name": "python",
   "nbconvert_exporter": "python",
   "pygments_lexer": "ipython3",
   "version": "3.6.1"
  }
 },
 "nbformat": 4,
 "nbformat_minor": 2
}
