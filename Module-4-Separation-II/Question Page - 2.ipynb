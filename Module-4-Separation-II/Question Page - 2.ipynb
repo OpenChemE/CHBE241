{
 "cells": [
  {
   "cell_type": "markdown",
   "metadata": {},
   "source": [
    "# Question Page &ndash; 2\n",
    "\n",
    "## Question\n",
    "\n",
    "A vessel contains a mixture of benzene, $C_6 H_6$, and toluene, $C_7 H_8$. At 373 the pressure in the vessel is 6.53 bar(abs). Using the data provioded, and any others necessary, find the mass fractions of benzene in the liquid and vapour. Assume the liquids and vapours behave ideally.\n",
    "\n",
    "<table>\n",
    "    <tr>\n",
    "        <th> Compnent </th>\n",
    "        <th> Antoine Constants</th>\n",
    "        <th> </th>\n",
    "        <th> </th>\n",
    "    </tr>\n",
    "    <tr>\n",
    "        <td></td>\n",
    "        <td>A</td>\n",
    "        <td>B</td>\n",
    "        <td>C</td>\n",
    "    </tr>\n",
    "    <tr>\n",
    "        <td>Benzene</td>\n",
    "        <td>4.72583</td>\n",
    "        <td>1660.652</td>\n",
    "        <td>-1.461</td>\n",
    "    </tr>\n",
    "    <tr>\n",
    "        <td>Toluene</td>\n",
    "        <td>4.07827</td>\n",
    "        <td>1343.943</td>\n",
    "        <td>-53.773</td>\n",
    "    </tr>\n",
    "</table>"
   ]
  },
  {
   "cell_type": "code",
   "execution_count": null,
   "metadata": {
    "collapsed": true
   },
   "outputs": [],
   "source": []
  }
 ],
 "metadata": {
  "kernelspec": {
   "display_name": "Python 3",
   "language": "python",
   "name": "python3"
  },
  "language_info": {
   "codemirror_mode": {
    "name": "ipython",
    "version": 3
   },
   "file_extension": ".py",
   "mimetype": "text/x-python",
   "name": "python",
   "nbconvert_exporter": "python",
   "pygments_lexer": "ipython3",
   "version": "3.6.1"
  }
 },
 "nbformat": 4,
 "nbformat_minor": 2
}
