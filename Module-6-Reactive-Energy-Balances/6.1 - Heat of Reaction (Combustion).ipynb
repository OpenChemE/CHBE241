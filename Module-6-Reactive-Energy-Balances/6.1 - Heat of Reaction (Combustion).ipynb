{
 "cells": [
  {
   "cell_type": "markdown",
   "metadata": {},
   "source": [
    "# 6.1 &ndash; Heat of Reaction (Combustion)"
   ]
  },
  {
   "cell_type": "markdown",
   "metadata": {},
   "source": [
    "## 6.1.0 &ndash; Learning Objectives\n",
    "\n",
    "By the end of this section you should be able to:\n",
    "\n",
    "1. Understand the concept of heat of reaction.\n",
    "2. Understand the difference between exothermic and endothermic reactions.\n",
    "3. Use heat of reaction in calculations.\n",
    "4. Use the extent of reaction in heat of reaction calculations.\n",
    "\n",
    "## 6.1.1 &ndash; Introduction\n",
    "\n",
    "The **heat of reaction**, $\\Delta \\hat{H}_r (T,P) $ is the change in enthalpy for a process in which the quantities of reactants at a temperature and pressure, T and P, __react completely__ in a single reaction to form products."
   ]
  },
  {
   "cell_type": "markdown",
   "metadata": {},
   "source": [
    "## 6.1.2 &ndash; Exothermic and Endothermic\n",
    "\n",
    "A simple example we can use to explain the difference between **exothermic** and **endothermic** reactions is the burning of hydrogen gas in oxygen.\n",
    "\n",
    "$$ 2 \\space H_{2} \\small{\\text{(g)}} + O_{2 } \\small{\\text{(g)}} \\longrightarrow 2 \\space H_2 O \\small{\\text{(v)}} \\quad \\Delta \\hat{H}_r = -241.8 \\space \\frac{kJ}{mol}$$\n",
    "\n",
    "This reaction is exothermic. An exothermic reaction occurs when the __products__ of the reaction have a __lower internal energy__ than the reactants. The net energy difference, the heat of reaction, would be negative. This __reaction releases energy__ in terms of heat.\n",
    "\n",
    "\n",
    " \n",
    "\n",
    "If you have the reverse reaction:\n",
    "\n",
    "$$ 2 \\space H_2 O \\small{\\text{(v)}} \\longrightarrow 2 \\space H_{2} \\small{\\text{(g)}} + O_{2 } \\small{\\text{(g)}} \\quad \\Delta \\hat{H}_r = 241.8 \\space \\frac{kJ}{mol}$$\n",
    "\n",
    "The reaction will be endothermic. An endothermic reaction occurs when the __products__ of the reaction have a __higher internal energy__ than the reactants. The net energy difference, the heat of reaction, would be positive. This __reaction requires heat__ to occur.\n",
    "\n",
    "## 6.1.3 &ndash; How to Solve Questions Using Heat of Reaction\n",
    "\n",
    "When using heat of reaction, the units are often given in $kJ/mol$. The problem with this unit is moles of what? To clarify, when calculating for the change in enthalpy, we use this equation:\n",
    "\n",
    "$$ \\Delta H = \\frac{\\Delta \\hat{H}_r (T_0,P_0)}{\\mid \\nu_A \\mid} \\space n_{A,r} $$\n",
    "\n",
    "where\n",
    "\n",
    "$$ \\Delta H = \\text{Is the change in enthalpy} $$\n",
    "\n",
    "$$ \\Delta \\hat{H}_r (T_0,P_0) = \\text{Is the heat of reaction at temperature and pressure} \\space T_0 \\space \\text{and} \\space P_0 $$\n",
    "\n",
    "$$ \\nu_A = \\text{Is the stoichiometric coefficient of species A} $$\n",
    "\n",
    "$$ n_{A,r} = \\text{Is the moles of A that reacted} $$\n",
    "\n",
    "In module 2 we defined the **extent of reaction**, $\\xi$, as a measure how far a reaction advanced. The equation for extent of reaction is:\n",
    "\n",
    "$$ \\xi = \\frac{n_{A,r}}{\\mid \\nu_A \\mid} $$\n",
    "\n",
    "Using this equation, we can simplify the change in enthalpy equation to:\n",
    "\n",
    "$$ \\Delta H = \\Delta \\hat{H}_r (T_0,P_0) \\cdot \\xi $$\n",
    "\n",
    "For example, in the combustion of hydrogen:\n",
    "\n",
    "$$ 2 \\space H_{2} \\small{\\text{(g)}} + O_{2 } \\small{\\text{(g)}} \\longrightarrow 2 \\space H_2 O \\small{\\text{(v)}} \\quad \\Delta \\hat{H}_r = -241.8 \\space \\frac{kJ}{mol}$$\n",
    "\n",
    "The equation above states we can measure the enthalpy of reaction as $-241.8 \\space \\frac{kJ}{mol} $ for every one mol of oxygen or $-241.8 \\space \\frac{kJ}{mol}$  for every 2 mols of hydrogen.\n",
    "\n",
    "## 6.1.4 &ndash; Important Terms and Observations\n",
    "\n",
    "1. If $ \\Delta \\hat{H}_r (T,P) $ is negative, the reaction is exothermic at the temperature and pressure T and P, and if $ \\Delta \\hat{H}_r (T,P) $ is positive the reaction is endothermic at T and P.\n",
    "2. At low and moderate pressures, $ \\Delta \\hat{H}_r (T,P) $ is nearly independent of pressure. Thus, the heat of reaction will become $ \\Delta \\hat{H}_r (T) $. We will mostly be using this type of heat of reaction.\n",
    "3. The value of the heat of reaction depends on the how the stoichiometric equation is write. For example,\n",
    "\n",
    "    $$ H_{2} \\small{\\text{(g)}} + \\frac{1}{2} \\space O_{2 } \\small{\\text{(g)}} \\longrightarrow 2 \\space H_2 O \\small{\\text{(v)}} \\quad \\Delta \\hat{H}_r = -241.8 \\space \\frac{kJ}{mol}$$\n",
    "    \n",
    "    $$ 2 \\space H_{2} \\small{\\text{(g)}} + O_{2 } \\small{\\text{(g)}} \\longrightarrow 2 \\space H_2 O \\small{\\text{(v)}} \\quad \\Delta \\hat{H}_r = -483.6 \\space \\frac{kJ}{mol}$$\n",
    "    \n",
    "4. The magnitude of the heat of reaction depends on the phase of the products, whether it be gas, liquid, or solid. For example,\n",
    "    \n",
    "    $$ C H_{4} \\small{\\text{(g)}} + 2 \\space O_{2 } \\small{\\text{(g)}} \\longrightarrow C O_{2} \\small{\\text{(g)}} + 2 \\space H_2 O \\small{\\text{(v)}} \\quad \\Delta \\hat{H}_r -802.3 \\space \\frac{kJ}{mol}$$\n",
    "    \n",
    "    $$ C H_{4} \\small{\\text{(g)}} + 2 \\space O_{2 } \\small{\\text{(g)}} \\longrightarrow C O_{2} \\small{\\text{(g)}} + 2 \\space H_2 O \\small{\\text{(l)}} \\quad \\Delta \\hat{H}_r -890.3 \\space \\frac{kJ}{mol}$$\n",
    "    \n",
    "    This concept will be discussed in greater detail in the **latent heat** section.\n",
    "5. The **standard heat of reaction**, denoted by $ \\Delta \\hat{H}_r ^{\\circ} $, is the heat of reaction at a specific reference point, usually $25 ^{\\circ} C$ and $1$ atm."
   ]
  },
  {
   "cell_type": "markdown",
   "metadata": {
    "collapsed": true
   },
   "source": [
    "## 6.1.5 &ndash; Problem Statement\n",
    "\n",
    "### Question\n",
    "You are a chemical engineer at one of the test facilities for renewable energies. You are comparing ethanol's rate of enthalpy change to the amount of $C O_2$ produced. You measure that $250 g/s$ of $C O_2$ is produced, what is the rate of enthalpy change given\n",
    "\n",
    "$$ C_2 H_5 O H \\small{\\text{(l)}} + 3 \\space O_2 \\small{\\text{(g)}} \\longrightarrow 2 \\space C O_2 \\small{\\text{(g)}} + 3 \\space H_2 O \\small{\\text{(v)}} \\quad \\Delta \\hat{H}_r = -1369 \\space kJ/mol $$\n",
    "\n",
    "Is the combustion of ethanol an exothermic or endothermic reaction?\n",
    "\n",
    "### Answer\n",
    "\n",
    "First we need to convert the rate of $C O_2$ produced from a mass flow rate to a molar flow rate.\n",
    "\n",
    "$$ MW_{C O_2} = 44.00 \\space \\frac{g}{mol} $$\n",
    "\n",
    "$$ \\dot{n}_{C O_2} = \\dot{m}_{C O_2} \\times \\frac{1}{MW_{C O_2}} = 250 \\space \\frac{g}{s} \\times \\frac{mol}{44.00 \\space g } = 5.682 \\space \\frac{mol}{s} $$\n",
    "\n",
    "Now that we have the molar flow rate, we can use the extent of reaction method to solve for the rate of enthalpy change.\n",
    "\n",
    "$$ \\dot{\\xi} = \\frac{\\dot{n}_{C O_2}}{\\mid \\nu_{C O_2} \\mid} = \\frac{5.682 \\space \\frac{mol}{s}}{2} = 2.841 \\space \\frac{mol}{s} $$\n",
    "\n",
    "$$ \\Delta \\dot{H} = \\dot{\\xi} \\cdot \\Delta \\hat{H}_r = \\bigg(2.841 \\space \\frac{mol}{s} \\bigg) \\cdot \\bigg( -1369 \\space \\frac{kJ}{mol} \\bigg) = -3889 \\space \\frac{kJ}{s} $$\n",
    "\n",
    "Since the rate of enthalpy change is negative, the combustion of ethanol is an exothermic reaction."
   ]
  },
  {
   "cell_type": "code",
   "execution_count": null,
   "metadata": {
    "collapsed": true
   },
   "outputs": [],
   "source": []
  }
 ],
 "metadata": {
  "anaconda-cloud": {},
  "kernelspec": {
   "display_name": "Python 3",
   "language": "python",
   "name": "python3"
  },
  "language_info": {
   "codemirror_mode": {
    "name": "ipython",
    "version": 3
   },
   "file_extension": ".py",
   "mimetype": "text/x-python",
   "name": "python",
   "nbconvert_exporter": "python",
   "pygments_lexer": "ipython3",
   "version": "3.6.1"
  }
 },
 "nbformat": 4,
 "nbformat_minor": 2
}
