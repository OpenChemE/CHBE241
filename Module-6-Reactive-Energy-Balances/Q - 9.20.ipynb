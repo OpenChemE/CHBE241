{
 "cells": [
  {
   "cell_type": "markdown",
   "metadata": {},
   "source": [
    "# Q &ndash; 9.20\n",
    "\n",
    "Nitric acid is a crucial chemical that is used in the production of ammonium nitrate which is used for fertilizers, making plastics, and manufacturing of dyes. To produce nitic acid you need nitiric oxide and to produce nitiric oxide you must oxidize ammonia. The two reactions that occur during the oxidation of ammonia are:\n",
    "\n",
    "$$ 4 \\space N H_3 + 5 \\space O_2 \\longrightarrow 4 \\space NO + 6 \\space H_2 O $$\n",
    "\n",
    "$$ 2 \\space N H_3 + \\frac{3}{2} \\space O_2 \\longrightarrow N_2 + 3 \\space H_2 O $$\n",
    "\n",
    "You are a chemcial engineer incharge of this step in the process. A flow chart shown bellow details the reactor you are working on. \n",
    "\n",
    "![](../figures/Module-6/Q9.20-1.svg)\n",
    "\n",
    "You must:\n",
    "\n",
    "a) Take the elemental species $\\big[N_2 (g), \\space H_2 (g), \\space O_2 (g)\\big]$ at $25 ^{\\circ} C$ as refrences and prepare and fill an inlet-outlet enthalpy table.\n",
    "\n",
    "b) Calculate the heat transfer to or from the reator in MW."
   ]
  },
  {
   "cell_type": "code",
   "execution_count": null,
   "metadata": {
    "collapsed": true
   },
   "outputs": [],
   "source": []
  }
 ],
 "metadata": {
  "kernelspec": {
   "display_name": "Python 3",
   "language": "python",
   "name": "python3"
  },
  "language_info": {
   "codemirror_mode": {
    "name": "ipython",
    "version": 3
   },
   "file_extension": ".py",
   "mimetype": "text/x-python",
   "name": "python",
   "nbconvert_exporter": "python",
   "pygments_lexer": "ipython3",
   "version": "3.6.1"
  }
 },
 "nbformat": 4,
 "nbformat_minor": 2
}
