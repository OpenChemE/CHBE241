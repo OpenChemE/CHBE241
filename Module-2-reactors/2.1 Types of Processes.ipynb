{
 "cells": [
  {
   "cell_type": "markdown",
   "metadata": {},
   "source": [
    "# 2.1&ndash; Types of Processes"
   ]
  },
  {
   "cell_type": "markdown",
   "metadata": {},
   "source": [
    "## 2.1.0-Learning Objectives\n",
    "\n",
    "By the end of this section you should be able to:\n",
    "\n",
    "1. Understand the __three types of processes__ dominant in chemical engineeing.\n",
    "2. Be able to characterize processes into the three types  of processes.\n",
    "\n",
    "\n",
    "## 2.1.1-Introduction\n",
    "\n",
    "Chemical processes can all be classified as:\n",
    "__Batch__, __Continuous-flow__, and  __Semi-batch__ and as __steady-state__ or __transient__ (unsteady-state). This notebook will cover the first three classifications. "
   ]
  },
  {
   "cell_type": "markdown",
   "metadata": {},
   "source": [
    "## 2.1.2-Batch Processes\n",
    "\n",
    "> All reactants fed to the reactor at the beginning of the process and the products are removed when the reaction is complete. No reactants are fed to the reactor and no product is removed during the process.\n",
    "\n",
    "> *Note* The textbook refers to this as \"no mass crossing the system boundaries\" "
   ]
  },
  {
   "cell_type": "markdown",
   "metadata": {
    "collapsed": true
   },
   "source": [
    "#### Alcohol fermentation is a batch process\n",
    "\n",
    "\n",
    "Beer production is a classic example of a batch process. All the ingredients are input into the fermentation vessel and left to react.\n",
    "\n",
    "<img src=\"https://scontent.cdninstagram.com/t51.2885-15/sh0.08/e35/p750x750/18878917_133394500563884_1492634223511601152_n.jpg?ig_cache_key=MTUyODAxMzA0NDk0NDExMjg0OA%3D%3D.2\" alt=\"\" style=\"height:300px; float:left;\" >\n",
    "\n",
    "\n",
    "<p style =\"width:40%; margin-left: 300px;margin-top:40px;\">\n",
    "Our feeling when home brews take 3 weeks. 🙄🍺Yeast has been added and the primary fermenter has been sealed with an airlock, which allows carbon dioxide to escape but nothing to enter! -ubcchemecar </p>\n"
   ]
  },
  {
   "cell_type": "markdown",
   "metadata": {},
   "source": [
    "## 2.1.3-Continuous flow processes\n",
    "\n",
    ">Continuous flow processes are where the inputs and outputs of the reactor flow at a constant\n",
    "\n",
    "Hydrogen sulfide is fed continuously in a series of reactors to form sulphuric acid. Since the process is continuous, it can be run 24/7, with the only maintenane as the major factor to stop the production."
   ]
  },
  {
   "cell_type": "markdown",
   "metadata": {},
   "source": [
    "![](https://upload.wikimedia.org/wikipedia/en/thumb/e/eb/WetSulfuricAcidProcessDiagram.svg/800px-WetSulfuricAcidProcessDiagram.svg.png)\n",
    "*sulphuric acid production: wikipedia*"
   ]
  },
  {
   "cell_type": "markdown",
   "metadata": {
    "collapsed": true
   },
   "source": [
    "## 2.1.4-Semi-Batch Processes\n",
    "\n",
    "> A semi-batch process is when reactants are __periodically__ added or products are periodically removed. \n",
    "The textbook defines Semi-batch processes as \"neither batch nor continuous.\"\n",
    "\n",
    "\n",
    "<div style = \" float:right\" >\n",
    "<img src=\"https://upload.wikimedia.org/wikipedia/commons/thumb/e/ee/Bioreactor_principle.svg/1200px-Bioreactor_principle.svg.png\" alt=\"\" style=\"height:300px;float:right; \" >\n",
    "<p>Wikimedia</p></div>\n",
    "\n",
    "\n",
    "<p style= \"width:50%; margin-top:45px;\">Most drugs are produced as a semi-batch process where a second reactant is input into the reactor.\n",
    " Penicillin is produced by the penicillin fungus at low concentrations of __glucose__. Therfore  it is essential to periodically add glucose to the reactor to supply the fungus with nutrients.</p>"
   ]
  },
  {
   "cell_type": "markdown",
   "metadata": {
    "collapsed": true
   },
   "source": [
    "## 2.1.5-Quiz: What type of processes are these?\n",
    "\n",
    "1. The chocolate level of the middle tray of a chocolate fondue fountain.\n",
    "\n",
    "2. A queue for a rollercoaster?\n",
    "\n",
    "3. A second year class of chemical engineers going through the engineering process.\n",
    "\n",
    "4. The chemical and biological engineering program on students.\n",
    "\n",
    "### Answer: What type of processes are these?\n",
    "\n",
    "1. This is a __continuous process__ as the rate of which the chocolate is entering the middle tray and exiting the middle tray is the same. \n",
    "\n",
    "2. This __depends__ the output flow is always constant as the rollercoaster will take x amount of people at a constant rate. If the input of people is constant, then this is a continuous process. If there are a staggered amount of people coming in at different times then this is a fed-batch process.\n",
    "\n",
    "3. Watch the control volume of  this one.  The focus of this is  on a single class.  If the whole class finishes at the same time then this would be a __batch process__, however; thiss is not the case. A __fed-batch__ is more representative as there are students joining from exchange and leaving for co-op at varying rates.\n",
    "\n",
    "4. This problem is an extension of problem 3. now instead of the control volume being one class of students it is the department that hosts all chemical engineering students. As a whole, this is best represented by a __continuous__ process. Students are getting admitted at a constant rate and leaving at a constant rate as well. "
   ]
  },
  {
   "cell_type": "code",
   "execution_count": null,
   "metadata": {
    "collapsed": true
   },
   "outputs": [],
   "source": []
  },
  {
   "cell_type": "code",
   "execution_count": null,
   "metadata": {
    "collapsed": true
   },
   "outputs": [],
   "source": []
  },
  {
   "cell_type": "code",
   "execution_count": null,
   "metadata": {
    "collapsed": true
   },
   "outputs": [],
   "source": []
  }
 ],
 "metadata": {
  "kernelspec": {
   "display_name": "Python 3",
   "language": "python",
   "name": "python3"
  },
  "language_info": {
   "codemirror_mode": {
    "name": "ipython",
    "version": 3
   },
   "file_extension": ".py",
   "mimetype": "text/x-python",
   "name": "python",
   "nbconvert_exporter": "python",
   "pygments_lexer": "ipython3",
   "version": "3.6.1"
  }
 },
 "nbformat": 4,
 "nbformat_minor": 2
}
