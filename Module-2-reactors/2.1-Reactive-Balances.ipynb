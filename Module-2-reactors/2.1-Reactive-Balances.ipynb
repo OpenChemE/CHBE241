{
 "cells": [
  {
   "cell_type": "markdown",
   "metadata": {
    "foo": true
   },
   "source": [
    "# 2.1 &ndash; Reactive Balances"
   ]
  },
  {
   "cell_type": "markdown",
   "metadata": {},
   "source": [
    "## 2.1.0-Learning Objectives\n",
    "\n",
    "By the end of this section you should be able to:\n",
    "\n",
    "1. Understand two of the three reactive balance methods.\n",
    "\n",
    "## 2.1.1-Introduction\n",
    "\n",
    "Often when we evaluate processes, __chemical reactions__ take place. These chemical reactions __add complexity__ to our system by introducing new unknowns. To reduce these complexities, we can use __molecular species balances__, __atomic balances__ or the __extent of reactions__ to help solve problems."
   ]
  },
  {
   "cell_type": "markdown",
   "metadata": {},
   "source": [
    "## 2.1.2-The Production of Ethylene\n",
    "\n",
    "> Ethylene is a major chemical product primarily used to form the platic polyethylene.\n",
    "\n",
    "> It is also a natural chemical released by fruits to ripen. You can separate your bananas to help them ripen faster. \n",
    "\n",
    "Let's consider the production of ethylene in steady-state.\n",
    "In production, Ethylene is formed by the dehydrogenation of Ethane:\n",
    "\n",
    "$$\n",
    "    C_2H_{6 \\space (g)} \\longrightarrow C_2H_{4 \\space (g)} + H_{2 \\space (g)}\n",
    "$$\n",
    "\n",
    "![](../figures/Module-2/Flow-2.1-2.svg)"
   ]
  },
  {
   "cell_type": "markdown",
   "metadata": {},
   "source": [
    "## 2.1.3-Molecular Species Balance\n",
    "\n",
    "The __molecular species balances__ are the balances of all chemical compounds in this reaction.\n",
    "\n",
    "$$C_2 H_6 \\space \\text{balance}: \\space Accumulation = Input -Output +Generation - Consumpion $$\n",
    "\n",
    "Since the system is in steady state and the reaction does not produce Ethane: \n",
    "\n",
    "$$ Accumulation = 0 , \\space Generation = 0 $$\n",
    "\n",
    "Rearranging and applying similar logic to the other species give us 3 equations:\n",
    "\n",
    "$$ C_2 H_6 \\space \\text{balance}: \\space Input =Output + Consumption $$\n",
    "\n",
    "$$ C_2 H_4 \\space \\text{balance}:\\space Generation = Output$$\n",
    "   \n",
    "$$ H_2 \\space \\text{balance}: \\space Generation = Output $$\n"
   ]
  },
  {
   "cell_type": "markdown",
   "metadata": {},
   "source": [
    "## 2.1.3-Atomic Species Balance\n",
    "\n",
    "The __atomic species balances__ are the balances of all the elemental species in this reaction.\n",
    "\n",
    "The Two species here are Hydrogen and Carbon. \n",
    "\n",
    "Atomic species **must** follow the law of conservation, thus both species take on the equation:\n",
    "\n",
    "$$ Carbon (C)  \\space  \\text{balance}: Input = Output$$\n",
    "$$ Hydrogen (H) \\space \\text{balance}: Input = Output$$"
   ]
  },
  {
   "cell_type": "code",
   "execution_count": null,
   "metadata": {
    "collapsed": true
   },
   "outputs": [],
   "source": []
  }
 ],
 "metadata": {
  "anaconda-cloud": {},
  "kernelspec": {
   "display_name": "Python 3",
   "language": "python",
   "name": "python3"
  },
  "language_info": {
   "codemirror_mode": {
    "name": "ipython",
    "version": 3
   },
   "file_extension": ".py",
   "mimetype": "text/x-python",
   "name": "python",
   "nbconvert_exporter": "python",
   "pygments_lexer": "ipython3",
   "version": "3.6.1"
  }
 },
 "nbformat": 4,
 "nbformat_minor": 2
}
