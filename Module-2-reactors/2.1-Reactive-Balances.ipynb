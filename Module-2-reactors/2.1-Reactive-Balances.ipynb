{
 "cells": [
  {
   "cell_type": "markdown",
   "metadata": {
    "foo": true
   },
   "source": [
    "# 2.1 &ndash; Reactive Balances"
   ]
  },
  {
   "cell_type": "markdown",
   "metadata": {},
   "source": [
    "## 2.1.0-Learning Objectives\n",
    "\n",
    "By the end of this section you should be able to:\n",
    "\n",
    "1. Understand two of the three reactive balance methods.\n",
    "\n",
    "## 2.1.1-Introduction\n",
    "\n",
    "Often when we evaluate processes, __chemical reactions__ take place. These chemical reactions __add complexity__ to our system by introducing new unknowns. To reduce these complexities, we can use __molecular species balances__, __atomic balances__ or the __extent of reactions__ to help solve problems."
   ]
  },
  {
   "cell_type": "markdown",
   "metadata": {},
   "source": [
    "## 2.1.2-The Production of Ethylene\n",
    "\n",
    "> Ethylene is a major chemical product primarily used to form the platic polyethylene.\n",
    "\n",
    "> It is also a natural chemical released by fruits to ripen. You can separate your bananas to help them ripen faster. \n",
    "\n",
    "Let's consider the production of ethylene in steady-state.\n",
    "In production, Ethylene is formed by the dehydrogenation of Ethane:\n",
    "\n",
    "$$\n",
    "    C_2H_{6 \\space (g)} \\longrightarrow C_2H_{4 \\space (g)} + H_{2 \\space (g)}\n",
    "$$\n",
    "\n",
    "![](../figures/Module-2/Flow-2.1-2.svg)"
   ]
  },
  {
   "cell_type": "markdown",
   "metadata": {},
   "source": [
    "## 2.1.3-Molecular Species Balance\n",
    "\n",
    "The __molecular species balances__ are the balances of all chemical compounds in this reaction.\n",
    "\n",
    "$$C_2 H_6 \\space \\text{balance}: \\space Accumulation = Input -Output +Generation - Consumpion $$\n",
    "\n",
    "Since the system is in steady state and the reaction does not produce Ethane: \n",
    "\n",
    "$$ Accumulation = 0 , \\space Generation = 0 $$\n",
    "\n",
    "Rearranging and applying similar logic to the other species give us 3 equations:\n",
    "\n",
    "### $C_2 H_6$ balance: $Input = Output + Consumption$\n",
    "\n",
    "$$ 10 \\space \\frac{kmol}{h} = \\dot{n}_{(1, \\space C_2 H_6)} + Consumption_{C_2 H_6} $$\n",
    "\n",
    "### $C_2 H_4$ balance: $Generation = Output$\n",
    "\n",
    "$$ Generation_{C_2 H_4} = \\dot{n}_{(2, \\space C_2 H_4)} $$\n",
    "\n",
    "### $H_2$ balance: $Generation = Output$\n",
    "\n",
    "$$ Generation_{H_2} = 4 \\space \\frac{kmol}{h} $$\n",
    "\n",
    "Since the reaction above has a 1:1:1 ratio for the molecular species, we know that $Generation_{H_2} = Generation_{C_2 H_4} = Consumption_{C_2 H_6}$. Therefore,\n",
    "\n",
    "$$ \\dot{n}_{(2, \\space C_2 H_4)} = 4 \\space \\frac{kmol}{h} $$\n",
    "\n",
    "$$ \\dot{n}_{(1, \\space C_2 H_6)} = 6 \\space \\frac{kmol}{h} $$"
   ]
  },
  {
   "cell_type": "markdown",
   "metadata": {},
   "source": [
    "## 2.1.3-Atomic Species Balance\n",
    "\n",
    "The __atomic species balances__ are the balances of all the elemental species in this reaction.\n",
    "\n",
    "The Two species here are Hydrogen and Carbon. \n",
    "\n",
    "Atomic species **must** follow the law of conservation, thus both species take on the equation:\n",
    "\n",
    "### Carbon (C) balance: $Input = Output$\n",
    "\n",
    "$$ 10 \\space \\frac{kmol \\space C_2 H_6}{h} \\times \\frac{2 \\space kmol \\space C}{1 \\space kmol \\space C_2 H_6} = \\dot{n}_{(1, \\space C_2 H_6)} \\times \\frac{2 \\space kmol \\space C}{1 \\space kmol \\space C_2 H_6} + \\dot{n}_{(2, \\space C_2 H_4)} \\times \\frac{2 \\space kmol \\space C}{1 \\space kmol \\space C_2 H_4} $$\n",
    "\n",
    "$$ 10 \\space \\frac{kmol \\space C}{h} = \\dot{n}_{(1, \\space C_2 H_6)} + \\dot{n}_{(2, \\space C_2 H_4)} $$\n",
    "\n",
    "### Hydrogen (H) balance: $Input = Output$\n",
    "\n",
    "$$ 10 \\space \\frac{kmol \\space C_2 H_6}{h} \\times \\frac{6 \\space kmol \\space H}{1 \\space kmol \\space C_2 H_6} = 4 \\space \\frac{kmol \\space H_2}{h} \\times \\frac{2 \\space kmol \\space H}{1 \\space kmol \\space H_2} + \\dot{n}_{(1, \\space C_2 H_6)} \\times \\frac{6 \\space kmol \\space H}{1 \\space kmol \\space C_2 H_6} + \\dot{n}_{(2, \\space C_2 H_4)} \\times \\frac{6 \\space kmol \\space H}{1 \\space kmol \\space C_2 H_4} $$\n",
    "\n",
    "$$ 52 \\space \\frac{kmol \\space C}{h} = 6 \\space \\dot{n}_{(1, \\space C_2 H_6)} + 4 \\space \\dot{n}_{(2, \\space C_2 H_4)} $$\n",
    "\n",
    "$$ \\therefore \\space \\dot{n}_{(1, \\space C_2 H_6)} = 6 \\space \\frac{kmol}{h} $$\n",
    "\n",
    "$$ \\therefore \\space \\dot{n}_{(2, \\space C_2 H_4)} = 4 \\space \\frac{kmol}{h} $$"
   ]
  },
  {
   "cell_type": "code",
   "execution_count": null,
   "metadata": {
    "collapsed": true
   },
   "outputs": [],
   "source": []
  }
 ],
 "metadata": {
  "anaconda-cloud": {},
  "kernelspec": {
   "display_name": "Python 3",
   "language": "python",
   "name": "python3"
  },
  "language_info": {
   "codemirror_mode": {
    "name": "ipython",
    "version": 3
   },
   "file_extension": ".py",
   "mimetype": "text/x-python",
   "name": "python",
   "nbconvert_exporter": "python",
   "pygments_lexer": "ipython3",
   "version": "3.6.1"
  }
 },
 "nbformat": 4,
 "nbformat_minor": 2
}
