{
 "cells": [
  {
   "cell_type": "markdown",
   "metadata": {},
   "source": [
    "## 2.5.0-Learning Objectives\n",
    "\n",
    "By the end of this section you should be able to:\n",
    "\n",
    "1. Understand the Product, effluent and waste streams.\n",
    "2. Plot a logarithmic plot\n",
    "3. Convert a logarithmic plot into a linear plot.\n",
    "4. Roughly asses a plot and its strengths and shortcomings\n"
   ]
  },
  {
   "cell_type": "markdown",
   "metadata": {},
   "source": [
    "\n",
    "## 2.5.1-Problem statement\n",
    ">A pharmaceutical product, P, is made in a batch reactor. The reactor effluent goes through a purification\n",
    "\n",
    ">process to yield a final product stream and a waste stream. The initial charge (feed) to the\n",
    "reactor and the final product are each weighed, and the reactor effluent, final product, and waste stream are each analyzed for P.\n",
    "\n",
    ">The analyzer calibration is a series of meter readings, corresponding\n",
    "to known mass fractions of P.\n",
    "\n",
    "<table>\n",
    "\t<tr>\n",
    "        <th>xp</th>\n",
    "\t\t<td>0.08</td>\n",
    "\t\t<td>0.16</td>\n",
    "\t\t<td>0.25</td>\n",
    "\t\t<td>0.45</td>\n",
    "\t</tr>\n",
    "\t<tr>\n",
    "    <th>R</th>\n",
    "\t\t<td>105</td>\n",
    "\t\t<td>160</td>\n",
    "\t\t<td>245</td>\n",
    "\t\t<td>360</td>\n",
    "\t</tr>\n",
    "</table>\n",
    "a) Plot the analyzer calibration data on logarithmic axes and determine an expression for ( ).\n",
    "\n",
    "The data sheet for one run is shown below:\n",
    "\n",
    ">Batch : 23601 Date: 10/4\n",
    "\n",
    ">Mass charged to reactor: 2253 kg\n",
    "\n",
    ">Mass of purified product: 1239 kg\n",
    "\n",
    ">Reactor effluent analysis: R= 388\n",
    "\n",
    ">Final product analysis: R= 583\n",
    "\n",
    ">Waste stream analysis: R= 140\n",
    "\n",
    "b) Calculate the mass fractions of P in all three streams. Then calculate the percentage yield of the purification process,\n",
    "$$ \\frac {kg \\space P \\space in \\space final \\space product}{kg \\space P  \\space in \\space reactor\\space effluent} *100 $$\n",
    "\n",
    "c) You are the engineer in charge of the process. You review the given run sheet and the calculations\n",
    "of part (b), perform additional balance calculations, and realize that all of the recorded run data\n",
    "\n",
    "cannot possibly be correct. State how you know, itemize possible causes of the problem, state\n",
    "which cause is most likely, and suggest a step to correct it\n"
   ]
  },
  {
   "cell_type": "code",
   "execution_count": 2,
   "metadata": {},
   "outputs": [
    {
     "name": "stdout",
     "output_type": "stream",
     "text": [
      "Part a)\n",
      "slope:1.3645457425169747,y-intercept:-8.839384358742024\n"
     ]
    },
    {
     "data": {
      "image/png": "[encoded data removed]",
      "text/plain": [
       "<matplotlib.figure.Figure at 0x24fc9399fd0>"
      ]
     },
     "metadata": {},
     "output_type": "display_data"
    }
   ],
   "source": [
    "%matplotlib inline\n",
    "import matplotlib.pyplot as plt\n",
    "import numpy as np\n",
    "\n",
    "xp = np.array([0.08,0.16,0.25,0.45])\n",
    "R = np.array([105,160,245,360])\n",
    "log_xp= np.log(xp)\n",
    "log_R = np.log(R)\n",
    "\n",
    "fit = np.polyfit(log_R,log_xp,1)\n",
    "fit_function = np.poly1d(fit) \n",
    "# fit_function is a function which takes in x and returns an estimate for y\n",
    "\n",
    "print(\"Part a)\")\n",
    "fig=plt.figure()\n",
    "fig1 = fig.add_subplot(221)\n",
    "plt.xlabel('R')\n",
    "plt.ylabel('xp')\n",
    "plt.title('R and  xp')\n",
    "fig2 = fig.add_subplot(222)\n",
    "# fig1.plt.plot(log_R,log_xp, 'yo', log_R, fit_function(log_R), '--k')\n",
    "fig1.plot(log_R,log_xp, 'yo', log_R, fit_function(log_R), '--k')\n",
    "plt.xlabel('log_R')\n",
    "plt.ylabel('log_xp')\n",
    "plt.title('log R compared to log xp+regression')\n",
    "\n",
    "fig2.plot(R,xp)\n",
    "print(\"slope:{},y-intercept:{}\".format(fit[0],fit[1]))\n",
    "\n",
    "\n",
    "\n",
    "plt.tight_layout(pad=2, w_pad=2, h_pad=1.0)"
   ]
  },
  {
   "cell_type": "markdown",
   "metadata": {},
   "source": [
    "This is the logarithmic plot:\n",
    "\n",
    "$$ \\log{xp} = 1.36\\log{R} -8.839  $$ \n",
    "\n",
    "We want to __linearize__ this logarithmic plot better correlates the data.\n",
    "Taking the exponent of this function to get an expression of x: \n",
    "\n",
    "$$ xp = e^{-8.839}*R^{1.36} $$"
   ]
  },
  {
   "cell_type": "code",
   "execution_count": 10,
   "metadata": {},
   "outputs": [
    {
     "name": "stdout",
     "output_type": "stream",
     "text": [
      "Part b:\n",
      "Using the derived power function from part a we will fit \n",
      "each of R values from their respective streams.\n",
      "\n",
      "\n",
      "The mass fractions for the individual streams are: \n",
      "Effluent: 0.4939505334927248 \n",
      "Final product: 0.860964810355995 \n",
      "Waste stream: 0.12291192587049399\n",
      "The yield is: 95.8544008692822 percent\n"
     ]
    }
   ],
   "source": [
    "print ( \"Part b:\")\n",
    "print (\"Using the derived power function from part a we will fit \\neach of R values from their respective streams.\\n\\n\")\n",
    "\n",
    "# Remember that fit[] is an array that stores the slope and the y intercept \n",
    "eff = np.exp(fit[1])*388**fit[0]\n",
    "final =np.exp(fit[1])*583**fit[0]\n",
    "waste =np.exp(fit[1])*140**fit[0]\n",
    "\n",
    "print (\"The mass fractions for the individual streams are: \\nEffluent: {} \\nFinal product: {} \\nWaste stream: {}\".format(eff,final,waste))\n",
    "mass_of_P_effluent = 2253 * eff\n",
    "mass_of_P_product = 1239 *final\n",
    "P_yield = mass_of_P_product/mass_of_P_effluent*100\n",
    "\n",
    "print(\"The yield is: {} percent\".format(P_yield))\n"
   ]
  },
  {
   "cell_type": "code",
   "execution_count": 11,
   "metadata": {},
   "outputs": [
    {
     "name": "stdout",
     "output_type": "stream",
     "text": [
      "part C:\n",
      "Mass of waste: 1014\n",
      "Mass of P: 124.6326928326809\n"
     ]
    }
   ],
   "source": [
    "print(\"part C:\")\n",
    "mass_of_P_waste = waste *(2253-1239)\n",
    "mass_of_waste = 2253-1239\n",
    "\n",
    "print( \"Mass of waste: {}\\nMass of P: {}\".format(mass_of_waste, mass_of_P_waste))\n"
   ]
  },
  {
   "cell_type": "markdown",
   "metadata": {},
   "source": [
    "The mass of P in the product stream plus the waste stream should equal to the mass of P in the effluent stream. Let us check if that is true:"
   ]
  },
  {
   "cell_type": "code",
   "execution_count": 23,
   "metadata": {},
   "outputs": [
    {
     "data": {
      "text/plain": [
       "False"
      ]
     },
     "execution_count": 23,
     "metadata": {},
     "output_type": "execute_result"
    }
   ],
   "source": [
    "mass_of_P_effluent == mass_of_P_product+mass_of_P_waste\n"
   ]
  },
  {
   "cell_type": "markdown",
   "metadata": {},
   "source": [
    "Uh oh"
   ]
  },
  {
   "cell_type": "code",
   "execution_count": 12,
   "metadata": {},
   "outputs": [
    {
     "name": "stdout",
     "output_type": "stream",
     "text": [
      "Mass of P in the effluent is: 1112.870551959109\n",
      "and the mass of the combined stream is: 1191.3680928637589\n"
     ]
    }
   ],
   "source": [
    "print(\"Mass of P in the effluent is: {}\\nand the mass of the combined stream is: {}\".format(mass_of_P_effluent,mass_of_P_waste+mass_of_P_product))"
   ]
  },
  {
   "cell_type": "markdown",
   "metadata": {},
   "source": [
    "\n",
    "\n",
    "Errors include:\n",
    " - few data points \n",
    " - inaccurate R readings \n",
    " - inaccurate xp readings \n",
    " - inaccurate weight readings\n",
    " - __poor fit of regression__\n",
    " - inaccurate model (what if the function is not a power fit)\n",
    " \n",
    " The error of the mass balance is relatively small. This error is due most likely to the fitted curve from which the R value is interpolated on. The __ideal__ solution is to perform more analyses with more data points."
   ]
  },
  {
   "cell_type": "code",
   "execution_count": null,
   "metadata": {
    "collapsed": true
   },
   "outputs": [],
   "source": []
  }
 ],
 "metadata": {
  "kernelspec": {
   "display_name": "Python 3",
   "language": "python",
   "name": "python3"
  },
  "language_info": {
   "codemirror_mode": {
    "name": "ipython",
    "version": 3
   },
   "file_extension": ".py",
   "mimetype": "text/x-python",
   "name": "python",
   "nbconvert_exporter": "python",
   "pygments_lexer": "ipython3",
   "version": "3.6.1"
  }
 },
 "nbformat": 4,
 "nbformat_minor": 2
}
