{
 "cells": [
  {
   "cell_type": "markdown",
   "metadata": {},
   "source": [
    "# Fractional-conversion-Yield-Selectivity-excess"
   ]
  },
  {
   "cell_type": "markdown",
   "metadata": {},
   "source": [
    "\n",
    "## Learning Objectives\n",
    "\n",
    "By the end of this section you should be able to:\n",
    "\n",
    "1. Understand fractional conversion, yield, selectivity and, excess.\n",
    "\n",
    "## Introduction\n",
    "\n",
    "> Fractional conversion, yield, selectivity, and % excess are all important methods of describing how a chemical reaction progresses. They are useful values to solve material balances.\n"
   ]
  },
  {
   "cell_type": "markdown",
   "metadata": {},
   "source": [
    "## Fractional conversion\n",
    "> Fractional conversion is defined as the amount of mols of a compound that reacted divided by the amount of the mols\n",
    "that were fed. \n",
    "\n",
    "\n",
    "$$Fractional \\space conversion: \\frac{\\dot{n}_{consumed}}{\\dot{n}_{input}} $$ \n",
    "> Another useful form of writing conversion is $$Fractional \\space conversion: \\frac{\\dot{n}_{input}-\\dot{n}_{output}}{\\dot{n}_{input}}$$"
   ]
  },
  {
   "cell_type": "markdown",
   "metadata": {},
   "source": [
    "## Yield (fractional yield)\n",
    "\n",
    "> Yield is defined as the mols of product formed divided by the ideal amount of mols formed. \n",
    "\n",
    " $$ Yield = \\frac{\\dot{n}_{formed}}{\\dot{n}_{ideal}} $$\n",
    " \n",
    " > The ideal amount of mols formed is assuming that the limiting reactant reacts fully and that there are no side reactions.  "
   ]
  },
  {
   "cell_type": "markdown",
   "metadata": {},
   "source": [
    "## Selectivity\n",
    ">Selectivity is defined as the mols of desired __products__ formed divided by the mols of undesired __products__ formed.\n",
    "\n",
    " $$ Selectivity= \\frac{\\dot{n}_{product\\space desired}}{\\dot{n}_{product\\space undesired}} $$\n"
   ]
  },
  {
   "cell_type": "markdown",
   "metadata": {},
   "source": [
    "## Percent Excess\n",
    "> Percent excess is defined as the amount of mols that are unreacted divided by the  mols fed.\n",
    "$$Percent \\space excess: \\frac{\\dot{n}_{input}-\\dot{n}_{consumed\\space theorectically}}{\\dot{n}_{consumed\\space theorectically}}$$"
   ]
  },
  {
   "cell_type": "markdown",
   "metadata": {},
   "source": [
    "__note:__ any of these terms above can be expressed as a percent (by multiplying 100 to the values)"
   ]
  },
  {
   "cell_type": "markdown",
   "metadata": {
    "collapsed": true
   },
   "source": []
  },
  {
   "cell_type": "code",
   "execution_count": null,
   "metadata": {
    "collapsed": true
   },
   "outputs": [],
   "source": []
  }
 ],
 "metadata": {
  "kernelspec": {
   "display_name": "Python 3",
   "language": "python",
   "name": "python3"
  },
  "language_info": {
   "codemirror_mode": {
    "name": "ipython",
    "version": 3
   },
   "file_extension": ".py",
   "mimetype": "text/x-python",
   "name": "python",
   "nbconvert_exporter": "python",
   "pygments_lexer": "ipython3",
   "version": "3.6.1"
  }
 },
 "nbformat": 4,
 "nbformat_minor": 2
}
