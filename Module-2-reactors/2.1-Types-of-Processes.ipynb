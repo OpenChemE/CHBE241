{
 "cells": [
  {
   "cell_type": "markdown",
   "metadata": {},
   "source": [
    "# Types of Processes\n",
    "\n",
    "## Learning Objectives\n",
    "\n",
    "By the end of this section you should be able to:\n",
    "\n",
    "1. Understand the __three types of processes__ dominant in chemical engineeing.\n",
    "2. Be able to characterize processes into the three types  of processes.\n",
    "\n",
    "\n",
    "# Introduction\n",
    "\n",
    "Chemical processes can all be classified as:\n",
    "__Batch__, __Continuous-flow__, and  __Semi-batch__ and as __steady-state__ or __transient__ (unsteady-state). This notebook will cover the first three classifications. "
   ]
  },
  {
   "cell_type": "markdown",
   "metadata": {},
   "source": [
    "## Batch Processes\n",
    "\n",
    "> All reactants fed to the reactor at the beginning of the process and the products are removed when the reaction is complete. No reactants are fed to the reactor and no product is removed during the process.\n",
    "\n",
    "> *Note* The textbook refers to this as \"no mass crossing the system boundaries\" "
   ]
  },
  {
   "cell_type": "markdown",
   "metadata": {
    "collapsed": true
   },
   "source": [
    "#### Alcohol fermentation is a batch process\n",
    "\n",
    "\n",
    "Beer production is a classic example of a batch process. All the ingredients are input into the fermentation vessel and left to react.\n",
    "<div style=  \"float:left;\">\n",
    "<figure>\n",
    "<img src=\"https://scontent.cdninstagram.com/t51.2885-15/sh0.08/e35/p750x750/18878917_133394500563884_1492634223511601152_n.jpg?ig_cache_key=MTUyODAxMzA0NDk0NDExMjg0OA%3D%3D.2\" alt=\"\" style=\"height:300px; \" >\n",
    "\n",
    "</figure>\n",
    "<figcaption>Ubcchemecar</figcaption>\n",
    "\n",
    "</div>\n",
    "\n",
    "\n",
    "\n",
    "<p style =\"width:40%; margin-left: 300px;margin-top:40px;\">\n",
    "Our feeling when home brews take 3 weeks. 🙄🍺Yeast has been added and the primary fermenter has been sealed with an airlock, which allows carbon dioxide to escape but nothing to enter! -ubcchemecar </p>\n"
   ]
  },
  {
   "cell_type": "markdown",
   "metadata": {},
   "source": [
    "## Continuous flow processes\n",
    "\n",
    ">Continuous flow processes are where the inputs and outputs of the reactor flow at a constant rate"
   ]
  },
  {
   "cell_type": "markdown",
   "metadata": {},
   "source": [
    "#### A continuous flow process example\n",
    "Zoloft is a anti-depressant drug developed by Pfizer. 1-naph-thol, and 1,2-dichlorobenzene (below) are reacted with various catalysts then hydrogenated over a Pt/CaCO3 catalyst to form the drug. \n",
    "\n",
    "\n",
    "![](../figures/Module-2/Zoloft-process.png)\n",
    "\n",
    "\n",
    "\n",
    "\n",
    "\n",
    "\n",
    "<table >\n",
    "<th style=\"width: 60%;vertical-align: top;\">\n",
    "<p style = \" padding-top: 15px\">The continuous reactor takes in the substrate marked 1a above, hydrogen and carbon dioxide. and outputs the product (Zoloft) and the carbon dioxide.</p>\n",
    "   <p >The flow rates given are:\n",
    "   CO2=1.0 mL*min<sup>-1</sup>, organic = 0.4 mL min*<sup>-1</sup></p>\n",
    "      <p><i>Question:</i> Is it possible to determine the output flow?</p>\n",
    "<p><i>Answer:</i> No. Since volume is not a conserved property, there is not enough information here to determine the output flow.\n",
    "</p>\n",
    "</th>\n",
    "\n",
    "<th><img src=\"../figures/Module-2/continuous-flow-process.png\" alt=\"\" style=\"height:200px;\"></th>\n",
    "\n",
    "</table>\n"
   ]
  },
  {
   "cell_type": "markdown",
   "metadata": {
    "collapsed": true
   },
   "source": [
    "## Semi-Batch Processes\n",
    "\n",
    "> A semi-batch process is when reactants are __periodically__ added or products are periodically removed. \n",
    "The textbook defines Semi-batch processes as \"neither batch nor continuous.\"\n",
    "\n",
    "\n",
    "\n",
    "<img src=\"http://www.essentialchemicalindustry.org/images/stories/030_reactors/01-chem_reactorsA.jpg\" alt=\"\" style=\"height:300px; float:right;\" >\n",
    "<p style= \"width:50%; margin-top:45px;\">Most drugs are produced as a semi-batch process where a second reactant is input into the reactor.\n",
    " Penicillin is produced by the penicillin fungus at low concentrations of __glucose__. Therfore  it is essential to periodically add glucose to the reactor to supply the fungus with nutrients.</p>"
   ]
  },
  {
   "cell_type": "markdown",
   "metadata": {
    "collapsed": true
   },
   "source": [
    "## Quiz: What type of processes are these?\n"
   ]
  },
  {
   "cell_type": "code",
   "execution_count": null,
   "metadata": {
    "collapsed": true
   },
   "outputs": [],
   "source": []
  }
 ],
 "metadata": {
  "kernelspec": {
   "display_name": "Python 3",
   "language": "python",
   "name": "python3"
  },
  "language_info": {
   "codemirror_mode": {
    "name": "ipython",
    "version": 3
   },
   "file_extension": ".py",
   "mimetype": "text/x-python",
   "name": "python",
   "nbconvert_exporter": "python",
   "pygments_lexer": "ipython3",
   "version": "3.6.1"
  }
 },
 "nbformat": 4,
 "nbformat_minor": 2
}
