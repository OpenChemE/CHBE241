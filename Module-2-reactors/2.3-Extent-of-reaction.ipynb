{
 "cells": [
  {
   "cell_type": "markdown",
   "metadata": {},
   "source": [
    "# The Extent of Reaction"
   ]
  },
  {
   "cell_type": "markdown",
   "metadata": {},
   "source": [
    "## Introduction \n",
    "\n",
    "> The extent of reaction is another method to solve reactive balances that occur. Although less intuitive than the molecular and atomic species balances, the extent of reaction is very useful when solving systems with computer aided software."
   ]
  },
  {
   "cell_type": "markdown",
   "metadata": {},
   "source": [
    "## The extent of reaction  \n",
    "\n",
    "The extent of reaction $\\xi$ (xi) is the basis of how far a given reaction has progressed. \n",
    "\n",
    "\n",
    "\n",
    "Let's look at the oxidation of glucose as an example (and ignore the ATP production) :\n",
    "\n",
    "$$\n",
    "    C_6H_{12}O_6 + 6O_2\\rightarrow + 6H_2O+ 6CO_2\n",
    "$$\n",
    "\n",
    "![](block5.svg)\n",
    "\n",
    "\n",
    "We break down the every molucalar species  in the form: \n",
    "$$ \\dot{n}_{speciesoutput} = \\dot{n}_{speciesinput} + v\\xi $$\n",
    "Which is often written as $$ \\dot{n}_{i} = \\dot{n}_{i0} + v_i\\xi $$\n",
    "Where $\\dot{n}$ is the mols in a system. \n",
    "\n",
    "$v$ is the stoichiometric coefficient in from of the reaction\n",
    "\n",
    "\n",
    "\n",
    "$\\xi$ is the extent of reaction. \n",
    "\n",
    "(remember that the __left__ side of the reaction is __negative__ since it is being consumed).\n",
    "\n",
    "> For example:\n",
    "\n",
    "\n",
    "the species of glucose becomes $\\dot{n} $Glucose$_{output}$:  $   = 20_{kmol/hr} -\\xi$\n",
    "\n",
    "$\\dot{n}$Oyxgen$_{ouput}$: $ = 400_{kmol/hr} - 6\\xi$\n",
    "\n",
    "$\\dot{n}$$H_2O_{ouput}$: $ = 6\\xi_{H_2O} $\n",
    "\n",
    "$\\dot{n}$$CO_{2ouput}$: $ = 6\\xi_{CO_2} $\n",
    "\n",
    "Since no glucose leaves $\\xi $ is 20. \n",
    "Using $\\xi$ we can solve  for the other values present.\n"
   ]
  },
  {
   "cell_type": "markdown",
   "metadata": {
    "collapsed": true
   },
   "source": [
    "since one mol of glucoose is consumed  __ notes __"
   ]
  },
  {
   "cell_type": "code",
   "execution_count": null,
   "metadata": {
    "collapsed": true
   },
   "outputs": [],
   "source": []
  }
 ],
 "metadata": {
  "kernelspec": {
   "display_name": "Python 3",
   "language": "python",
   "name": "python3"
  },
  "language_info": {
   "codemirror_mode": {
    "name": "ipython",
    "version": 3
   },
   "file_extension": ".py",
   "mimetype": "text/x-python",
   "name": "python",
   "nbconvert_exporter": "python",
   "pygments_lexer": "ipython3",
   "version": "3.6.1"
  }
 },
 "nbformat": 4,
 "nbformat_minor": 2
}
