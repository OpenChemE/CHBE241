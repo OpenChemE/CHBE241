{
 "cells": [
  {
   "cell_type": "markdown",
   "metadata": {},
   "source": [
    "# 3.3 &ndash; Process & Instrumentation Diagram (P&ID)"
   ]
  },
  {
   "cell_type": "markdown",
   "metadata": {},
   "source": [
    "## 3.3.0 &ndash; Learning objectives\n",
    "\n",
    "By the end of this notebook, you should be able to:\n",
    "\n",
    "1. Identify components of a Process & Instrumentation Diagram (P&ID).\n",
    "2. Identify the difference between a Block Flow Diagram (BFD), Process Flow Diagram (PFD) and a Process & Instrumentation Diagram (P&ID).\n",
    "\n",
    "## 3.3.1 &ndash; Introduction\n",
    "\n",
    "A P&ID is a detailed flow diagram of an entire process, like a chemical plant or waste water management system. A P&ID includes:\n",
    "- Piping\n",
    "- Vessels\n",
    "- Instrumentation\n",
    "- Control devices\n",
    "\n",
    "The main difference between a P&ID and a process flow diagram (PFD) is that a P&ID contains the details and dimensions of the piping, vessels, instrumentation and control devices instead of just the general types. A P&ID is much more detailed than a block fow diagram (BFD) because a BFD only uses a block or rectangle to represent individual steps in the process. \n",
    "\n",
    "You will **not** be tested based on a P&ID, nor will you be asked to retrieve information "
   ]
  },
  {
   "cell_type": "markdown",
   "metadata": {},
   "source": [
    "## Example"
   ]
  },
  {
   "cell_type": "markdown",
   "metadata": {},
   "source": [
    "![Figure 1](../figures/Module-3/P&IDexample.png)\n",
    "<div style = \"text-align:center;\">http://www.creativeengineers.com/wp-content/uploads/2015/06/pid.png</div>"
   ]
  },
  {
   "cell_type": "code",
   "execution_count": null,
   "metadata": {
    "collapsed": true
   },
   "outputs": [],
   "source": []
  }
 ],
 "metadata": {
  "anaconda-cloud": {},
  "kernelspec": {
   "display_name": "Python 3",
   "language": "python",
   "name": "python3"
  },
  "language_info": {
   "codemirror_mode": {
    "name": "ipython",
    "version": 3
   },
   "file_extension": ".py",
   "mimetype": "text/x-python",
   "name": "python",
   "nbconvert_exporter": "python",
   "pygments_lexer": "ipython3",
   "version": "3.6.1"
  }
 },
 "nbformat": 4,
 "nbformat_minor": 1
}
