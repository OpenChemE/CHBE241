{
 "cells": [
  {
   "cell_type": "markdown",
   "metadata": {},
   "source": [
    "# 4.5 &ndash; Phase Diagrams"
   ]
  },
  {
   "cell_type": "markdown",
   "metadata": {},
   "source": [
    "## Learning Objectives\n",
    "\n",
    "By the end of this section you should be able to:\n",
    "\n",
    "1. Understand what each line in a phase diagram represent.\n",
    "2. Understand what is in each region of a phase diagram.\n",
    "3. Understand what important points are on the phase diagram.\n",
    "4. Understand what the difference is between a vapour and gas.\n",
    "\n",
    "## Introduction\n",
    "\n",
    "**Phase diagrams** are used to show all the phases of a substance at different pressures and temperatures. Each line represents phase equilibrium or boundaries."
   ]
  },
  {
   "cell_type": "markdown",
   "metadata": {},
   "source": [
    "## Diagram\n",
    "\n",
    "Shown bellow is a typical phase diagram.\n",
    "\n",
    "<img src=\"../figures/Module-4/Phase_Diagram.png\" style= \"height:300px\">\n",
    "\n",
    "Attribution: [[::User:Matthieumarechal|Matthieumarechal]] [GFDL (http://www.gnu.org/copyleft/fdl.html) or CC-BY-SA-3.0 (http://creativecommons.org/licenses/by-sa/3.0/)], via Wikimedia Commons\n",
    "\n",
    "The **red line** represents the boundary between a solid and a vapour. In this area, solid will directly turn to a vapour or a vapour will directly turn into a solid such as dry ice and $CO_2$. The **dotted green line** represents the boundary between a liquid and a solid for polar fluids such as water. Since ice is less dense than liquid water, it causes the doted line to skew to the left. The **solid green line** represents the same thing as the **dotted green line** except for non-polar fluids. Finally, the **blue line** represents the boundary between a liquid and a vapour.\n",
    "\n",
    "Two main points of interest are the **triple point** and the **critical point**. The triple point is the point at which all three phases coexist at a certain pressure and temperature. The critical point is the point at which if you increase the pressure or temperature, a gas becomes indistinguishable from the liquid. The phase in this region is called a **supercritical fluid**.\n",
    "\n",
    "Another example of a phase diagram is shown below. This is the phase diagram of water.\n",
    "\n",
    "<img src=\"../figures/Module-4/Phase_diagram_of_water.png\" style= \"height:400px\">\n",
    "\n",
    "Attribution: By Cmglee (Own work) [CC BY-SA 3.0 (http://creativecommons.org/licenses/by-sa/3.0)], via Wikimedia Commons\n",
    "\n",
    "## Difference Between Vapour and Gas\n",
    "\n",
    "A substance is considered a **gas** when its temperature is **higher** than the critical temperature and below the critical pressure. A gas can not become a liquid by just increasing the pressure, you must also lower the temperature. \n",
    "\n",
    "A substance is considered a **vapour** when its temperature is **lower** than the critical temperature and below the critical pressure. A vapour can become a liquid by just increasing the pressure."
   ]
  },
  {
   "cell_type": "code",
   "execution_count": null,
   "metadata": {
    "collapsed": true
   },
   "outputs": [],
   "source": []
  }
 ],
 "metadata": {
  "kernelspec": {
   "display_name": "Python 3",
   "language": "python",
   "name": "python3"
  },
  "language_info": {
   "codemirror_mode": {
    "name": "ipython",
    "version": 3
   },
   "file_extension": ".py",
   "mimetype": "text/x-python",
   "name": "python",
   "nbconvert_exporter": "python",
   "pygments_lexer": "ipython3",
   "version": "3.6.1"
  }
 },
 "nbformat": 4,
 "nbformat_minor": 2
}
