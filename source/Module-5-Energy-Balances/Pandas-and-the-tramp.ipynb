{
 "cells": [
  {
   "cell_type": "code",
   "execution_count": 4,
   "metadata": {
    "collapsed": true,
    "deletable": true,
    "editable": true
   },
   "outputs": [],
   "source": [
    "import pandas as pd\n",
    "import numpy as np\n",
    "import matplotlib.pyplot as plt\n",
    "%matplotlib inline "
   ]
  },
  {
   "cell_type": "code",
   "execution_count": 5,
   "metadata": {
    "collapsed": true
   },
   "outputs": [],
   "source": [
    "from thermo.chemical import Chemical\n"
   ]
  },
  {
   "cell_type": "code",
   "execution_count": 26,
   "metadata": {
    "collapsed": false
   },
   "outputs": [
    {
     "name": "stdout",
     "output_type": "stream",
     "text": [
      "H1 is : 2997658.725917544 and H2 is 2977667.4454625463 \n",
      "-19991.280454997905\n"
     ]
    }
   ],
   "source": [
    "stm = Chemical('steam', T = 600, P = 1000000)\n",
    "stm2 = Chemical('steam', T = 600, P = 2000000)\n",
    "print( \"H1 is : {} and H2 is {} \".format(stm.H, stm2.H))\n",
    "mdH = (stm2.H - stm.H)*1000\n",
    "print(mdH/1000)"
   ]
  },
  {
   "cell_type": "markdown",
   "metadata": {},
   "source": [
    "dont know if the above calcs are right,  referencd saids notebook and they did not \n"
   ]
  },
  {
   "cell_type": "code",
   "execution_count": 32,
   "metadata": {
    "collapsed": false
   },
   "outputs": [
    {
     "name": "stdout",
     "output_type": "stream",
     "text": [
      "this is using series \n",
      "0    1.0\n",
      "1    3.0\n",
      "2    5.0\n",
      "3    NaN\n",
      "4    6.0\n",
      "5    8.0\n",
      "dtype: float64\n"
     ]
    }
   ],
   "source": [
    "s = pd.Series([1,3,5,np.nan,6,8])\n",
    "\n",
    "print(\"this is using series \")\n",
    "print(s)"
   ]
  },
  {
   "cell_type": "code",
   "execution_count": 37,
   "metadata": {
    "collapsed": false
   },
   "outputs": [
    {
     "name": "stdout",
     "output_type": "stream",
     "text": [
      "to create a dataframe with date and time\n",
      "DatetimeIndex(['2013-01-01', '2013-01-02', '2013-01-03', '2013-01-04',\n",
      "               '2013-01-05', '2013-01-06'],\n",
      "              dtype='datetime64[ns]', freq='D')\n",
      "                   w         x         y         z\n",
      "2013-01-01  0.724645 -0.658193 -1.107778 -0.622245\n",
      "2013-01-02 -1.699762 -1.929847 -1.182758  1.660930\n",
      "2013-01-03  0.485157  0.762217 -1.478101  1.366862\n",
      "2013-01-04  0.628847  0.103071  1.492589 -0.695239\n",
      "2013-01-05 -1.379030 -0.018160  1.189882  0.845499\n",
      "2013-01-06 -0.397771  0.547370 -0.164691 -0.708804\n"
     ]
    }
   ],
   "source": [
    "print( \"to create a dataframe with date and time\")\n",
    "dates = pd.date_range('20130101', periods=6)\n",
    "print(dates)\n",
    "df = pd.DataFrame(np.random.randn(6,4),index = dates, columns = list(\"wxyz\"))\n",
    "print(df)"
   ]
  },
  {
   "cell_type": "code",
   "execution_count": null,
   "metadata": {
    "collapsed": true
   },
   "outputs": [],
   "source": []
  }
 ],
 "metadata": {
  "kernelspec": {
   "display_name": "Python 3",
   "language": "python",
   "name": "python3"
  },
  "language_info": {
   "codemirror_mode": {
    "name": "ipython",
    "version": 3
   },
   "file_extension": ".py",
   "mimetype": "text/x-python",
   "name": "python",
   "nbconvert_exporter": "python",
   "pygments_lexer": "ipython3",
   "version": "3.5.2"
  }
 },
 "nbformat": 4,
 "nbformat_minor": 2
}
